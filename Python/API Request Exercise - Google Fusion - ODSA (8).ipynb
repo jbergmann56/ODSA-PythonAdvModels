{
 "cells": [
  {
   "cell_type": "code",
   "execution_count": 1,
   "metadata": {
    "collapsed": true
   },
   "outputs": [],
   "source": [
    "#Purpose: REST API Example using Stored stock market data, along with Google Fusion Tables\n",
    "import json\n",
    "import csv\n",
    "import requests  #GET/POST/PUT API requests\n",
    "from contextlib import closing  #utilities for common tasks involving the \"with\" statement."
   ]
  },
  {
   "cell_type": "code",
   "execution_count": 2,
   "metadata": {
    "collapsed": true
   },
   "outputs": [],
   "source": [
    "#Step 1 - Identify Resource: set url for json request\n",
    "view_url = 'https://accounts.google.com/o/oauth2/token'\n",
    "#Step 2 & 3 - Identify Endpoints, Methods and Set request parameters\n",
    "client_id='615800458288-5fktbjo6kmu18bpgl18glnj2l12mvg8i.apps.googleusercontent.com'\n",
    "client_secret='QowLGwV4wueqHpV_t1sotQVh'\n",
    "refresh_token = '1/vz7AvnbcT05ZJI-SQcFACqhaif9hXCfeuTM8n1DI12E'\n",
    "refresh_body = \"refresh_token=\" + refresh_token + '&client_id=' + client_id + '&client_secret=' + client_secret + '&grant_type=refresh_token'"
   ]
  },
  {
   "cell_type": "code",
   "execution_count": 3,
   "metadata": {},
   "outputs": [],
   "source": [
    "#Step 1-3) Obtain Google Fusion Tables OAuth keys from API JSON Response\n",
    "def API_POST_OAuth():\n",
    "    #set url for json request, then obtain json response/payload\n",
    "    headers = {'Content-type': 'application/x-www-form-urlencoded', 'Accept': 'text/plain'}\n",
    "    myResponse = requests.post(view_url, data=refresh_body, headers=headers)\n",
    "    # For successful API call, response code will be 200 (OK)\n",
    "    if(myResponse.ok):\n",
    "        # Loads (Load String) takes a Json file and converts into python data structure \n",
    "        # (dict or list, depending on JSON structure and number of records returned\n",
    "        jData = myResponse.content \n",
    "        # Loading the response data into a dict variable\n",
    "        jData = json.loads(jData) \n",
    "        print(\"The API Get Request Was Successful\")\n",
    "        print(\"\\n\")\n",
    "        return jData\n",
    "        \n",
    "    else:\n",
    "        # If response code is not ok (200), print the resulting http error code with description\n",
    "        print('API Error')\n",
    "        return ''"
   ]
  },
  {
   "cell_type": "code",
   "execution_count": 4,
   "metadata": {
    "collapsed": true
   },
   "outputs": [],
   "source": [
    "#Step 1-3) Google Fusion Table - Replace - API PUT\n",
    "def API_POST_Data(access_token, table_id, data):\n",
    "    data_view_url = \"https://www.googleapis.com/upload/fusiontables/v2/tables/\" + table_id + '/replace?&access_token=' + access_token + '&isStrict=false'\n",
    "    headers = {'Content-type': 'application/octet-stream'}\n",
    "    #create post response body - comma seperated string of all obs\n",
    "    print(range(len(data)))\n",
    "    print('iterate list')\n",
    "    data2 = \"\"\n",
    "    for i in range(len(data)):\n",
    "        dict1 = data[i]\n",
    "        dict2 = dict1['date'].replace(\",\",\"\") + ', ' + dict1['open'] + ', ' + dict1['close'] + ', ' + dict1['volume'].replace(\",\",\"\") + '\\n'\n",
    "        data2 = data2 + dict2  \n",
    "    myResponse = requests.post(data_view_url, data=data2, headers=headers)\n",
    "    print (myResponse.status_code)\n",
    "    # For successful API call, response code will be 200 (OK)\n",
    "    if(myResponse.status_code == 200):\n",
    "        return \"The API Post Request Was Successful\"\n",
    "    else:\n",
    "        #If response code is not ok (200), print the resulting http error code with description\n",
    "        return \"The API Post Request Was Not Successful\"\n"
   ]
  },
  {
   "cell_type": "code",
   "execution_count": 5,
   "metadata": {},
   "outputs": [
    {
     "name": "stdout",
     "output_type": "stream",
     "text": [
      "<class 'list'>\n",
      "OrderedDict([('date', 'Feb 06, 2019'), ('open', '174.65'), ('close', '174.24'), ('volume', '27,959,581')])\n",
      "The API Get Request Was Successful\n",
      "\n",
      "\n"
     ]
    }
   ],
   "source": [
    "#step 4 - create request data structure from csv file, to replace data in the \"OSDA Stock History\" google fusion table\n",
    "#https://fusiontables.google.com/data?docid=1a8EPfomscPkMYksFrlGoyU4utoT0QdLCpH9tySDP#rows:id=1 \n",
    "reader = csv.DictReader(open('C:\\\\Python\\\\Data\\\\stock_hist.csv'))\n",
    "stock_data = list(reader)\n",
    "print(type(stock_data)) #list of dictionaries\n",
    "print(stock_data[0])\n",
    "#Obtain Google Fusion OAuth token \n",
    "data = API_POST_OAuth()\n",
    "access_token = data['access_token']"
   ]
  },
  {
   "cell_type": "code",
   "execution_count": 6,
   "metadata": {},
   "outputs": [
    {
     "name": "stdout",
     "output_type": "stream",
     "text": [
      "range(0, 99)\n",
      "iterate list\n",
      "200\n",
      "The API Post Request Was Successful\n"
     ]
    }
   ],
   "source": [
    "#Put data in google fusion table\n",
    "#https://fusiontables.google.com/data?docid=1a8EPfomscPkMYksFrlGoyU4utoT0QdLCpH9tySDP#rows:id=1\n",
    "table_id = '1a8EPfomscPkMYksFrlGoyU4utoT0QdLCpH9tySDP'\n",
    "#convert stock_data to json fiel\n",
    "status = API_POST_Data(access_token, table_id, stock_data)  #\"put\" data using API class\n",
    "print(status)"
   ]
  },
  {
   "cell_type": "code",
   "execution_count": 7,
   "metadata": {},
   "outputs": [],
   "source": [
    "#end"
   ]
  }
 ],
 "metadata": {
  "kernelspec": {
   "display_name": "Python 3",
   "language": "python",
   "name": "python3"
  },
  "language_info": {
   "codemirror_mode": {
    "name": "ipython",
    "version": 3
   },
   "file_extension": ".py",
   "mimetype": "text/x-python",
   "name": "python",
   "nbconvert_exporter": "python",
   "pygments_lexer": "ipython3",
   "version": "3.7.1"
  }
 },
 "nbformat": 4,
 "nbformat_minor": 2
}
