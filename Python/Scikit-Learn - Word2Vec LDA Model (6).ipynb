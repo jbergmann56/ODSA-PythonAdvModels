{
 "cells": [
  {
   "cell_type": "code",
   "execution_count": 22,
   "metadata": {},
   "outputs": [],
   "source": [
    "#Goal - Refactor and Improve the Gensim Word2Vec LSI NLP model using Scikit-learn, adhering to the CRISP-DM Process\n",
    "\n",
    "#LDA Overview: LDA is technique in natural language processing of analyzing relationships between a set of documents \n",
    "#and the terms they contain by producing a set of concepts related to the documents and terms. \n",
    "#i.e. LDA assumes that words that are close in meaning will occur in similar pieces of text \n",
    "\n",
    "#global variable that work as model parameters - adjust for model performance \"fine-tuning\"\n",
    "n_samples = 2000 #sample size\n",
    "n_features = 1000 #name/entity recgonition & group selection (vectors)\n",
    "n_components = 5 #themes\n",
    "n_top_words = 10 #words per theme"
   ]
  },
  {
   "cell_type": "code",
   "execution_count": 23,
   "metadata": {},
   "outputs": [
    {
     "name": "stdout",
     "output_type": "stream",
     "text": [
      "Folder \"C:\\Users\\JTBVEN~1\\AppData\\Local\\Temp\" will be used to save temporary dictionary and corpus.\n"
     ]
    }
   ],
   "source": [
    "#import libraries for data structures and Gensim Word2Vec API\n",
    "import os\n",
    "import tempfile\n",
    "TEMP_FOLDER = tempfile.gettempdir()\n",
    "print('Folder \"{}\" will be used to save temporary dictionary and corpus.'.format(TEMP_FOLDER))\n",
    "import numpy as np\n",
    "import pandas as pd\n",
    "import gensim #open-source achine learning framework\n",
    "from gensim import corpora\n",
    "from gensim import models\n",
    "#data pre-processing tools from gensim package\n",
    "from gensim.parsing.preprocessing import strip_non_alphanum \n",
    "from gensim.parsing.preprocessing import strip_numeric\n",
    "from gensim.parsing.preprocessing import strip_punctuation\n",
    "from gensim.parsing.preprocessing import strip_multiple_whitespaces\n",
    "from gensim.parsing.preprocessing import strip_short\n",
    "#import scikit-learn & graphical libraries\n",
    "# Any results you write to the current directory are saved as output.\n",
    "from sklearn import preprocessing #data prep - module includes scaling, centering, normalization, binarization and imputation methods.\n",
    "from sklearn.feature_extraction import text #used for removing stop words and obtaining feature extraction from text\n",
    "import matplotlib.pyplot as plt\n",
    "import seaborn as sns #Seaborn is a Python data visualization library based on matplotlib. \n",
    "sns.set(style=\"white\") #white background style for seaborn plots\n",
    "sns.set(style=\"whitegrid\", color_codes=True)\n",
    "\n",
    "#import sklearn libraries for NLP prep, model bilding & validation steps - for use in Dataiku\n",
    "from sklearn.metrics import accuracy_score  #used for model evaluation - https://scikit-learn.org/stable/modules/model_evaluation.html#model-evaluation\n",
    "from sklearn.feature_extraction.text import CountVectorizer  #bag-of-words vectorication for LDA model\n",
    "from sklearn.decomposition import LatentDirichletAllocation #model for NLP topic extraction, similar to gensim LDA\n",
    "from sklearn.datasets import make_multilabel_classification #create random test dataset\n",
    "from sklearn.model_selection import train_test_split"
   ]
  },
  {
   "cell_type": "code",
   "execution_count": 24,
   "metadata": {},
   "outputs": [
    {
     "name": "stdout",
     "output_type": "stream",
     "text": [
      "CRISP-DM Task: Data Preparation\n",
      "Task 1: Read-in a text-based document, aka \"establishing the corpus\n",
      "Pandas File I/O Example - csv read\n",
      "        ID  Branch Interview Date Transaction Date Comment Type  \\\n",
      "0  4278642     355      2/24/2015        2/23/2015   Compliment   \n",
      "1  3329834     311      4/10/2014         4/9/2014   Compliment   \n",
      "2  4182303     353      1/14/2015        1/13/2015   Compliment   \n",
      "3  4228554     318       2/4/2015         2/3/2015   Compliment   \n",
      "4  3860433     351       9/4/2014         9/3/2014   Compliment   \n",
      "\n",
      "                                             Comment Follow-up  \\\n",
      "0  MY BANK is always good to me. I have banked wi...       NaN   \n",
      "1  MY BANK is the best for me. They help people w...       NaN   \n",
      "2  MY BANK has been 100 percent on top on any ban...       NaN   \n",
      "3  Absolutely no problems with them. Everything h...       NaN   \n",
      "4  Absolutely. They are efficient, courteous and ...       NaN   \n",
      "\n",
      "   Satisfaction Rating                                    Comment_NoComma  \\\n",
      "0                   10  MY BANK is always good to me. I have banked wi...   \n",
      "1                    8  MY BANK is the best for me. They help people w...   \n",
      "2                    8  MY BANK has been 100 percent on top on any ban...   \n",
      "3                    9  Absolutely no problems with them. Everything h...   \n",
      "4                    9  Absolutely. They are efficient courteous and h...   \n",
      "\n",
      "                                      Comment_Clean,  \n",
      "0  MY BANK is always good to me. I have banked wi...  \n",
      "1  MY BANK is the best for me. They help people w...  \n",
      "2  MY BANK has been 100 percent on top on any ban...  \n",
      "3  Absolutely no problems with them. Everything h...  \n",
      "4  Absolutely. They are efficient courteous and h...  \n"
     ]
    }
   ],
   "source": [
    "#CRISP-DM Task: Data Preparation \n",
    "#import favorite text-based dataset for analysis using pandas dataframe - compatible w/scikit-learn\n",
    "def read_text(path):\n",
    "    print(\"Pandas File I/O Example - csv read\")\n",
    "    text=pd.read_csv(path) #import to pandas DataFrame\n",
    "    return text #return pandas dataframe type\n",
    "\n",
    "print('CRISP-DM Task: Data Preparation')\n",
    "print('Task 1: Read-in a text-based document, aka \"establishing the corpus')\n",
    "documents = read_text(\"..\\Data\\Text_Mining_Sample_CSV.csv\") #Relative path - to tabular csv file \n",
    "print(documents.head())"
   ]
  },
  {
   "cell_type": "code",
   "execution_count": 34,
   "metadata": {},
   "outputs": [
    {
     "name": "stdout",
     "output_type": "stream",
     "text": [
      "Task 2: Preprocessing dataset, including stoplist, word frequencies & filters\n",
      "Task 2a: Remove punctuation, non-alphanumeric and numeric characters\n",
      "Preprocessing Corpus from pandas data frame\n"
     ]
    }
   ],
   "source": [
    "#preprocess data for use in text mining/NLP - refactored for pandas dataframe\n",
    "def preprocess_text(corpus,field_name = 'Comment'):\n",
    "    print(\"Preprocessing Corpus from pandas data frame\")\n",
    "    for index, row in corpus.iterrows():  #iterate through rows in dataframe\n",
    "        line = row['Comment'].strip('\\n')\n",
    "        line = strip_punctuation(line)\n",
    "        line = strip_non_alphanum(line)\n",
    "        line = strip_numeric(line)\n",
    "        line = strip_multiple_whitespaces(line)\n",
    "        line = strip_short(line)\n",
    "        #add cleaned text line to new dataframe\n",
    "        corpus.at[index,field_name] = line #set value at row/column in corpus dataframet            \n",
    "    return corpus\n",
    "\n",
    "print('Task 2: Preprocessing dataset, including stoplist, word frequencies & filters')\n",
    "print('Task 2a: Remove punctuation, non-alphanumeric and numeric characters')\n",
    "#apply preprocessing function to pandas df text field \"comment\" to create a \"raw\" text corpus\n",
    "raw_corpus = preprocess_text(documents,field_name = 'Comment') "
   ]
  },
  {
   "cell_type": "code",
   "execution_count": 26,
   "metadata": {},
   "outputs": [
    {
     "name": "stdout",
     "output_type": "stream",
     "text": [
      "Task 2b: remove english stopwords and add additional to remove from text document\n",
      "frozenset({'but', 'own', 'five', 'them', 'whereafter', 'within', 'for', 'anywhere', 'onto', 'done', 'be', 'him', 'least', 'whither', 'by', 'cry', 'thence', 'front', 'thus', 'behind', 'herein', 'formerly', 'ever', 'whence', 'thereupon', 'found', 'thereafter', 'already', 'anyhow', 'therein', 'seem', 'beforehand', 'somewhere', 'were', 'nobody', 'give', 'had', 'inc', 'elsewhere', 'along', 'up', 'back', 'everywhere', 'nowhere', 'could', 'herself', 'their', 'from', 'together', 'two', 'itself', 'couldnt', 'sincere', 'ie', 'become', 'yourself', 'take', 'here', 'con', 'down', 'last', 'now', 'must', 'wherever', 'twenty', 'ten', 'except', 'wherein', 'below', 'seemed', 'whole', 'has', 'hereupon', 'per', 'whose', 'you', 'been', 'almost', 'rather', 'whom', 'have', 'do', 'someone', 'although', 'upon', 'an', 'full', 'seems', 'out', 'nor', 'whereas', 'cannot', 'yet', 'de', 'they', 'its', 'a', 'due', 'name', 'first', 'further', 'amongst', 'then', 'while', 'over', 'un', 'less', 'ourselves', 'is', 'therefore', 'with', 'through', 'neither', 'towards', 'much', 'never', 'that', 'might', 'eight', 'anyone', 'former', 'whatever', 'amount', 'who', 'how', 'would', 'are', 'mine', 'and', 'mill', 'however', 'where', 'cant', 'via', 'of', 'himself', 'me', 'side', 'every', 'became', 'at', 'into', 'sometimes', 'during', 'some', 'becoming', 'nine', 'part', 'also', 'can', 'anyway', 'not', 'keep', 'which', 'move', 'afterwards', 'perhaps', 'under', 'without', 'am', 'put', 'hasnt', 'hers', 'no', 'still', 'what', 'empty', 'he', 'hence', 'everything', 'serious', 'whereupon', 'becomes', 'fill', 'namely', 'mostly', 'toward', 'moreover', 'twelve', 'indeed', 'call', 'most', 'few', 'three', 'those', 'made', 'before', 'both', 'find', 'if', 'beside', 'many', 'ours', 'as', 'hundred', 'after', 'alone', 'top', 'latter', 'his', 'seeming', 'very', 'because', 'being', 'so', 'between', 'sometime', 'thru', 'such', 'again', 'more', 'myself', 'across', 'was', 'there', 'bottom', 'ltd', 'thin', 'enough', 're', 'same', 'on', 'off', 'should', 'though', 'anything', 'somehow', 'it', 'see', 'only', 'thick', 'bill', 'describe', 'latterly', 'amoungst', 'my', 'each', 'fifteen', 'four', 'i', 'beyond', 'our', 'sixty', 'one', 'several', 'get', 'third', 'we', 'meanwhile', 'eleven', 'themselves', 'nothing', 'whoever', 'yourselves', 'besides', 'please', 'hereafter', 'else', 'her', 'next', 'either', 'any', 'against', 'everyone', 'otherwise', 'about', 'around', 'too', 'well', 'yours', 'since', 'may', 'often', 'throughout', 'etc', 'something', 'forty', 'these', 'interest', 'system', 'until', 'will', 'fifty', 'whenever', 'in', 'detail', 'us', 'to', 'none', 'among', 'whereby', 'noone', 'this', 'others', 'show', 'thereby', 'your', 'or', 'six', 'why', 'hereby', 'than', 'once', 'even', 'eg', 'all', 'nevertheless', 'she', 'fire', 'another', 'whether', 'co', 'when', 'the', 'above', 'go', 'other', 'always'})\n"
     ]
    }
   ],
   "source": [
    "print('Task 2b: remove english stopwords and add additional to remove from text document')\n",
    "#set stopword list - see here for set of english \"stop words\": https://github.com/scikit-learn/scikit-learn/blob/master/sklearn/feature_extraction/stop_words.py\n",
    "#scikit-learn uses a stoplist \"frozenset\" - immutable python set - \"ENGLISH_STOP_WORDS\" \n",
    "#use standard english stop words, along with aditionally defined in \"Union Statement\"\n",
    "stop_words = text.ENGLISH_STOP_WORDS.union({\"have\", \"with\", \"are\"}) \n",
    "\n",
    "print(stop_words)"
   ]
  },
  {
   "cell_type": "code",
   "execution_count": 27,
   "metadata": {},
   "outputs": [
    {
     "name": "stdout",
     "output_type": "stream",
     "text": [
      "Task 2b: create a BOW vector for use with Latent-Dirichlet-Allocation (LDA) Models, using assigned stop words\n",
      "{'bank': 142, 'good': 782, 'banked': 143, 'years': 2038, 'old': 1246, 'dealt': 457, 'personable': 1324, 'like': 1042, 'family': 664, 'best': 164, 'help': 853, 'people': 1318, 'really': 1455, 'need': 1196, 'percent': 1319, 'absolutely': 3, 'amazing': 53, 'tellers': 1811, 'way': 1972, 'provide': 1416, 'excellent': 625, 'service': 1604, 'time': 1843, 'walk': 1955, 'leave': 1026, 'satisfied': 1570, 'gotten': 787, 'better': 165, 'personal': 1325, 'attention': 113, 'problems': 1389, 'great': 796, 'happy': 834, 'trouble': 1880, 'whatsoever': 1992, 'efficient': 579, 'courteous': 417, 'helpful': 855, 'actually': 25, 'friendliness': 737, 'moved': 1181, 'ago': 42, 'opened': 1252, 'accounts': 12, 'led': 1028, 'direction': 505, 'long': 1075, 'don': 535, 'problem': 1388, 'fine': 700, 'know': 1000, 'doing': 532, 'haven': 841, 'banking': 146, 'kind': 993, 'questions': 1431, 'answered': 61, 'mentioned': 1146, 'things': 1828, 'told': 1851, 'makes': 1110, 'just': 982, 'thing': 1827, 'issue': 960, 'knows': 1005, 'reasons': 1458, 'talked': 1792, 'everybody': 622, 'pleasant': 1348, 'make': 1109, 'mistakes': 1165, 'greet': 799, 'treat': 1873, 'member': 1142, 'friend': 734, 'number': 1224, 'able': 1, 'aren': 92, 'branch': 188, 'manager': 1116, 'helps': 858, 'dressed': 552, 'nice': 1203, 'having': 842, 'months': 1175, 'sat': 1567, 'called': 222, 'main': 1106, 'took': 1853, 'wasn': 1966, 'ask': 96, 'transferring': 1868, 'money': 1172, 'ira': 955, 'going': 779, 'say': 1580, 'cari': 244, 'wells': 1987, 'welcoming': 1986, 'treats': 1876, 'respect': 1518, 'wonderful': 2017, 'addressed': 31, 'pleasure': 1350, 'deal': 453, 'effort': 581, 'asked': 97, 'rate': 1446, 'lot': 1086, 'conversation': 393, 'convenient': 392, 'anytime': 68, 'care': 241, 'convenience': 391, 'hours': 893, 'work': 2020, 'answer': 60, 'friendly': 738, 'located': 1068, 'assistance': 104, 'advise': 38, 'girls': 768, 'kids': 991, 'patient': 1308, 'close': 309, 'overdrawing': 1282, 'let': 1032, 'banks': 147, 'worked': 2021, 'weren': 1989, 'did': 494, 'business': 214, 'went': 1988, 'mistake': 1164, 'stayed': 1722, 'walking': 1957, 'door': 537, 'transfer': 1866, 'jackson': 964, 'month': 1174, 'pursue': 1424, 'needs': 1198, 'cashier': 251, 'area': 91, 'pull': 1419, 'previous': 1379, 'paperwork': 1296, 'transaction': 1864, 'history': 870, 'right': 1542, 'visit': 1943, 'impressed': 909, 'level': 1036, 'treated': 1874, 'members': 1143, 'pleased': 1349, 'provided': 1417, 'professional': 1397, 'polite': 1356, 'felt': 689, 'believe': 158, 'honest': 880, 'place': 1343, 'elharth': 584, 'north': 1214, 'constantly': 387, 'smiling': 1666, 'cash': 249, 'teller': 1810, 'says': 1582, 'trust': 1883, 'amy': 56, 'landlord': 1010, 'farm': 668, 'chase': 277, 'switched': 1783, 'basically': 150, 'feel': 683, 'little': 1056, 'left': 1029, 'chance': 266, 'customer': 437, 'mom': 1170, 'jeff': 966, 'monique': 1173, 'ones': 1249, 'sad': 1561, 'times': 1846, 'gone': 781, 'day': 449, 'snobby': 1670, 'person': 1323, 'information': 921, 'issues': 962, 'fixed': 706, 'immediately': 907, 'names': 1187, 'notice': 1217, 'vehicles': 1937, 'car': 238, 'loan': 1062, 'different': 498, 'helped': 854, 'explained': 644, 'terry': 1821, 'past': 1306, 'solved': 1677, 'companies': 342, 'draft': 545, 'account': 11, 'needed': 1197, 'fast': 671, 'general': 757, 'fraud': 726, 'taken': 1788, 'gets': 764, 'enjoy': 602, 'working': 2024, 'set': 1609, 'away': 131, 'benefits': 162, 'kinds': 996, 'overall': 1276, 'atmosphere': 110, 'wait': 1948, 'line': 1048, 'corner': 402, 'easy': 572, 'access': 6, 'prompt': 1405, 'come': 332, 'dealing': 454, 'nicer': 1205, 'employees': 594, 'shared': 1616, 'currently': 436, 'follow': 709, 'outstanding': 1275, 'feed': 681, 'fees': 686, 'use': 1923, 'online': 1250, 'appreciate': 83, 'eager': 565, 'hesitations': 863, 'awesome': 132, 'experience': 638, 'lots': 1087, 'happiness': 833, 'undivided': 1905, 'think': 1829, 'cheers': 285, 'feels': 685, 'home': 877, 'change': 267, 'new': 1201, 'maybe': 1134, 'bad': 137, 'experiences': 640, 'customers': 438, 'exactly': 623, 'loans': 1064, 'run': 1557, 'reason': 1456, 'waiting': 1950, 'remember': 1501, 'mannered': 1120, 'win': 2000, 'lottery': 1088, 'tomorrow': 1852, 'negative': 1199, 'friends': 739, 'came': 226, 'town': 1858, 'got': 786, 'greeter': 801, 'funds': 746, 'used': 1924, 'vital': 1946, 'connection': 380, 'welcome': 1984, 'mother': 1179, 'grandmother': 793, 'young': 2042, 'interested': 943, 'want': 1961, 'feeling': 684, 'love': 1090, 'clueless': 316, 'promptness': 1407, 'joy': 976, 'taking': 1790, 'distance': 523, 'website': 1977, 'bought': 182, 'house': 894, 'building': 210, 'downtown': 544, 'acknowledge': 15, 'human': 896, 'recommendations': 1469, 'far': 666, 'live': 1057, 'available': 126, 'deposit': 482, 'talk': 1791, 'somebody': 1679, 'huntington': 898, 'room': 1551, 'watch': 1968, 'snacks': 1669, 'coffee': 319, 'machine': 1099, 'question': 1429, 'couple': 415, 'overseas': 1286, 'satisfy': 1572, 'drive': 555, 'timely': 1845, 'candy': 232, 'speaks': 1692, 'look': 1078, 'buildings': 211, 'locally': 1067, 'owned': 1289, 'consistent': 386, 'basis': 151, 'matter': 1130, 'comfortable': 334, 'job': 970, 'correctly': 406, 'genuinely': 761, 'act': 17, 'desk': 490, 'loyal': 1095, 'known': 1004, 'zero': 2043, 'concerns': 369, 'honesty': 882, 'sincerity': 1646, 'conduct': 371, 'thank': 1823, 'recognize': 1465, 'legally': 1031, 'blind': 173, 'goes': 778, 'asks': 99, 'knowledgeable': 1003, 'recommended': 1470, 'equity': 610, 'checking': 282, 'elderly': 582, 'lady': 1008, 'means': 1137, 'complaints': 354, 'balance': 139, 'fargo': 667, 'shady': 1612, 'omitted': 1248, 'cashing': 252, 'check': 278, 'overdrafts': 1280, 'doesn': 530, 'eat': 574, 'lunch': 1098, 'hour': 892, 'divorce': 525, 'paid': 1292, 'wife': 1995, 'directly': 506, 'state': 1714, 'said': 1565, 'didn': 495, 'pay': 1310, 'gave': 756, 'prove': 1415, 'paying': 1311, 'saved': 1575, 'court': 416, 'battle': 154, 'nipped': 1210, 'bud': 209, 'fifth': 690, 'awful': 133, 'couldn': 409, 'handle': 826, 'street': 1742, 'martin': 1128, 'grocery': 809, 'store': 1737, 'double': 540, 'bang': 141, 'fits': 704, 'financial': 698, 'difficulties': 500, 'feet': 687, 'secure': 1591, 'small': 1661, 'acquired': 16, 'busy': 217, 'answers': 63, 'real': 1452, 'location': 1069, 'previously': 1380, 'easily': 571, 'won': 2015, 'parents': 1297, 'probably': 1387, 'college': 326, 'student': 1749, 'insure': 938, 'knowing': 1001, 'atm': 109, 'campus': 228, 'allow': 47, 'waive': 1953, 'type': 1895, 'open': 1251, 'till': 1842, 'night': 1207, 'sunday': 1765, 'franklin': 725, 'bristol': 202, 'satisfaction': 1569, 'big': 166, 'organization': 1267, 'today': 1849, 'world': 2026, 'dying': 564, 'art': 94, 'school': 1584, 'dealings': 455, 'computers': 364, 'waste': 1967, 'accurate': 14, 'understand': 1902, 'black': 171, 'white': 1993, 'started': 1712, 'extremely': 651, 'lived': 1058, 'states': 1718, 'personnel': 1331, 'cleanliness': 301, 'appearance': 79, 'attitude': 115, 'quick': 1432, 'sue': 1759, 'compare': 344, 'michigan': 1152, 'try': 1886, 'daughters': 448, 'staff': 1706, 'caused': 254, 'grief': 806, 'tell': 1809, 'clean': 300, 'duty': 563, 'recognition': 1464, 'neat': 1195, 'days': 451, 'enter': 605, 'relationship': 1497, 'personalized': 1329, 'proprietary': 1410, 'security': 1592, 'kindness': 995, 'charge': 272, 'breathed': 194, 'charged': 273, 'shouldn': 1627, 'fuss': 749, 'thought': 1833, 'okay': 1244, 'husband': 901, 'construction': 388, 'passed': 1303, 'charges': 274, 'mess': 1148, 'ready': 1451, 'manner': 1119, 'positive': 1364, 'greeting': 802, 'prior': 1385, 'familiar': 663, 'complaint': 353, 'fabulous': 653, 'pretty': 1378, 'trainees': 1862, 'exceptional': 626, 'special': 1693, 'joke': 974, 'step': 1726, 'surveys': 1778, 'inform': 920, 'specials': 1694, 'add': 27, 'assets': 101, 'hope': 886, 'stays': 1724, 'forever': 715, 'admire': 34, 'options': 1261, 'rates': 1447, 'informed': 923, 'informs': 924, 'brett': 197, 'mchoffer': 1135, 'bonnie': 176, 'hobbs': 872, 'services': 1607, 'visited': 1944, 'walmart': 1960, 'son': 1681, 'skills': 1654, 'gives': 770, 'second': 1590, 'minutes': 1161, 'max': 1133, 'named': 1186, 'carrie': 246, 'switch': 1782, 'waynedale': 1974, 'wouldn': 2031, 'deserve': 488, 'pat': 1307, 'award': 129, 'caring': 245, 'consideration': 384, 'wealthy': 1976, 'seriously': 1603, 'surprised': 1775, 'fashion': 669, 'experienced': 639, 'willing': 1997, 'stuff': 1751, 'handled': 827, 'grew': 805, 'kentucky': 987, 'indiana': 917, 'expect': 633, 'nicely': 1204, 'counter': 412, 'absolute': 2, 'wave': 1971, 'difficult': 499, 'sibling': 1633, 'yells': 2039, 'outside': 1274, 'whoop': 1994, 'disrespectful': 521, 'princess': 1381, 'horrible': 888, 'getting': 765, 'helping': 857, 'erica': 612, 'extra': 650, 'sure': 1773, 'understood': 1904, 'doubt': 541, 'behavior': 157, 'dog': 531, 'favorite': 675, 'cane': 233, 'suggested': 1762, 'easier': 570, 'surgery': 1774, 'arrangements': 93, 'sundays': 1766, 'factor': 657, 'organized': 1268, 'sorted': 1686, 'situation': 1652, 'indicate': 918, 'receive': 1460, 'held': 851, 'anyways': 69, 'inside': 929, 'overly': 1284, 'screen': 1586, 'appropriately': 85, 'proper': 1408, 'respectful': 1520, 'morning': 1177, 'heart': 848, 'required': 1512, 'smaller': 1662, 'larger': 1014, 'south': 1689, 'bend': 161, 'branches': 189, 'driving': 558, 'guess': 815, 'cup': 435, 'water': 1970, 'cold': 323, 'happen': 830, 'sit': 1650, 'thrus': 1838, 'bankers': 145, 'trip': 1879, 'fantastic': 665, 'personally': 1330, 'debit': 460, 'cards': 240, 'fashioned': 670, 'face': 654, 'checks': 283, 'operates': 1255, 'businesses': 215, 'solve': 1676, 'asking': 98, 'bunch': 212, 'supposed': 1772, 'address': 30, 'transactions': 1865, 'identification': 902, 'thorough': 1831, 'promptly': 1406, 'listen': 1053, 'point': 1353, 'clients': 308, 'actual': 24, 'instead': 932, 'works': 2025, 'girl': 766, 'cool': 395, 'wanted': 1962, 'treatment': 1875, 'ups': 1920, 'smooth': 1667, 'attentive': 114, 'comes': 333, 'matters': 1131, 'greetings': 803, 'heard': 847, 'answering': 62, 'changing': 270, 'offer': 1236, 'recommend': 1467, 'plan': 1346, 'bit': 170, 'kept': 988, 'performance': 1321, 'rush': 1559, 'waits': 1952, 'transact': 1863, 'trained': 1861, 'looking': 1080, 'internet': 948, 'laugh': 1019, 'tease': 1803, 'talking': 1793, 'age': 41, 'meet': 1140, 'music': 1185, 'accommodating': 8, 'period': 1322, 'life': 1040, 'weekend': 1980, 'closest': 312, 'staying': 1723, 'jamie': 965, 'dread': 549, 'whack': 1991, 'apologize': 72, 'minute': 1160, 'checked': 281, 'decided': 464, 'stay': 1721, 'guys': 819, 'paperless': 1295, 'rapport': 1443, 'girlfriend': 767, 'comma': 336, 'finally': 695, 'tea': 1798, 'cookies': 394, 'copies': 399, 'seven': 1611, 'interaction': 941, 'feedback': 682, 'eric': 611, 'discussion': 516, 'listening': 1055, 'end': 596, 'results': 1528, 'hesitate': 861, 'clerk': 305, 'employee': 593, 'cut': 439, 'personalities': 1326, 'stood': 1734, 'guy': 818, 'mile': 1155, 'quickly': 1433, 'smile': 1664, 'dress': 551, 'explain': 643, 'finest': 701, 'country': 413, 'theirs': 1826, 'usually': 1929, 'smoothly': 1668, 'soon': 1683, 'mannerisms': 1121, 'professionalism': 1398, 'wise': 2007, 'uplifting': 1919, 'compared': 345, 'manger': 1118, 'sweet': 1780, 'america': 55, 'individual': 919, 'places': 1345, 'quite': 1434, 'immediate': 906, 'reply': 1507, 'hard': 836, 'group': 811, 'liberty': 1038, 'especially': 617, 'notch': 1215, 'credit': 429, 'union': 1907, 'lines': 1049, 'medical': 1139, 'amazed': 52, 'adequate': 32, 'short': 1625, 'ended': 597, 'losing': 1084, 'approved': 87, 'folks': 708, 'definitely': 468, 'fourth': 724, 'enjoyed': 603, 'mortgage': 1178, 'tidy': 1840, 'nearly': 1194, 'added': 28, 'nature': 1192, 'offered': 1237, 'takes': 1789, 'adam': 26, 'hensen': 859, 'brent': 196, 'mithoefer': 1168, 'given': 769, 'picture': 1338, 'dilly': 502, 'dally': 443, 'year': 2037, 'coldwater': 324, 'road': 1547, 'retired': 1531, 'penalties': 1316, 'miscellaneous': 1162, 'ball': 140, 'survey': 1777, 'sister': 1649, 'notre': 1222, 'dame': 444, 'students': 1750, 'choice': 290, 'accessible': 7, 'remembered': 1502, 'clear': 302, 'greatest': 797, 'hey': 864, 'loretta': 1082, 'managers': 1117, 'community': 341, 'box': 185, 'collect': 325, 'eyeglasses': 652, 'lions': 1052, 'club': 314, 'blankets': 172, 'department': 478, 'starters': 1713, 'apr': 89, 'capital': 237, 'refinanced': 1479, 'thousands': 1836, 'dollars': 534, 'totally': 1856, 'redid': 1475, 'interior': 946, 'accuracy': 13, 'shape': 1614, 'form': 718, 'capabilities': 234, 'completely': 356, 'ashley': 95, 'nicole': 1206, 'lobby': 1065, 'velma': 1938, 'cheerful': 284, 'knew': 999, 'crew': 430, 'yesterday': 2041, 'calls': 224, 'spelled': 1697, 'jesus': 969, 'does': 529, 'stress': 1743, 'computer': 362, 'daycare': 450, 'standing': 1709, 'hear': 846, 'institution': 933, 'response': 1521, 'availability': 125, 'atms': 111, 'locations': 1070, 'fort': 720, 'wayne': 1973, 'reside': 1515, 'lafayette': 1009, 'accomplish': 9, 'efficiently': 580, 'honestly': 881, 'dupont': 562, 'teenagers': 1807, 'setting': 1610, 'encouraging': 595, 'lost': 1085, 'manage': 1114, 'changed': 268, 'greeted': 800, 'warmly': 1964, 'payments': 1313, 'automatically': 124, 'brag': 187, 'expertise': 641, 'prefer': 1371, 'consider': 381, 'chain': 264, 'rest': 1525, 'large': 1013, 'withdrawals': 2011, 'non': 1211, 'reimburse': 1491, 'fix': 705, 'willingness': 1998, 'particular': 1299, 'office': 1239, 'shaila': 1613, 'ericka': 613, 'ordinary': 1266, 'plus': 1351, 'proficient': 1400, 'resolve': 1516, 'resolved': 1517, 'skipped': 1656, 'recorded': 1473, 'making': 1112, 'complicated': 358, 'inviting': 951, 'withdraw': 2009, 'speak': 1690, 'hold': 873, 'phone': 1335, 'ringing': 1546, 'window': 2002, 'remodeled': 1503, 'blocks': 174, 'phenomenally': 1334, 'standard': 1708, 'concerned': 367, 'super': 1767, 'anisha': 59, 'leaving': 1027, 'guide': 816, 'walked': 1956, 'hadn': 822, 'straight': 1739, 'shooters': 1622, 'denied': 477, 'finance': 696, 'progress': 1403, 'paper': 1294, 'law': 1020, 'truck': 1882, 'driver': 557, 'loves': 1092, 'handicapped': 825, 'daughter': 447, 'count': 410, 'company': 343, 'gas': 754, 'station': 1719, 'return': 1533, 'attitudes': 116, 'calling': 223, 'normal': 1212, 'gosh': 784, 'friendliest': 736, 'dissatisfied': 522, 'unhappy': 1906, 'tend': 1816, 'rude': 1554, 'card': 239, 'causes': 255, 'concern': 366, 'backwards': 136, 'adore': 35, 'miles': 1156, 'safety': 1564, 'granger': 794, 'bent': 163, 'nursing': 1226, 'insurance': 937, 'considerate': 383, 'passing': 1304, 'words': 2019, 'mechanical': 1138, 'process': 1392, 'foresight': 714, 'update': 1916, 'quality': 1427, 'glad': 772, 'case': 248, 'wrong': 2035, 'pin': 1341, 'unlock': 1910, 'cooperative': 398, 'clearly': 304, 'chose': 292, 'died': 496, 'local': 1066, 'joined': 973, 'forth': 721, 'veteran': 1941, 'man': 1113, 'interactions': 942, 'uses': 1926, 'improve': 910, 'greets': 804, 'talks': 1794, 'hardly': 837, 'expanded': 632, 'elkhart': 585, 'recognized': 1466, 'raise': 1439, 'slips': 1659, 'evenings': 621, 'saturdays': 1574, 'reach': 1449, 'rare': 1444, 'recently': 1462, 'misplaced': 1163, 'punctual': 1421, 'banker': 144, 'products': 1396, 'environment': 608, 'obviously': 1229, 'west': 1990, 'suckers': 1757, 'hurry': 899, 'properly': 1409, 'sun': 1764, 'shone': 1621, 'glum': 775, 'procedure': 1390, 'ways': 1975, 'stuck': 1748, 'tall': 1795, 'regional': 1487, 'federal': 679, 'alright': 49, 'vacations': 1931, 'fact': 656, 'safer': 1563, 'hearts': 850, 'ladies': 1007, 'represent': 1508, 'received': 1461, 'loved': 1091, 'serving': 1608, 'recommendation': 1468, 'certain': 263, 'protocols': 1414, 'expected': 635, 'single': 1647, 'jobs': 971, 'mood': 1176, 'payroll': 1314, 'child': 286, 'support': 1770, 'rerouted': 1513, 'discuss': 514, 'estate': 618, 'respected': 1519, 'regards': 1486, 'smiles': 1665, 'faces': 655, 'superb': 1768, 'showing': 1629, 'figure': 691, 'read': 1450, 'team': 1802, 'filled': 693, 'correct': 404, 'mean': 1136, 'california': 221, 'traveled': 1871, 'generally': 758, 'signed': 1638, 'application': 80, 'mobile': 1169, 'typically': 1896, 'dale': 442, 'brad': 186, 'linda': 1047, 'tentative': 1817, 'kari': 983, 'newest': 1202, 'connect': 378, 'mainly': 1107, 'source': 1688, 'genuine': 760, 'hassle': 838, 'directed': 504, 'important': 908, 'met': 1150, 'martins': 1129, 'shop': 1623, 'hurting': 900, 'friendlier': 735, 'pnc': 1352, 'refused': 1484, 'style': 1754, 'bringing': 201, 'brick': 198, 'wall': 1959, 'savings': 1577, 'break': 192, 'tedious': 1806, 'sees': 1595, 'grab': 789, 'travel': 1870, 'stephanie': 1727, 'andrea': 57, 'boss': 178, 'allowed': 48, 'waitress': 1951, 'daily': 441, 'columbia': 328, 'city': 295, 'satasfied': 1568, 'crumby': 433, 'preference': 1372, 'option': 1260, 'bills': 169, 'overdraft': 1279, 'star': 1710, 'rating': 1448, 'features': 678, 'seating': 1589, 'drink': 553, 'push': 1425, 'attractive': 118, 'effective': 577, 'liked': 1043, 'serviceable': 1605, 'workers': 2023, 'informative': 922, 'stable': 1705, 'saturday': 1573, 'odd': 1233, 'applied': 81, 'future': 750, 'purchases': 1423, 'fraudulent': 728, 'corporate': 403, 'turned': 1890, 'range': 1442, 'gal': 751, 'runs': 1558, 'ease': 569, 'seldom': 1596, 'jovial': 975, 'joyful': 977, 'stick': 1730, 'mud': 1183, 'earth': 568, 'safe': 1562, 'fairly': 659, 'simple': 1643, 'fair': 658, 'boulevard': 183, 'anthony': 64, 'scooter': 1585, 'hop': 885, 'skip': 1655, 'jump': 981, 'purchase': 1422, 'verify': 1940, 'turn': 1889, 'transition': 1869, 'anyplace': 67, 'doors': 538, 'near': 1193, 'congenial': 377, 'screwed': 1587, 'corrected': 405, 'episode': 609, 'goof': 783, 'sons': 1682, 'predecessors': 1370, 'lucky': 1097, 'agree': 43, 'difference': 497, 'dream': 550, 'free': 729, 'messed': 1149, 'direct': 503, 'advice': 37, 'pine': 1342, 'valley': 1932, 'changes': 269, 'showed': 1628, 'kindly': 994, 'brand': 190, 'elegant': 583, 'fresh': 732, 'headquarters': 844, 'neighbor': 1200, 'happened': 831, 'solutions': 1675, 'finances': 697, 'inquire': 928, 'dark': 445, 'tells': 1813, 'rarely': 1445, 'solves': 1678, 'serviced': 1606, 'brother': 207, 'lives': 1059, 'connecticut': 379, 'reconcile': 1471, 'cavanaugh': 257, 'refinance': 1478, 'forthcoming': 722, 'lowest': 1094, 'possibly': 1366, 'rushed': 1560, 'half': 823, 'deposits': 485, 'extended': 648, 'week': 1979, 'afternoon': 40, 'owner': 1290, 'tmc': 1848, 'disappointed': 510, 'hidden': 865, 'cordial': 401, 'johnny': 972, 'spot': 1702, 'magically': 1103, 'appear': 78, 'vacation': 1930, 'kinsey': 997, 'print': 1384, 'outs': 1273, 'lately': 1017, 'pain': 1293, 'courtesy': 418, 'center': 259, 'copy': 400, 'fax': 676, 'handy': 829, 'communicate': 339, 'bothering': 180, 'representatives': 1510, 'saying': 1581, 'cleared': 303, 'accept': 4, 'luck': 1096, 'tried': 1877, 'goal': 776, 'ability': 0, 'teach': 1799, 'clarissa': 297, 'numbers': 1225, 'operate': 1254, 'speaking': 1691, 'high': 866, 'sturgis': 1753, 'limits': 1046, 'dependable': 481, 'august': 119, 'buy': 219, 'vehicle': 1936, 'teacher': 1800, 'stellar': 1725, 'exclusively': 629, 'moms': 1171, 'hacked': 821, 'father': 673, 'handling': 828, 'affairs': 39, 'bluffton': 175, 'julie': 980, 'patty': 1309, 'randall': 1441, 'dad': 440, 'aware': 130, 'tickets': 1839, 'covered': 422, 'demeanor': 476, 'sticking': 1731, 'bearing': 155, 'keeps': 985, 'coming': 335, 'oddly': 1234, 'sincerely': 1645, 'wants': 1963, 'cousin': 419, 'oversee': 1287, 'shares': 1617, 'cds': 258, 'early': 567, 'withdrawal': 2010, 'sell': 1598, 'taste': 1796, 'mouth': 1180, 'horrendous': 887, 'radiant': 1438, 'compassionate': 347, 'ceo': 262, 'butt': 218, 'late': 1016, 'church': 294, 'present': 1374, 'stupid': 1752, 'layout': 1021, 'twice': 1894, 'taboo': 1785, 'leadership': 1022, 'knowledge': 1002, 'speed': 1695, 'henson': 860, 'details': 491, 'oriented': 1269, 'cooperation': 397, 'following': 710, 'weeks': 1982, 'smart': 1663, 'borrow': 177, 'hesitation': 862, 'alerts': 45, 'compromise': 360, 'valued': 1934, 'bothered': 179, 'appreciation': 84, 'shopping': 1624, 'deals': 456, 'roll': 1549, 'bigger': 167, 'thoughts': 1835, 'initiative': 927, 'overboard': 1278, 'comparing': 346, 'thrilled': 1837, 'efficiency': 578, 'assist': 103, 'swenson': 1781, 'rachel': 1436, 'highly': 867, 'older': 1247, 'forget': 716, 'stevensville': 1729, 'kim': 992, 'emily': 590, 'saila': 1566, 'sent': 1602, 'compliment': 359, 'helpfulness': 856, 'personality': 1327, 'crap': 425, 'outgoing': 1272, 'worst': 2029, 'surprises': 1776, 'waited': 1949, 'updated': 1917, 'funny': 747, 'terrific': 1820, 'voice': 1947, 'choose': 291, 'request': 1511, 'retirement': 1532, 'competitive': 349, 'worth': 2030, 'laporte': 1012, 'expectations': 634, 'personalization': 1328, 'text': 1822, 'design': 489, 'lastly': 1015, 'jen': 967, 'willhouse': 1996, 'private': 1386, 'reasonable': 1457, 'fear': 677, 'trying': 1887, 'usual': 1928, 'parking': 1298, 'dowagiac': 542, 'considerably': 382, 'brought': 208, 'fullest': 745, 'extent': 649, 'satisfies': 1571, 'learn': 1024, 'checkbook': 279, 'macular': 1100, 'degeneration': 469, 'kid': 990, 'silly': 1641, 'complex': 357, 'suggest': 1761, 'nappanee': 1188, 'freeze': 730, 'doctor': 526, 'toes': 1850, 'complete': 355, 'seeing': 1593, 'trustworthy': 1884, 'gentleman': 759, 'situations': 1653, 'saw': 1579, 'backroom': 135, 'hello': 852, 'stopped': 1736, 'opposed': 1258, 'exceptionally': 627, 'brighten': 200, 'looks': 1081, 'public': 1418, 'bathroom': 153, 'longest': 1077, 'heartbeat': 849, 'hit': 871, 'pieces': 1339, 'finding': 699, 'share': 1615, 'easygoing': 573, 'opportunities': 1257, 'manners': 1122, 'wills': 1999, 'asset': 100, 'alzheimer': 51, 'troubles': 1881, 'racist': 1437, 'professionally': 1399, 'speedy': 1696, 'holidays': 876, 'errors': 615, 'derogatory': 486, 'frontier': 740, 'create': 427, 'calming': 225, 'later': 1018, 'apply': 82, 'beginning': 156, 'death': 459, 'tera': 1818, 'confused': 374, 'welcomed': 1985, 'homey': 879, 'craziness': 426, 'happens': 832, 'edge': 575, 'instantly': 931, 'grumpy': 813, 'grouchy': 810, 'wish': 2008, 'gracious': 792, 'anybody': 65, 'chipper': 289, 'drinks': 554, 'ipad': 953, 'bat': 152, 'perfect': 1320, 'brief': 199, 'combination': 329, 'thoroughly': 1832, 'officer': 1240, 'possible': 1365, 'international': 947, 'realized': 1454, 'confidential': 372, 'baking': 138, 'power': 1368, 'ringer': 1545, 'hassles': 839, 'relative': 1498, 'misused': 1167, 'notified': 1221, 'stricken': 1744, 'virus': 1942, 'hospital': 890, 'traced': 1859, 'reissued': 1494, 'cooperate': 396, 'tools': 1854, 'grow': 812, 'sir': 1648, 'supportive': 1771, 'instructed': 934, 'leg': 1030, 'chair': 265, 'inherited': 925, 'grieving': 807, 'transferred': 1867, 'similar': 1642, 'walks': 1958, 'weird': 1983, 'interests': 945, 'covers': 423, 'savvy': 1578, 'class': 298, 'intelligence': 939, 'hometown': 878, 'enthusiastic': 606, 'strive': 1746, 'peace': 1315, 'mind': 1157, 'emergency': 589, 'rob': 1548, 'fake': 662, 'sick': 1634, 'hip': 868, 'replaced': 1506, 'questioned': 1430, 'verified': 1939, 'complain': 351, 'fulfill': 744, 'listened': 1054, 'forward': 723, 'opening': 1253, 'mention': 1145, 'ill': 904, 'worry': 2028, 'automated': 122, 'figured': 692, 'timeliness': 1844, 'contact': 389, 'ignored': 903, 'dependability': 480, 'described': 487, 'giving': 771, 'judgmental': 978, 'carey': 243, 'nile': 1208, 'dear': 458, 'watching': 1969, 'based': 149, 'politeness': 1357, 'normally': 1213, 'orderly': 1264, 'saver': 1576, 'seen': 1594, 'track': 1860, 'capability': 235, 'portage': 1361, 'central': 260, 'julia': 979, 'order': 1262, 'explaining': 645, 'exceeded': 624, 'anymore': 66, 'fellas': 688, 'assigned': 102, 'delay': 471, 'finish': 703, 'businesslike': 216, 'golden': 780, 'rule': 1555, 'involved': 952, 'payment': 1312, 'woman': 2013, 'thinking': 1830, 'costs': 408, 'sum': 1763, 'disabled': 509, 'expressions': 647, 'operation': 1256, 'children': 287, 'likely': 1044, 'obstacles': 1228, 'promotions': 1404, 'energy': 601, 'wondering': 2018, 'sign': 1636, 'maturity': 1132, 'offering': 1238, 'structure': 1747, 'position': 1363, 'closer': 311, 'comcast': 331, 'cable': 220, 'education': 576, 'interesting': 944, 'multiple': 1184, 'management': 1115, 'stock': 1732, 'refinancing': 1480, 'forms': 719, 'picked': 1337, 'simplicity': 1644, 'assistant': 105, 'brittany': 203, 'initially': 926, 'stephany': 1728, 'looked': 1079, 'confusing': 375, 'selling': 1599, 'program': 1402, 'pension': 1317, 'retire': 1530, 'earlier': 566, 'date': 446, 'redo': 1476, 'understanding': 1903, 'send': 1600, 'force': 713, 'december': 463, 'christmas': 293, 'presents': 1375, 'instance': 930, 'using': 1927, 'excess': 628, 'men': 1144, 'phases': 1333, 'responsive': 1524, 'explored': 646, 'spoke': 1700, 'intelligent': 940, 'ran': 1440, 'national': 1191, 'grabbed': 790, 'slip': 1658, 'statements': 1717, 'spend': 1698, 'stand': 1707, 'valuable': 1933, 'unlike': 1909, 'shocked': 1620, 'writer': 2033, 'pulled': 1420, 'retail': 1529, 'touch': 1857, 'accepting': 5, 'spouse': 1703, 'competing': 348, 'quotas': 1435, 'ring': 1544, 'bell': 159, 'apology': 74, 'acted': 18, 'irritated': 956, 'hospitable': 889, 'silence': 1640, 'switching': 1784, 'iphone': 954, 'capable': 236, 'dirty': 507, 'alley': 46, 'poor': 1358, 'portion': 1362, 'light': 1041, 'turning': 1891, 'soccer': 1671, 'tahoe': 1787, 'avoid': 128, 'pick': 1336, 'slowly': 1660, 'living': 1060, 'narrow': 1189, 'tight': 1841, 'pillar': 1340, 'weekends': 1981, 'created': 428, 'difficulty': 501, 'unprepared': 1911, 'upstairs': 1922, 'bounced': 184, 'costing': 407, 'altogether': 50, 'worker': 2022, 'title': 1847, 'bike': 168, 'spring': 1704, 'leads': 1023, 'automatic': 123, 'fault': 674, 'amazon': 54, 'reversed': 1537, 'fee': 680, 'reverse': 1536, 'meeting': 1141, 'inappropriate': 912, 'ahead': 44, 'unsatisfactory': 1913, 'sucked': 1756, 'deposited': 483, 'baby': 134, 'counts': 414, 'played': 1347, 'evaluate': 619, 'refund': 1482, 'kendallville': 986, 'nuisance': 1223, 'drop': 559, 'condolences': 370, 'burden': 213, 'refunded': 1483, 'original': 1270, 'spooks': 1701, 'apparently': 77, 'protocol': 1413, 'unacceptable': 1899, 'particularly': 1300, 'lack': 1006, 'thanked': 1824, 'holds': 875, 'inconvenience': 915, 'garage': 753, 'inconvenient': 916, 'worried': 2027, 'mark': 1125, 'sufficient': 1760, 'letter': 1033, 'recieved': 1463, 'georgia': 762, 'donna': 536, 'apparantly': 76, 'decision': 465, 'active': 21, 'unsatisfied': 1914, 'turnover': 1892, 'breaches': 191, 'groceries': 808, 'declined': 466, 'archaic': 90, 'closed': 310, 'niles': 1209, 'stop': 1735, 'signs': 1639, 'offline': 1243, 'issued': 961, 'documents': 528, 'license': 1039, 'social': 1672, 'communication': 340, 'documentation': 527, 'depositing': 484, 'restroom': 1526, 'orders': 1265, 'tries': 1878, 'tax': 1797, 'season': 1588, 'technology': 1805, 'concerning': 368, 'cameras': 227, 'activated': 20, 'deactivated': 452, 'oklahoma': 1245, 'furniture': 748, 'mail': 1104, 'mad': 1101, 'debits': 462, 'angry': 58, 'protect': 1411, 'embarrassing': 588, 'maddest': 1102, 'telling': 1812, 'warning': 1965, 'closing': 313, 'covington': 424, 'noticed': 1218, 'unavailable': 1900, 'isn': 959, 'registration': 1489, 'self': 1597, 'employed': 592, 'pass': 1301, 'gasoline': 755, 'drove': 561, 'taco': 1786, 'irs': 957, 'pressing': 1377, 'log': 1072, 'username': 1925, 'code': 317, 'logged': 1073, 'october': 1232, 'cover': 421, 'learned': 1025, 'escrow': 616, 'visits': 1945, 'placed': 1344, 'ownership': 1291, 'sitting': 1651, 'remarks': 1500, 'release': 1499, 'representative': 1509, 'broker': 206, 'offensive': 1235, 'insulting': 936, 'disability': 508, 'income': 914, 'wrote': 2036, 'obnoxious': 1227, 'debited': 461, 'yes': 2040, 'poorly': 1359, 'written': 2034, 'reflect': 1481, 'concept': 365, 'faith': 660, 'revisit': 1538, 'receipt': 1459, 'upset': 1921, 'override': 1285, 'excuse': 630, 'frauds': 727, 'app': 75, 'according': 10, 'government': 788, 'rules': 1556, 'realize': 1453, 'letters': 1034, 'thanking': 1825, 'outage': 1271, 'god': 777, 'low': 1093, 'complained': 352, 'suv': 1779, 'knees': 998, 'processing': 1394, 'forgot': 717, 'nasty': 1190, 'harassed': 835, 'delaying': 472, 'discrepancy': 512, 'removed': 1504, 'approval': 86, 'canceled': 231, 'avenue': 127, 'rights': 1543, 'solomon': 1673, 'careful': 242, 'research': 1514, 'responsibilities': 1522, 'compromised': 361, 'stolen': 1733, 'lousy': 1089, 'contacted': 390, 'foot': 712, 'crutch': 434, 'turns': 1893, 'investment': 950, 'combined': 330, 'assisted': 106, 'items': 963, 'waived': 1954, 'policy': 1355, 'terminated': 1819, 'brochure': 204, 'hack': 820, 'authorized': 120, 'germany': 763, 'bremen': 195, 'charging': 275, 'clue': 315, 'frustrating': 743, 'resubmit': 1527, 'liar': 1037, 'hung': 897, 'misunderstood': 1166, 'discussing': 515, 'ordered': 1263, 'checkbooks': 280, 'reordered': 1505, 'friday': 733, 'color': 327, 'tube': 1888, 'distracted': 524, 'link': 1050, 'emailed': 587, 'shortly': 1626, 'teaching': 1801, 'china': 288, 'notices': 1219, 'rejected': 1495, 'chantell': 271, 'breaks': 193, 'glares': 773, 'evening': 620, 'enroll': 604, 'reimbursed': 1492, 'officers': 1241, 'offices': 1242, 'gumwood': 817, 'holder': 874, 'rounding': 1552, 'additional': 29, 'principle': 1383, 'revenue': 1535, 'kathy': 984, 'endorsement': 599, 'signature': 1637, 'notification': 1220, 'deleted': 474, 'wires': 2006, 'crossed': 431, 'administrators': 33, 'auto': 121, 'draw': 547, 'technical': 1804, 'regular': 1490, 'somewhat': 1680, 'bothersome': 181, 'note': 1216, 'statement': 1716, 'pharmacy': 1332, 'prescription': 1373, 'overdrawn': 1283, 'filling': 694, 'women': 2014, 'truth': 1885, 'staring': 1711, 'wednesday': 1978, 'drawn': 548, 'ate': 108, 'sorry': 1685, 'attorney': 117, 'maple': 1123, 'lane': 1011, 'delete': 473, 'pops': 1360, 'hate': 840, 'coventry': 420, 'sucks': 1758, 'hostage': 891, 'putting': 1426, 'rid': 1540, 'dollar': 533, 'broke': 205, 'scared': 1583, 'lose': 1083, 'marriage': 1126, 'wonder': 2016, 'delivered': 475, 'confusion': 376, 'telephone': 1808, 'causing': 256, 'owed': 1288, 'processed': 1393, 'protection': 1412, 'post': 1367, 'treasurer': 1872, 'upgrades': 1918, 'hsa': 895, 'charity': 276, 'dispersed': 518, 'faithful': 661, 'reward': 1539, 'adult': 36, 'guardian': 814, 'unless': 1908, 'related': 1496, 'minor': 1159, 'returned': 1534, 'temporary': 1815, 'illinois': 905, 'comments': 338, 'include': 913, 'comment': 337, 'locked': 1071, 'vault': 1935, 'unusual': 1915, 'food': 711, 'cancel': 230, 'winamac': 2001, 'overbearing': 1277, 'skirts': 1657, 'confidentiality': 373, 'cascada': 247, 'degrees': 470, 'opposite': 1259, 'coincidence': 321, 'claudia': 299, 'discretion': 513, 'crosses': 432, 'dramatic': 546, 'subjective': 1755, 'historical': 869, 'emphasize': 591, 'practices': 1369, 'centuries': 261, 'ridiculous': 1541, 'head': 843, 'sheds': 1618, 'acts': 23, 'passcode': 1302, 'register': 1488, 'story': 1738, 'reimbursement': 1493, 'married': 1127, 'jessica': 968, 'investigating': 949, 'expired': 642, 'march': 1124, 'shipped': 1619, 'activate': 19, 'stated': 1715, 'frozen': 742, 'activity': 22, 'error': 614, 'depend': 479, 'dormant': 539, 'linked': 1051, 'supplemental': 1769, 'health': 845, 'total': 1855, 'shows': 1630, 'solution': 1674, 'rub': 1553, 'product': 1395, 'glitch': 774, 'straightened': 1740, 'password': 1305, 'attempted': 112, 'caught': 253, 'makeup': 1111, 'considered': 385, 'strange': 1741, 'froze': 741, 'letting': 1035, 'profit': 1401, 'exempt': 631, 'umbrella': 1897, 'login': 1074, 'dispense': 517, 'cleveland': 306, 'downloadable': 543, 'load': 1061, 'windows': 2003, 'inaccessible': 911, 'handicap': 824, 'coins': 322, 'counted': 411, 'coin': 320, 'strict': 1745, 'grace': 791, 'merchandise': 1147, 'competitors': 350, 'minimum': 1158, 'deterring': 492, 'temperature': 1814, 'freezing': 731, 'island': 958, 'proceeded': 1391, 'president': 1376, 'email': 586, 'unable': 1898, 'quarters': 1428, 'occupied': 1231, 'rolled': 1550, 'stations': 1720, 'wire': 2004, 'canada': 229, 'occasion': 1230, 'entire': 607, 'pointing': 1354, 'finger': 702, 'sour': 1687, 'disposition': 520, 'uncomfortable': 1901, 'sides': 1635, 'endorse': 598, 'claim': 296, 'kicked': 989, 'expecting': 636, 'sore': 1684, 'honor': 883, 'endorsing': 600, 'honored': 884, 'responsibility': 1523, 'longer': 1076, 'deducted': 467, 'cashed': 250, 'mailed': 1105, 'dispose': 519, 'shredded': 1631, 'baseball': 148, 'game': 752, 'spent': 1699, 'limit': 1045, 'regardless': 1485, 'shut': 1632, 'write': 2032, 'sending': 1601, 'green': 798, 'assuming': 107, 'thoughtful': 1834, 'device': 493, 'clicked': 307, 'discovered': 511, 'apologetic': 71, 'apologized': 73, 'dropped': 560, 'apart': 70, 'maintained': 1108, 'driven': 556, 'gossipy': 785, 'unprofessional': 1912, 'overdraw': 1281, 'record': 1472, 'principal': 1382, 'coding': 318, 'reference': 1477, 'loaned': 1063, 'wired': 2005, 'microphone': 1153, 'insufficient': 935, 'mexican': 1151, 'midnight': 1154, 'faster': 672, 'woke': 2012, 'belong': 160, 'red': 1474, 'flag': 707, 'grape': 795, 'expense': 637, 'computerized': 363, 'apps': 88, 'moving': 1182}\n"
     ]
    }
   ],
   "source": [
    "print('Task 2b: create a BOW vector for use with Latent-Dirichlet-Allocation (LDA) Models, using assigned stop words')\n",
    "#Note: In Gensim Word2Vec, this is known as \"Similarity Queues\" - https://radimrehurek.com/gensim/tut3.html\n",
    "#Bag-of-words is one choice - Gensim includes: Matrix-Market, LSI,SVMlight, LDA-C, GivvsLDA++, etc\n",
    "\n",
    "#Convert a collection of text documents to a matrix of token counts - \"bag-of-words\", unless otherwise specified\n",
    "bow_vector = CountVectorizer(stop_words=stop_words)\n",
    "\n",
    "#\"Comment\" column is the 6th column in the dataset - index \"5\" in dataframe\n",
    "value_list = [row[5] for row in raw_corpus.itertuples(index=False, name=None)]\n",
    "#print(value_list[0:3])\n",
    "#create term-document matrix and and place all relevant terms in vocabulary/dictionary\n",
    "bow = bow_vector.fit_transform(value_list)\n",
    "#dictionary stored in the vocabulary_ variable of the bow object \n",
    "print(bow_vector.vocabulary_)"
   ]
  },
  {
   "cell_type": "code",
   "execution_count": 28,
   "metadata": {},
   "outputs": [
    {
     "name": "stdout",
     "output_type": "stream",
     "text": [
      "CRISP-DM Task: Data Understanding\n",
      "Task 1: print information about bow verctor and/or corpus\n",
      "109\n",
      "29\n"
     ]
    }
   ],
   "source": [
    "print('CRISP-DM Task: Data Understanding')\n",
    "print('Task 1: print information about bow verctor and/or corpus')\n",
    "print(bow_vector.vocabulary_.get('atm')) #get dictionary index of \"get\" keyword\n",
    "counts = np.asarray(bow.sum(axis=0)) \n",
    "count_words = counts[0]\n",
    "freq = count_words[109] #get word count of all terms in dictionary, using retured \"get\" word id - ex atm = 109\n",
    "print(freq) #print wordcount frequency"
   ]
  },
  {
   "cell_type": "code",
   "execution_count": 29,
   "metadata": {},
   "outputs": [
    {
     "name": "stdout",
     "output_type": "stream",
     "text": [
      "Task 2: use pandas and data viz libraries to explore & understand the columns and values in the text dataset\n",
      "        ID  Branch Interview Date Transaction Date Comment Type  \\\n",
      "0  4278642     355      2/24/2015        2/23/2015   Compliment   \n",
      "1  3329834     311      4/10/2014         4/9/2014   Compliment   \n",
      "2  4182303     353      1/14/2015        1/13/2015   Compliment   \n",
      "3  4228554     318       2/4/2015         2/3/2015   Compliment   \n",
      "4  3860433     351       9/4/2014         9/3/2014   Compliment   \n",
      "\n",
      "                                             Comment Follow-up  \\\n",
      "0  BANK always good have banked with them since w...       NaN   \n",
      "1  BANK the best for They help people when they r...       NaN   \n",
      "2  BANK has been percent top any bank They been a...       NaN   \n",
      "3  Absolutely problems with them Everything has b...       NaN   \n",
      "4  Absolutely They are efficient courteous and he...       NaN   \n",
      "\n",
      "   Satisfaction Rating                                    Comment_NoComma  \\\n",
      "0                   10  MY BANK is always good to me. I have banked wi...   \n",
      "1                    8  MY BANK is the best for me. They help people w...   \n",
      "2                    8  MY BANK has been 100 percent on top on any ban...   \n",
      "3                    9  Absolutely no problems with them. Everything h...   \n",
      "4                    9  Absolutely. They are efficient courteous and h...   \n",
      "\n",
      "                                      Comment_Clean,  \n",
      "0  MY BANK is always good to me. I have banked wi...  \n",
      "1  MY BANK is the best for me. They help people w...  \n",
      "2  MY BANK has been 100 percent on top on any ban...  \n",
      "3  Absolutely no problems with them. Everything h...  \n",
      "4  Absolutely. They are efficient courteous and h...  \n",
      "<class 'pandas.core.frame.DataFrame'>\n",
      "RangeIndex: 1193 entries, 0 to 1192\n",
      "Data columns (total 10 columns):\n",
      "ID                     1193 non-null int64\n",
      "Branch                 1193 non-null int64\n",
      "Interview Date         1193 non-null object\n",
      "Transaction Date       1193 non-null object\n",
      "Comment Type           1193 non-null object\n",
      "Comment                1193 non-null object\n",
      "Follow-up              236 non-null object\n",
      "Satisfaction Rating    1193 non-null int64\n",
      "Comment_NoComma        1193 non-null object\n",
      "Comment_Clean,         1193 non-null object\n",
      "dtypes: int64(3), object(7)\n",
      "memory usage: 93.3+ KB\n",
      "None\n",
      "ID                       0\n",
      "Branch                   0\n",
      "Interview Date           0\n",
      "Transaction Date         0\n",
      "Comment Type             0\n",
      "Comment                  0\n",
      "Follow-up              957\n",
      "Satisfaction Rating      0\n",
      "Comment_NoComma          0\n",
      "Comment_Clean,           0\n",
      "dtype: int64\n",
      "                 ID       Branch  Satisfaction Rating\n",
      "count  1.193000e+03  1193.000000          1193.000000\n",
      "mean   4.297436e+06   295.588433             7.985750\n",
      "std    4.774175e+05    86.540331             2.252656\n",
      "min    3.276177e+06   107.000000             1.000000\n",
      "25%    3.954094e+06   310.000000             8.000000\n",
      "50%    4.322839e+06   320.000000             9.000000\n",
      "75%    4.720735e+06   352.000000             9.000000\n",
      "max    5.081369e+06   401.000000            10.000000\n",
      "  Comment Type  count\n",
      "0        Alert    236\n",
      "1   Compliment    957\n"
     ]
    },
    {
     "data": {
      "text/plain": [
       "<matplotlib.axes._subplots.AxesSubplot at 0x11ea5223710>"
      ]
     },
     "execution_count": 29,
     "metadata": {},
     "output_type": "execute_result"
    },
    {
     "data": {
      "image/png": "[encoded data removed]",
      "text/plain": [
       "<Figure size 432x288 with 1 Axes>"
      ]
     },
     "metadata": {},
     "output_type": "display_data"
    }
   ],
   "source": [
    "print('Task 2: use pandas and data viz libraries to explore & understand the columns and values in the text dataset')\n",
    "print(documents.head())  #get first 5 observations in pandas dataframe\n",
    "# Check data types for each variable\n",
    "print(documents.info())\n",
    "#assess data quailty - null values \n",
    "print(documents.isnull().sum())\n",
    "#describe dataset values \n",
    "print(documents.describe())\n",
    "#view histograp of categorical variables \n",
    "#summarize & plot pandas column using \"groupby\" function\n",
    "summary = documents.groupby(['Comment Type'])[\"ID\"].count().reset_index(name=\"count\")\n",
    "print(summary)\n",
    "y = summary['count']\n",
    "x = summary['Comment Type']   #iterate list to transfor dates for graphical use\n",
    "data = pd.DataFrame({'Freq':y, 'Comment Type':x}).set_index(x) \n",
    "data.plot(kind='bar')\n",
    "#plt.show()  #uncomment to show - otherwise holds execution until closed"
   ]
  },
  {
   "cell_type": "code",
   "execution_count": 30,
   "metadata": {},
   "outputs": [
    {
     "name": "stdout",
     "output_type": "stream",
     "text": [
      "CRISP-DM Task: Model Building\n",
      "Fitting LDA models with n_topic=5, n_samples=2000 and n_features=1000...\n",
      "\n",
      "Topics in LDA model:\n",
      "Topic #0: drive inside window service customer light alley mentioned apology assuming\n",
      "Topic #1: caught atms fraud needs area winamac eric west exceptional team\n",
      "Topic #2: statements sent paper payment error letter canada wasn placed charged\n",
      "Topic #3: fault funds send total deposited fee clicked able hold following\n",
      "Topic #4: bank like know account service friendly just good don people\n",
      "\n"
     ]
    }
   ],
   "source": [
    "print('CRISP-DM Task: Model Building')\n",
    "print(\"Fitting LDA models with n_topic=%d, n_samples=%d and n_features=%d...\" % (n_components, n_samples, n_features))\n",
    "lda = LatentDirichletAllocation(n_components=n_components, max_iter=5,\n",
    "                                learning_method='online',\n",
    "                                learning_offset=50.,\n",
    "                                random_state=0)  #scikit-learn library\n",
    "lda.fit(bow)\n",
    "print(\"\\nTopics in LDA model:\")\n",
    "bow_feature_names = bow_vector.get_feature_names()\n",
    "\n",
    "def print_top_words(model, feature_names, n_top_words):\n",
    "    for topic_idx, topic in enumerate(model.components_):\n",
    "        message = \"Topic #%d: \" % topic_idx\n",
    "        message += \" \".join([feature_names[i]\n",
    "                             for i in topic.argsort()[:-n_top_words - 1:-1]])\n",
    "        print(message)\n",
    "    print()\n",
    "\n",
    "print_top_words(lda, bow_feature_names, n_top_words) #note the improvement over last week's model!"
   ]
  },
  {
   "cell_type": "code",
   "execution_count": 31,
   "metadata": {},
   "outputs": [
    {
     "name": "stdout",
     "output_type": "stream",
     "text": [
      "CRISP-DM Task: Model Evaluation\n",
      "Step1 : get test topics then score them vs. current LDA model\n",
      "-21561.246461574996\n"
     ]
    }
   ],
   "source": [
    "print('CRISP-DM Task: Model Evaluation ')\n",
    "print('Step1 : get test topics then score them vs. current LDA model')\n",
    "train, test = train_test_split(list(documents['Comment'].values), test_size = 0.2)\n",
    "test_vector = bow_vector.fit_transform(test)\n",
    "test_lda = lda.fit(test_vector)  #fit text vector within existing model - transpose to work\n",
    "#Calculate approximate log-likelihood as score.\n",
    "print(test_lda.score(test_vector)) #not meaningful in itself - compare vs. re-run models (closer to 0, the better)"
   ]
  },
  {
   "cell_type": "code",
   "execution_count": 32,
   "metadata": {},
   "outputs": [
    {
     "name": "stdout",
     "output_type": "stream",
     "text": [
      "Step 2: Use formal model evaluation stats \"perplexity\"\n",
      "2502.735504332799\n"
     ]
    }
   ],
   "source": [
    "print('Step 2: Use formal model evaluation stats, such as \"perplexity\" from scikit-learn library') \n",
    "# create test/train text documents to evaluate model \n",
    "vectoriser = CountVectorizer(stop_words = 'english', max_features=500)  #max features must be less that \"n_features\" variable!\n",
    "doc_train = vectoriser.fit_transform(train)\n",
    "features = vectoriser.get_feature_names()\n",
    "doc_test = vectoriser.fit_transform(test)\n",
    "news_lda = lda.fit(doc_train)\n",
    "print(news_lda.perplexity(doc_test)) # lower the perplexity, the better"
   ]
  },
  {
   "cell_type": "code",
   "execution_count": 33,
   "metadata": {},
   "outputs": [
    {
     "name": "stdout",
     "output_type": "stream",
     "text": [
      "Task 3: Compare vs. Gensim word2vec topic output\n",
      "CRISP-DM Task: Model Deployment\n"
     ]
    }
   ],
   "source": [
    "print('Task 3: Compare LDA Model vs. Gensim word2vec td-idf model (last class)')\n",
    "#class exercise - what is the difference? \n",
    "\n",
    "print('CRISP-DM Task: Model Deployment')\n",
    "#gensim contains ablility to save and update models with future iterations\n",
    "#lecture is TBD"
   ]
  }
 ],
 "metadata": {
  "kernelspec": {
   "display_name": "Python 3",
   "language": "python",
   "name": "python3"
  },
  "language_info": {
   "codemirror_mode": {
    "name": "ipython",
    "version": 3
   },
   "file_extension": ".py",
   "mimetype": "text/x-python",
   "name": "python",
   "nbconvert_exporter": "python",
   "pygments_lexer": "ipython3",
   "version": "3.7.1"
  }
 },
 "nbformat": 4,
 "nbformat_minor": 2
}
