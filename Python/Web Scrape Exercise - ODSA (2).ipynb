{
 "cells": [
  {
   "cell_type": "code",
   "execution_count": 1,
   "metadata": {
    "collapsed": true
   },
   "outputs": [],
   "source": [
    "#https://www.scrapehero.com/scrape-yahoo-finance-stock-market-data/\n",
    "#Construct the URL of the search results page from Yahoo Finance. \n",
    "#   For example, here is the one for Apple-http://finance.yahoo.com/quote/AAPL?p=AAPL\n",
    "#Step 1) Download HTML of the search result page using Python Requests\n",
    "#Step 2) Inspect Data Source via web browser (IE) and Python (Print, BS4 Lib)\n",
    "#Step 3) Parse the page using BS4 HTML Parser + HTML Tag Information\n",
    "#Step 4) Save the data for Storage - CSV & JSON files.\n",
    "\n",
    "import requests  #GET/POST/PUT API requests\n",
    "from contextlib import closing  #utilities for common tasks involving the \"with\" statement.\n",
    "from bs4 import BeautifulSoup #BeautifulSoup4 - HTML Web Scraping #Scrapy\n",
    "import csv #write stock information to csv file\n",
    "import json #write stock informaton to json file, for future API use\n",
    "#more info on bs4:  https://realpython.com/python-web-scraping-practical-introduction/"
   ]
  },
  {
   "cell_type": "code",
   "execution_count": 2,
   "metadata": {
    "collapsed": true
   },
   "outputs": [],
   "source": [
    "#Attempts to get the content at `url` by making an HTTP GET request.\n",
    "#If the content-type of response is some kind of HTML/XML, return the\n",
    "#text content, otherwise return None.\n",
    "def simple_get(url):\n",
    "    try:\n",
    "        with closing(requests.get(url, stream=True)) as resp:\n",
    "            if is_good_response(resp):\n",
    "                print('http request successful')\n",
    "                return resp.content\n",
    "            else:\n",
    "                return None\n",
    "\n",
    "    except RequestException as e:\n",
    "        print('Error during requests to {0} : {1}'.format(url, str(e)))\n",
    "        return None"
   ]
  },
  {
   "cell_type": "code",
   "execution_count": 3,
   "metadata": {},
   "outputs": [],
   "source": [
    "#Returns True if the response seems to be HTML, False otherwise.\n",
    "def is_good_response(resp):\n",
    "\n",
    "    content_type = resp.headers['Content-Type'].lower()\n",
    "    return (resp.status_code == 200 \n",
    "            and content_type is not None \n",
    "            and content_type.find('html') > -1)"
   ]
  },
  {
   "cell_type": "code",
   "execution_count": 4,
   "metadata": {},
   "outputs": [
    {
     "name": "stdout",
     "output_type": "stream",
     "text": [
      "http request successful\n"
     ]
    }
   ],
   "source": [
    "#Web Scrape - bloomberg stock market data - S&P 500 example:  https://www.bloomberg.com/quote/SPX:IND\n",
    "raw_html = simple_get('https://finance.yahoo.com/quote/AAPL/history?p=AAPL')"
   ]
  },
  {
   "cell_type": "code",
   "execution_count": 5,
   "metadata": {},
   "outputs": [],
   "source": [
    "#using BeautifulSoap to scrape and inspect web page\n",
    "html = BeautifulSoup(raw_html, 'html.parser')\n",
    "#print(html.prettify())"
   ]
  },
  {
   "cell_type": "code",
   "execution_count": 6,
   "metadata": {
    "collapsed": true
   },
   "outputs": [],
   "source": [
    "# Take out the <div> of name and get the stock's value\n",
    "stock_date = html.findAll(\"td\", attrs={\"class\": \"Py(10px) Ta(start) Pend(10px)\"})\n",
    "#print(stock_date)"
   ]
  },
  {
   "cell_type": "code",
   "execution_count": 7,
   "metadata": {},
   "outputs": [],
   "source": [
    "#iterate through elements to get stock dates\n",
    "stock_date = []\n",
    "for i, text in enumerate(html.findAll(\"td\", attrs={\"class\": \"Py(10px) Ta(start) Pend(10px)\"})):\n",
    "    stock_date.insert(i,text.span.string)\n",
    "#print(stock_date)\n",
    "\n",
    "#create list to store other stock data\n",
    "stock_data = []\n",
    "for i, text in enumerate(html.findAll(\"td\", attrs={\"class\": \"Py(10px) Pstart(10px)\"})):\n",
    "    stock_data.insert(i,text.span.string)\n",
    "#print(stock_data)"
   ]
  },
  {
   "cell_type": "code",
   "execution_count": 8,
   "metadata": {},
   "outputs": [
    {
     "name": "stdout",
     "output_type": "stream",
     "text": [
      "{'date': 'Feb 06, 2019', 'open': '174.65', 'close': '174.24', 'volume': '27,959,581'}\n",
      "{'date': 'Feb 05, 2019', 'open': '172.86', 'close': '174.18', 'volume': '36,066,500'}\n",
      "{'date': 'Feb 04, 2019', 'open': '167.41', 'close': '171.25', 'volume': '31,495,500'}\n",
      "{'date': 'Feb 01, 2019', 'open': '166.96', 'close': '166.52', 'volume': '32,668,100'}\n",
      "{'date': 'Jan 31, 2019', 'open': '166.11', 'close': '166.44', 'volume': '40,739,600'}\n",
      "{'date': 'Jan 30, 2019', 'open': '163.25', 'close': '165.25', 'volume': '61,109,800'}\n",
      "{'date': 'Jan 29, 2019', 'open': '156.25', 'close': '154.68', 'volume': '41,587,200'}\n",
      "{'date': 'Jan 28, 2019', 'open': '155.79', 'close': '156.30', 'volume': '26,192,100'}\n",
      "{'date': 'Jan 25, 2019', 'open': '155.48', 'close': '157.76', 'volume': '33,535,500'}\n",
      "{'date': 'Jan 24, 2019', 'open': '154.11', 'close': '152.70', 'volume': '25,441,500'}\n",
      "{'date': 'Jan 23, 2019', 'open': '154.15', 'close': '153.92', 'volume': '23,130,600'}\n",
      "{'date': 'Jan 22, 2019', 'open': '156.41', 'close': '153.30', 'volume': '30,394,000'}\n",
      "{'date': 'Jan 18, 2019', 'open': '157.50', 'close': '156.82', 'volume': '33,751,000'}\n",
      "{'date': 'Jan 17, 2019', 'open': '154.20', 'close': '155.86', 'volume': '29,821,200'}\n",
      "{'date': 'Jan 16, 2019', 'open': '153.08', 'close': '154.94', 'volume': '30,569,700'}\n",
      "{'date': 'Jan 15, 2019', 'open': '150.27', 'close': '153.07', 'volume': '28,710,900'}\n",
      "{'date': 'Jan 14, 2019', 'open': '150.85', 'close': '150.00', 'volume': '32,439,200'}\n",
      "{'date': 'Jan 11, 2019', 'open': '152.88', 'close': '152.29', 'volume': '27,023,200'}\n",
      "{'date': 'Jan 10, 2019', 'open': '152.50', 'close': '153.80', 'volume': '35,780,700'}\n",
      "{'date': 'Jan 09, 2019', 'open': '151.29', 'close': '153.31', 'volume': '45,099,100'}\n",
      "{'date': 'Jan 08, 2019', 'open': '149.56', 'close': '150.75', 'volume': '41,025,300'}\n",
      "{'date': 'Jan 07, 2019', 'open': '148.70', 'close': '147.93', 'volume': '54,777,800'}\n",
      "{'date': 'Jan 04, 2019', 'open': '144.53', 'close': '148.26', 'volume': '58,607,100'}\n",
      "{'date': 'Jan 03, 2019', 'open': '143.98', 'close': '142.19', 'volume': '91,312,200'}\n",
      "{'date': 'Jan 02, 2019', 'open': '154.89', 'close': '157.92', 'volume': '37,039,700'}\n",
      "{'date': 'Dec 31, 2018', 'open': '158.53', 'close': '157.74', 'volume': '35,003,500'}\n",
      "{'date': 'Dec 28, 2018', 'open': '157.50', 'close': '156.23', 'volume': '42,291,400'}\n",
      "{'date': 'Dec 27, 2018', 'open': '155.84', 'close': '156.15', 'volume': '53,117,100'}\n",
      "{'date': 'Dec 26, 2018', 'open': '148.30', 'close': '157.17', 'volume': '58,582,500'}\n",
      "{'date': 'Dec 24, 2018', 'open': '148.15', 'close': '146.83', 'volume': '37,169,200'}\n",
      "{'date': 'Dec 21, 2018', 'open': '156.86', 'close': '150.73', 'volume': '95,744,600'}\n",
      "{'date': 'Dec 20, 2018', 'open': '160.40', 'close': '156.83', 'volume': '64,773,000'}\n",
      "{'date': 'Dec 19, 2018', 'open': '166.00', 'close': '160.89', 'volume': '49,047,300'}\n",
      "{'date': 'Dec 18, 2018', 'open': '165.38', 'close': '166.07', 'volume': '33,841,500'}\n",
      "{'date': 'Dec 17, 2018', 'open': '165.45', 'close': '163.94', 'volume': '44,287,900'}\n",
      "{'date': 'Dec 14, 2018', 'open': '169.00', 'close': '165.48', 'volume': '40,703,700'}\n",
      "{'date': 'Dec 13, 2018', 'open': '170.49', 'close': '170.95', 'volume': '31,898,600'}\n",
      "{'date': 'Dec 12, 2018', 'open': '170.40', 'close': '169.10', 'volume': '35,627,700'}\n",
      "{'date': 'Dec 11, 2018', 'open': '171.66', 'close': '168.63', 'volume': '47,281,700'}\n",
      "{'date': 'Dec 10, 2018', 'open': '165.00', 'close': '169.60', 'volume': '62,026,000'}\n",
      "{'date': 'Dec 07, 2018', 'open': '173.49', 'close': '168.49', 'volume': '42,281,600'}\n",
      "{'date': 'Dec 06, 2018', 'open': '171.76', 'close': '174.72', 'volume': '43,098,400'}\n",
      "{'date': 'Dec 04, 2018', 'open': '180.95', 'close': '176.69', 'volume': '41,344,300'}\n",
      "{'date': 'Dec 03, 2018', 'open': '184.46', 'close': '184.82', 'volume': '40,802,500'}\n",
      "{'date': 'Nov 30, 2018', 'open': '180.29', 'close': '178.58', 'volume': '39,531,500'}\n",
      "{'date': 'Nov 29, 2018', 'open': '182.66', 'close': '179.55', 'volume': '41,770,000'}\n",
      "{'date': 'Nov 28, 2018', 'open': '176.73', 'close': '180.94', 'volume': '46,062,500'}\n",
      "{'date': 'Nov 27, 2018', 'open': '171.51', 'close': '174.24', 'volume': '41,387,400'}\n",
      "{'date': 'Nov 26, 2018', 'open': '174.24', 'close': '174.62', 'volume': '44,998,500'}\n",
      "{'date': 'Nov 23, 2018', 'open': '174.94', 'close': '172.29', 'volume': '23,624,000'}\n",
      "{'date': 'Nov 21, 2018', 'open': '179.73', 'close': '176.78', 'volume': '31,124,200'}\n",
      "{'date': 'Nov 20, 2018', 'open': '178.37', 'close': '176.98', 'volume': '67,825,200'}\n",
      "{'date': 'Nov 19, 2018', 'open': '190.00', 'close': '185.86', 'volume': '41,925,300'}\n",
      "{'date': 'Nov 16, 2018', 'open': '190.50', 'close': '193.53', 'volume': '36,928,300'}\n",
      "{'date': 'Nov 15, 2018', 'open': '188.39', 'close': '191.41', 'volume': '46,478,800'}\n",
      "{'date': 'Nov 14, 2018', 'open': '193.90', 'close': '186.80', 'volume': '60,801,000'}\n",
      "{'date': 'Nov 13, 2018', 'open': '191.63', 'close': '192.23', 'volume': '46,882,900'}\n",
      "{'date': 'Nov 12, 2018', 'open': '199.00', 'close': '194.17', 'volume': '51,135,500'}\n",
      "{'date': 'Nov 09, 2018', 'open': '205.55', 'close': '204.47', 'volume': '34,365,800'}\n",
      "{'date': 'Nov 08, 2018', 'open': '209.98', 'close': '208.49', 'volume': '25,362,600'}\n",
      "{'date': 'Nov 08, 2018', 'open': '205.97', 'close': '209.95', 'volume': '33,424,400'}\n",
      "{'date': 'Nov 07, 2018', 'open': '201.92', 'close': '203.77', 'volume': '31,882,900'}\n",
      "{'date': 'Nov 06, 2018', 'open': '204.30', 'close': '201.59', 'volume': '66,163,700'}\n",
      "{'date': 'Nov 05, 2018', 'open': '209.55', 'close': '207.48', 'volume': '91,328,700'}\n",
      "{'date': 'Nov 02, 2018', 'open': '219.05', 'close': '222.22', 'volume': '58,323,200'}\n",
      "{'date': 'Nov 01, 2018', 'open': '216.88', 'close': '218.86', 'volume': '38,358,900'}\n",
      "{'date': 'Oct 31, 2018', 'open': '211.15', 'close': '213.30', 'volume': '36,660,000'}\n",
      "{'date': 'Oct 30, 2018', 'open': '219.19', 'close': '212.24', 'volume': '45,935,500'}\n",
      "{'date': 'Oct 29, 2018', 'open': '215.90', 'close': '216.30', 'volume': '47,258,400'}\n",
      "{'date': 'Oct 26, 2018', 'open': '217.71', 'close': '219.80', 'volume': '29,855,800'}\n",
      "{'date': 'Oct 25, 2018', 'open': '222.60', 'close': '215.09', 'volume': '40,925,500'}\n",
      "{'date': 'Oct 24, 2018', 'open': '215.83', 'close': '222.73', 'volume': '38,767,800'}\n",
      "{'date': 'Oct 23, 2018', 'open': '219.79', 'close': '220.65', 'volume': '28,792,100'}\n",
      "{'date': 'Oct 22, 2018', 'open': '218.06', 'close': '219.31', 'volume': '33,078,700'}\n",
      "{'date': 'Oct 19, 2018', 'open': '217.86', 'close': '216.02', 'volume': '32,581,300'}\n",
      "{'date': 'Oct 18, 2018', 'open': '222.30', 'close': '221.19', 'volume': '22,885,400'}\n",
      "{'date': 'Oct 17, 2018', 'open': '218.93', 'close': '222.15', 'volume': '29,184,000'}\n",
      "{'date': 'Oct 16, 2018', 'open': '221.16', 'close': '217.36', 'volume': '30,791,000'}\n",
      "{'date': 'Oct 15, 2018', 'open': '220.42', 'close': '222.11', 'volume': '40,337,900'}\n",
      "{'date': 'Oct 12, 2018', 'open': '214.52', 'close': '214.45', 'volume': '53,124,400'}\n",
      "{'date': 'Oct 11, 2018', 'open': '225.46', 'close': '216.36', 'volume': '41,990,600'}\n",
      "{'date': 'Oct 10, 2018', 'open': '223.64', 'close': '226.87', 'volume': '26,891,000'}\n",
      "{'date': 'Oct 09, 2018', 'open': '222.21', 'close': '223.77', 'volume': '29,663,900'}\n",
      "{'date': 'Oct 08, 2018', 'open': '227.96', 'close': '224.29', 'volume': '33,580,500'}\n",
      "{'date': 'Oct 05, 2018', 'open': '230.78', 'close': '227.99', 'volume': '32,042,000'}\n",
      "{'date': 'Oct 04, 2018', 'open': '230.05', 'close': '232.07', 'volume': '28,654,800'}\n",
      "{'date': 'Oct 03, 2018', 'open': '227.25', 'close': '229.28', 'volume': '24,788,200'}\n",
      "{'date': 'Oct 02, 2018', 'open': '227.95', 'close': '227.26', 'volume': '23,600,800'}\n",
      "{'date': 'Oct 01, 2018', 'open': '224.79', 'close': '225.74', 'volume': '22,929,400'}\n",
      "{'date': 'Sep 28, 2018', 'open': '223.82', 'close': '224.95', 'volume': '30,181,200'}\n",
      "{'date': 'Sep 27, 2018', 'open': '221.00', 'close': '220.42', 'volume': '23,984,700'}\n",
      "{'date': 'Sep 26, 2018', 'open': '219.75', 'close': '222.19', 'volume': '24,554,400'}\n",
      "{'date': 'Sep 25, 2018', 'open': '216.82', 'close': '220.79', 'volume': '27,693,400'}\n",
      "{'date': 'Sep 24, 2018', 'open': '220.78', 'close': '217.66', 'volume': '96,246,700'}\n",
      "{'date': 'Sep 21, 2018', 'open': '220.24', 'close': '220.03', 'volume': '26,608,800'}\n",
      "{'date': 'Sep 20, 2018', 'open': '218.50', 'close': '218.37', 'volume': '27,123,800'}\n",
      "{'date': 'Sep 19, 2018', 'open': '217.79', 'close': '218.24', 'volume': '31,571,700'}\n",
      "{'date': 'Sep 18, 2018', 'open': '222.15', 'close': '217.88', 'volume': '37,195,100'}\n",
      "{'date': 'Sep 17, 2018', 'open': '225.75', 'close': '223.84', 'volume': '31,999,300'}\n"
     ]
    }
   ],
   "source": [
    "#combine date and stock information into dictionary data structure\n",
    "i = 0\n",
    "stock_info = {}\n",
    "for i in range(len(stock_date)-1):  #get stock info for every day\n",
    "    stock_info[i] = {\"date\": stock_date[i], \"open\": stock_data[(i*6)+0], \"close\": stock_data[(i*6)+3], \"volume\": stock_data[(i*6)+5]}\n",
    "    print(stock_info[i])"
   ]
  },
  {
   "cell_type": "code",
   "execution_count": 9,
   "metadata": {
    "collapsed": true
   },
   "outputs": [],
   "source": [
    "#export stock information to csv\n",
    "i = 0\n",
    "with open('C:\\\\Python\\\\Data\\\\stock_hist.csv', 'w') as f:  # Just use 'w' mode in 3.x\n",
    "    w = csv.DictWriter(f, stock_info[i].keys(), lineterminator = '\\n')\n",
    "    w.writeheader() \n",
    "    while(i<len(stock_info)):\n",
    "        w.writerow(stock_info[i])\n",
    "        i += 1"
   ]
  },
  {
   "cell_type": "code",
   "execution_count": 10,
   "metadata": {},
   "outputs": [
    {
     "name": "stdout",
     "output_type": "stream",
     "text": [
      "{\"0\": {\"date\": \"Feb 06, 2019\", \"open\": \"174.65\", \"close\": \"174.24\", \"volume\": \"27,959,581\"}, \"1\": {\"date\": \"Feb 05, 2019\", \"open\": \"172.86\", \"close\": \"174.18\", \"volume\": \"36,066,500\"}, \"2\": {\"date\": \"Feb 04, 2019\", \"open\": \"167.41\", \"close\": \"171.25\", \"volume\": \"31,495,500\"}, \"3\": {\"date\": \"Feb 01, 2019\", \"open\": \"166.96\", \"close\": \"166.52\", \"volume\": \"32,668,100\"}, \"4\": {\"date\": \"Jan 31, 2019\", \"open\": \"166.11\", \"close\": \"166.44\", \"volume\": \"40,739,600\"}, \"5\": {\"date\": \"Jan 30, 2019\", \"open\": \"163.25\", \"close\": \"165.25\", \"volume\": \"61,109,800\"}, \"6\": {\"date\": \"Jan 29, 2019\", \"open\": \"156.25\", \"close\": \"154.68\", \"volume\": \"41,587,200\"}, \"7\": {\"date\": \"Jan 28, 2019\", \"open\": \"155.79\", \"close\": \"156.30\", \"volume\": \"26,192,100\"}, \"8\": {\"date\": \"Jan 25, 2019\", \"open\": \"155.48\", \"close\": \"157.76\", \"volume\": \"33,535,500\"}, \"9\": {\"date\": \"Jan 24, 2019\", \"open\": \"154.11\", \"close\": \"152.70\", \"volume\": \"25,441,500\"}, \"10\": {\"date\": \"Jan 23, 2019\", \"open\": \"154.15\", \"close\": \"153.92\", \"volume\": \"23,130,600\"}, \"11\": {\"date\": \"Jan 22, 2019\", \"open\": \"156.41\", \"close\": \"153.30\", \"volume\": \"30,394,000\"}, \"12\": {\"date\": \"Jan 18, 2019\", \"open\": \"157.50\", \"close\": \"156.82\", \"volume\": \"33,751,000\"}, \"13\": {\"date\": \"Jan 17, 2019\", \"open\": \"154.20\", \"close\": \"155.86\", \"volume\": \"29,821,200\"}, \"14\": {\"date\": \"Jan 16, 2019\", \"open\": \"153.08\", \"close\": \"154.94\", \"volume\": \"30,569,700\"}, \"15\": {\"date\": \"Jan 15, 2019\", \"open\": \"150.27\", \"close\": \"153.07\", \"volume\": \"28,710,900\"}, \"16\": {\"date\": \"Jan 14, 2019\", \"open\": \"150.85\", \"close\": \"150.00\", \"volume\": \"32,439,200\"}, \"17\": {\"date\": \"Jan 11, 2019\", \"open\": \"152.88\", \"close\": \"152.29\", \"volume\": \"27,023,200\"}, \"18\": {\"date\": \"Jan 10, 2019\", \"open\": \"152.50\", \"close\": \"153.80\", \"volume\": \"35,780,700\"}, \"19\": {\"date\": \"Jan 09, 2019\", \"open\": \"151.29\", \"close\": \"153.31\", \"volume\": \"45,099,100\"}, \"20\": {\"date\": \"Jan 08, 2019\", \"open\": \"149.56\", \"close\": \"150.75\", \"volume\": \"41,025,300\"}, \"21\": {\"date\": \"Jan 07, 2019\", \"open\": \"148.70\", \"close\": \"147.93\", \"volume\": \"54,777,800\"}, \"22\": {\"date\": \"Jan 04, 2019\", \"open\": \"144.53\", \"close\": \"148.26\", \"volume\": \"58,607,100\"}, \"23\": {\"date\": \"Jan 03, 2019\", \"open\": \"143.98\", \"close\": \"142.19\", \"volume\": \"91,312,200\"}, \"24\": {\"date\": \"Jan 02, 2019\", \"open\": \"154.89\", \"close\": \"157.92\", \"volume\": \"37,039,700\"}, \"25\": {\"date\": \"Dec 31, 2018\", \"open\": \"158.53\", \"close\": \"157.74\", \"volume\": \"35,003,500\"}, \"26\": {\"date\": \"Dec 28, 2018\", \"open\": \"157.50\", \"close\": \"156.23\", \"volume\": \"42,291,400\"}, \"27\": {\"date\": \"Dec 27, 2018\", \"open\": \"155.84\", \"close\": \"156.15\", \"volume\": \"53,117,100\"}, \"28\": {\"date\": \"Dec 26, 2018\", \"open\": \"148.30\", \"close\": \"157.17\", \"volume\": \"58,582,500\"}, \"29\": {\"date\": \"Dec 24, 2018\", \"open\": \"148.15\", \"close\": \"146.83\", \"volume\": \"37,169,200\"}, \"30\": {\"date\": \"Dec 21, 2018\", \"open\": \"156.86\", \"close\": \"150.73\", \"volume\": \"95,744,600\"}, \"31\": {\"date\": \"Dec 20, 2018\", \"open\": \"160.40\", \"close\": \"156.83\", \"volume\": \"64,773,000\"}, \"32\": {\"date\": \"Dec 19, 2018\", \"open\": \"166.00\", \"close\": \"160.89\", \"volume\": \"49,047,300\"}, \"33\": {\"date\": \"Dec 18, 2018\", \"open\": \"165.38\", \"close\": \"166.07\", \"volume\": \"33,841,500\"}, \"34\": {\"date\": \"Dec 17, 2018\", \"open\": \"165.45\", \"close\": \"163.94\", \"volume\": \"44,287,900\"}, \"35\": {\"date\": \"Dec 14, 2018\", \"open\": \"169.00\", \"close\": \"165.48\", \"volume\": \"40,703,700\"}, \"36\": {\"date\": \"Dec 13, 2018\", \"open\": \"170.49\", \"close\": \"170.95\", \"volume\": \"31,898,600\"}, \"37\": {\"date\": \"Dec 12, 2018\", \"open\": \"170.40\", \"close\": \"169.10\", \"volume\": \"35,627,700\"}, \"38\": {\"date\": \"Dec 11, 2018\", \"open\": \"171.66\", \"close\": \"168.63\", \"volume\": \"47,281,700\"}, \"39\": {\"date\": \"Dec 10, 2018\", \"open\": \"165.00\", \"close\": \"169.60\", \"volume\": \"62,026,000\"}, \"40\": {\"date\": \"Dec 07, 2018\", \"open\": \"173.49\", \"close\": \"168.49\", \"volume\": \"42,281,600\"}, \"41\": {\"date\": \"Dec 06, 2018\", \"open\": \"171.76\", \"close\": \"174.72\", \"volume\": \"43,098,400\"}, \"42\": {\"date\": \"Dec 04, 2018\", \"open\": \"180.95\", \"close\": \"176.69\", \"volume\": \"41,344,300\"}, \"43\": {\"date\": \"Dec 03, 2018\", \"open\": \"184.46\", \"close\": \"184.82\", \"volume\": \"40,802,500\"}, \"44\": {\"date\": \"Nov 30, 2018\", \"open\": \"180.29\", \"close\": \"178.58\", \"volume\": \"39,531,500\"}, \"45\": {\"date\": \"Nov 29, 2018\", \"open\": \"182.66\", \"close\": \"179.55\", \"volume\": \"41,770,000\"}, \"46\": {\"date\": \"Nov 28, 2018\", \"open\": \"176.73\", \"close\": \"180.94\", \"volume\": \"46,062,500\"}, \"47\": {\"date\": \"Nov 27, 2018\", \"open\": \"171.51\", \"close\": \"174.24\", \"volume\": \"41,387,400\"}, \"48\": {\"date\": \"Nov 26, 2018\", \"open\": \"174.24\", \"close\": \"174.62\", \"volume\": \"44,998,500\"}, \"49\": {\"date\": \"Nov 23, 2018\", \"open\": \"174.94\", \"close\": \"172.29\", \"volume\": \"23,624,000\"}, \"50\": {\"date\": \"Nov 21, 2018\", \"open\": \"179.73\", \"close\": \"176.78\", \"volume\": \"31,124,200\"}, \"51\": {\"date\": \"Nov 20, 2018\", \"open\": \"178.37\", \"close\": \"176.98\", \"volume\": \"67,825,200\"}, \"52\": {\"date\": \"Nov 19, 2018\", \"open\": \"190.00\", \"close\": \"185.86\", \"volume\": \"41,925,300\"}, \"53\": {\"date\": \"Nov 16, 2018\", \"open\": \"190.50\", \"close\": \"193.53\", \"volume\": \"36,928,300\"}, \"54\": {\"date\": \"Nov 15, 2018\", \"open\": \"188.39\", \"close\": \"191.41\", \"volume\": \"46,478,800\"}, \"55\": {\"date\": \"Nov 14, 2018\", \"open\": \"193.90\", \"close\": \"186.80\", \"volume\": \"60,801,000\"}, \"56\": {\"date\": \"Nov 13, 2018\", \"open\": \"191.63\", \"close\": \"192.23\", \"volume\": \"46,882,900\"}, \"57\": {\"date\": \"Nov 12, 2018\", \"open\": \"199.00\", \"close\": \"194.17\", \"volume\": \"51,135,500\"}, \"58\": {\"date\": \"Nov 09, 2018\", \"open\": \"205.55\", \"close\": \"204.47\", \"volume\": \"34,365,800\"}, \"59\": {\"date\": \"Nov 08, 2018\", \"open\": \"209.98\", \"close\": \"208.49\", \"volume\": \"25,362,600\"}, \"60\": {\"date\": \"Nov 08, 2018\", \"open\": \"205.97\", \"close\": \"209.95\", \"volume\": \"33,424,400\"}, \"61\": {\"date\": \"Nov 07, 2018\", \"open\": \"201.92\", \"close\": \"203.77\", \"volume\": \"31,882,900\"}, \"62\": {\"date\": \"Nov 06, 2018\", \"open\": \"204.30\", \"close\": \"201.59\", \"volume\": \"66,163,700\"}, \"63\": {\"date\": \"Nov 05, 2018\", \"open\": \"209.55\", \"close\": \"207.48\", \"volume\": \"91,328,700\"}, \"64\": {\"date\": \"Nov 02, 2018\", \"open\": \"219.05\", \"close\": \"222.22\", \"volume\": \"58,323,200\"}, \"65\": {\"date\": \"Nov 01, 2018\", \"open\": \"216.88\", \"close\": \"218.86\", \"volume\": \"38,358,900\"}, \"66\": {\"date\": \"Oct 31, 2018\", \"open\": \"211.15\", \"close\": \"213.30\", \"volume\": \"36,660,000\"}, \"67\": {\"date\": \"Oct 30, 2018\", \"open\": \"219.19\", \"close\": \"212.24\", \"volume\": \"45,935,500\"}, \"68\": {\"date\": \"Oct 29, 2018\", \"open\": \"215.90\", \"close\": \"216.30\", \"volume\": \"47,258,400\"}, \"69\": {\"date\": \"Oct 26, 2018\", \"open\": \"217.71\", \"close\": \"219.80\", \"volume\": \"29,855,800\"}, \"70\": {\"date\": \"Oct 25, 2018\", \"open\": \"222.60\", \"close\": \"215.09\", \"volume\": \"40,925,500\"}, \"71\": {\"date\": \"Oct 24, 2018\", \"open\": \"215.83\", \"close\": \"222.73\", \"volume\": \"38,767,800\"}, \"72\": {\"date\": \"Oct 23, 2018\", \"open\": \"219.79\", \"close\": \"220.65\", \"volume\": \"28,792,100\"}, \"73\": {\"date\": \"Oct 22, 2018\", \"open\": \"218.06\", \"close\": \"219.31\", \"volume\": \"33,078,700\"}, \"74\": {\"date\": \"Oct 19, 2018\", \"open\": \"217.86\", \"close\": \"216.02\", \"volume\": \"32,581,300\"}, \"75\": {\"date\": \"Oct 18, 2018\", \"open\": \"222.30\", \"close\": \"221.19\", \"volume\": \"22,885,400\"}, \"76\": {\"date\": \"Oct 17, 2018\", \"open\": \"218.93\", \"close\": \"222.15\", \"volume\": \"29,184,000\"}, \"77\": {\"date\": \"Oct 16, 2018\", \"open\": \"221.16\", \"close\": \"217.36\", \"volume\": \"30,791,000\"}, \"78\": {\"date\": \"Oct 15, 2018\", \"open\": \"220.42\", \"close\": \"222.11\", \"volume\": \"40,337,900\"}, \"79\": {\"date\": \"Oct 12, 2018\", \"open\": \"214.52\", \"close\": \"214.45\", \"volume\": \"53,124,400\"}, \"80\": {\"date\": \"Oct 11, 2018\", \"open\": \"225.46\", \"close\": \"216.36\", \"volume\": \"41,990,600\"}, \"81\": {\"date\": \"Oct 10, 2018\", \"open\": \"223.64\", \"close\": \"226.87\", \"volume\": \"26,891,000\"}, \"82\": {\"date\": \"Oct 09, 2018\", \"open\": \"222.21\", \"close\": \"223.77\", \"volume\": \"29,663,900\"}, \"83\": {\"date\": \"Oct 08, 2018\", \"open\": \"227.96\", \"close\": \"224.29\", \"volume\": \"33,580,500\"}, \"84\": {\"date\": \"Oct 05, 2018\", \"open\": \"230.78\", \"close\": \"227.99\", \"volume\": \"32,042,000\"}, \"85\": {\"date\": \"Oct 04, 2018\", \"open\": \"230.05\", \"close\": \"232.07\", \"volume\": \"28,654,800\"}, \"86\": {\"date\": \"Oct 03, 2018\", \"open\": \"227.25\", \"close\": \"229.28\", \"volume\": \"24,788,200\"}, \"87\": {\"date\": \"Oct 02, 2018\", \"open\": \"227.95\", \"close\": \"227.26\", \"volume\": \"23,600,800\"}, \"88\": {\"date\": \"Oct 01, 2018\", \"open\": \"224.79\", \"close\": \"225.74\", \"volume\": \"22,929,400\"}, \"89\": {\"date\": \"Sep 28, 2018\", \"open\": \"223.82\", \"close\": \"224.95\", \"volume\": \"30,181,200\"}, \"90\": {\"date\": \"Sep 27, 2018\", \"open\": \"221.00\", \"close\": \"220.42\", \"volume\": \"23,984,700\"}, \"91\": {\"date\": \"Sep 26, 2018\", \"open\": \"219.75\", \"close\": \"222.19\", \"volume\": \"24,554,400\"}, \"92\": {\"date\": \"Sep 25, 2018\", \"open\": \"216.82\", \"close\": \"220.79\", \"volume\": \"27,693,400\"}, \"93\": {\"date\": \"Sep 24, 2018\", \"open\": \"220.78\", \"close\": \"217.66\", \"volume\": \"96,246,700\"}, \"94\": {\"date\": \"Sep 21, 2018\", \"open\": \"220.24\", \"close\": \"220.03\", \"volume\": \"26,608,800\"}, \"95\": {\"date\": \"Sep 20, 2018\", \"open\": \"218.50\", \"close\": \"218.37\", \"volume\": \"27,123,800\"}, \"96\": {\"date\": \"Sep 19, 2018\", \"open\": \"217.79\", \"close\": \"218.24\", \"volume\": \"31,571,700\"}, \"97\": {\"date\": \"Sep 18, 2018\", \"open\": \"222.15\", \"close\": \"217.88\", \"volume\": \"37,195,100\"}, \"98\": {\"date\": \"Sep 17, 2018\", \"open\": \"225.75\", \"close\": \"223.84\", \"volume\": \"31,999,300\"}}\n"
     ]
    }
   ],
   "source": [
    "#export stock information to json\n",
    "jsonarray = json.dumps(stock_info)\n",
    "print(jsonarray)\n",
    "\n",
    "#write json file to local drive, for future use\n",
    "with open('C:\\\\Python\\\\Data\\\\stock_hist.json', 'w') as f:\n",
    "    json.dump(jsonarray, f)"
   ]
  }
 ],
 "metadata": {
  "kernelspec": {
   "display_name": "Python 3",
   "language": "python",
   "name": "python3"
  },
  "language_info": {
   "codemirror_mode": {
    "name": "ipython",
    "version": 3
   },
   "file_extension": ".py",
   "mimetype": "text/x-python",
   "name": "python",
   "nbconvert_exporter": "python",
   "pygments_lexer": "ipython3",
   "version": "3.7.1"
  }
 },
 "nbformat": 4,
 "nbformat_minor": 2
}
