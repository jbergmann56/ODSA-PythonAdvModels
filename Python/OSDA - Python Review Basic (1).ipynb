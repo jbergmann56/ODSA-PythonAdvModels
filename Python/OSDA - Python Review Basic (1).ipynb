{
 "cells": [
  {
   "cell_type": "code",
   "execution_count": 1,
   "metadata": {},
   "outputs": [],
   "source": [
    "#Reference:  https://www.w3schools.com/python/\n",
    "#python examples: https://realpython.com/\n",
    "import datetime #date functionality\n",
    "import re #regular expressions - search string"
   ]
  },
  {
   "cell_type": "code",
   "execution_count": 10,
   "metadata": {},
   "outputs": [
    {
     "name": "stdout",
     "output_type": "stream",
     "text": [
      "<re.Match object; span=(0, 17), match='The rain in Spain'>\n",
      "None\n",
      "2019-06-10 20:13:47.766708\n"
     ]
    }
   ],
   "source": [
    "#SET GLOBAL variables - Can be used throughout Python Program\n",
    "\n",
    "txt_ex = \"The rain in Spain\"\n",
    "search_ex = re.search(\"^The.*Spain$\", txt_ex) #regular expresion\n",
    "print(search_ex)\n",
    "\n",
    "search_ex = re.search(\"^The.*Jeremy$\", txt_ex) #returns \"None\"\n",
    "print(search_ex)\n",
    "\n",
    "#Data Types\n",
    "boolean_ex = True #Boolean\n",
    "int_ex = 1 #Integer\n",
    "float_ex = 2.8  # float\n",
    "\n",
    "list_ex = [int_ex, [\"another\", \"list\"], (\"a\", \"tuple\")] #Value, List & Tuple\n",
    "now_ex = datetime.datetime.now()\n",
    "print(now_ex)"
   ]
  },
  {
   "cell_type": "code",
   "execution_count": 3,
   "metadata": {},
   "outputs": [],
   "source": [
    "def data_structures(): #define function \n",
    "    #List is a collection which is ordered and changeable. Allows duplicate members.\n",
    "    #Note:  Python Lists replace Arrays (from most programming languages)\n",
    "    print('list examples')\n",
    "    mylist = [\"List item 1\", 2, 3.14]\n",
    "    mylist[0] = \"List item 1 again\" # We're changing the item.\n",
    "    mylist[-1] = 3.21 # Here, we refer to the last item.\n",
    "    print(mylist[:])    #Prints ['List item 1', 2, 3.1400000000000001]\n",
    "    print(mylist[0:2])    #Prints ['List item 1', 2]\n",
    "    print(mylist[-3:-1])    #Prints ['List item 1', 2]\n",
    "    print(mylist[1:])    #prints [2, 3.14]\n",
    "    # Adding a third parameter, \"step\" will have Python step in N item increments, rather than 1.\n",
    "    print(mylist[::2])    #Prints ['List item 1', 3.14]\n",
    "\n",
    "    #Tuple is a collection which is ordered and unchangeable. Allows duplicate members. \n",
    "    print('tuple examples')\n",
    "    mytuple = (1, 2, 3, 1)\n",
    "    print(mytuple[0],mytuple[3])\n",
    "\n",
    "    #Set is a collection which is unordered and unindexed. No duplicate members.\n",
    "    print('set examples')\n",
    "    myset = {\"apple\", \"banana\", \"cherry\"}\n",
    "    print(myset)\n",
    "\n",
    "    #Add multiple items to a set, using the update() method:\n",
    "    myset.update([\"orange\", \"mango\", \"grapes\"])\n",
    "    print(myset)  #prints {'apple', 'banana', 'mango', 'cherry', 'grapes', 'orange'}\n",
    "    #use other set operations to manipulate set - example\n",
    "    myset.discard(\"banana\")\n",
    "    print(myset)\n",
    "    \n",
    "    #Dictionary is a collection which is unordered, changeable and indexed. No duplicate members. \n",
    "    print('dictionary examples')\n",
    "    mydict = {\"Key 1\": \"Value 1\", 2: 3, \"pi\": 3.14}\n",
    "    mydict[\"pi\"] = 3.15 # This is how you change dictionary values.\n",
    "    #use set functions to manipulate set\n",
    "\n",
    "    #get length of any type\n",
    "    myfunction = len\n",
    "    print('len examples')\n",
    "    print(myfunction(mylist))\n",
    "    print(myfunction(mytuple))\n",
    "    print(myfunction(myset))\n",
    "    print(myfunction(mydict))\n"
   ]
  },
  {
   "cell_type": "code",
   "execution_count": 4,
   "metadata": {},
   "outputs": [
    {
     "name": "stdout",
     "output_type": "stream",
     "text": [
      "list examples\n",
      "['List item 1 again', 2, 3.21]\n",
      "['List item 1 again', 2]\n",
      "['List item 1 again', 2]\n",
      "[2, 3.21]\n",
      "['List item 1 again', 3.21]\n",
      "tuple examples\n",
      "1 1\n",
      "set examples\n",
      "{'apple', 'banana', 'cherry'}\n",
      "{'banana', 'orange', 'mango', 'grapes', 'cherry', 'apple'}\n",
      "{'orange', 'mango', 'grapes', 'cherry', 'apple'}\n",
      "dictionary examples\n",
      "len examples\n",
      "3\n",
      "4\n",
      "5\n",
      "3\n"
     ]
    }
   ],
   "source": [
    "data_structures()"
   ]
  },
  {
   "cell_type": "code",
   "execution_count": 5,
   "metadata": {},
   "outputs": [],
   "source": [
    "#Reference:  https://www.w3schools.com/python/python_strings.asp\n",
    "#Purpose:  String Manipulation\n",
    "import datetime #date functionality\n",
    "import re #regular expressions - search string\n",
    "\n",
    "def strings():\n",
    "    strString = \"\"\"This is\n",
    "    a multiline\n",
    "    string.\"\"\"\n",
    "    print(strString)\n",
    "    # WARNING: Watch out for the trailing s in \"%(key)s\".\n",
    "    print(\"This %(verb)s a %(noun)s.\" % {\"noun\": \"test\", \"verb\": \"is\"})\n",
    "    #Ouptup: This is a test.\n",
    "    \n",
    "    #Use .format to placehold string values, similar to concatenation\n",
    "    name = \"Jeremiah\"\n",
    "    \"Hello, {}!\".format(name)\n",
    "    print(f\"Hello, {name}!\")\n",
    "    #Output: Hello, Jeremiah!"
   ]
  },
  {
   "cell_type": "code",
   "execution_count": 6,
   "metadata": {},
   "outputs": [
    {
     "name": "stdout",
     "output_type": "stream",
     "text": [
      "This is\n",
      "    a multiline\n",
      "    string.\n",
      "This is a test.\n",
      "Hello, Jeremiah!\n"
     ]
    }
   ],
   "source": [
    "strings()"
   ]
  },
  {
   "cell_type": "code",
   "execution_count": 7,
   "metadata": {},
   "outputs": [
    {
     "name": "stdout",
     "output_type": "stream",
     "text": [
      "a and b are equal\n",
      "At least one condition is FALSE\n",
      "No Conditions are True\n"
     ]
    }
   ],
   "source": [
    "#Reference: https://www.w3schools.com/python/python_conditions.asp\n",
    "#purpose: Python Conditional Statements\n",
    "\n",
    "#if/else statement\n",
    "a = 33\n",
    "b = 33\n",
    "c = 44\n",
    "if b > a:\n",
    "  print(\"b is greater than a\")\n",
    "elif a == b:\n",
    "  print(\"a and b are equal\")\n",
    "\n",
    "#and statement \n",
    "if a > b and c > a:\n",
    "  print(\"Both conditions are True\")\n",
    "else: \n",
    "  print(\"At least one condition is FALSE\")\n",
    "\n",
    "#or statement\n",
    "if a > b or a > c:\n",
    "  print(\"At least one of the conditions is True\")\n",
    "else: \n",
    "  print(\"No Conditions are True\")"
   ]
  },
  {
   "cell_type": "code",
   "execution_count": 8,
   "metadata": {},
   "outputs": [
    {
     "name": "stdout",
     "output_type": "stream",
     "text": [
      "apple\n",
      "banana\n",
      "0\n",
      "1\n",
      "2\n",
      "3\n",
      "4\n",
      "5\n",
      "red apple\n",
      "red banana\n",
      "red cherry\n",
      "big apple\n",
      "big banana\n",
      "big cherry\n",
      "tasty apple\n",
      "tasty banana\n",
      "tasty cherry\n"
     ]
    }
   ],
   "source": [
    "#Reference: https://www.w3schools.com/python/python_conditions.asp\n",
    "#purpose: Python Loops\n",
    "\n",
    "#With the break statement we can stop the loop before it has looped through all the items:\n",
    "fruits = [\"apple\", \"banana\", \"cherry\"]\n",
    "for x in fruits:\n",
    "  print(x) \n",
    "  if x == \"banana\":\n",
    "    break\n",
    "    \n",
    "#The range() function returns a sequence of numbers, starting from 0 by default, \n",
    "#and increments by 1 (by default), and ends at a specified number.\n",
    "for x in range(6):\n",
    "  print(x)\n",
    "\n",
    "#Nested loop - The \"inner loop\" will be executed one time for each iteration of the \"outer loop\":\n",
    "adj = [\"red\", \"big\", \"tasty\"]\n",
    "fruits = [\"apple\", \"banana\", \"cherry\"]\n",
    "\n",
    "for x in adj:\n",
    "  for y in fruits:\n",
    "    print(x, y)"
   ]
  },
  {
   "cell_type": "code",
   "execution_count": 9,
   "metadata": {},
   "outputs": [
    {
     "name": "stdout",
     "output_type": "stream",
     "text": [
      "2018\n",
      "Monday\n"
     ]
    }
   ],
   "source": [
    "#Reference: https://www.w3schools.com/python/python_datetime.asp\n",
    "#purpose: manipulate date/time vriables using python standard libraries\n",
    "\n",
    "import datetime #utilize python date functions from datetime library\n",
    "\n",
    "x = datetime.datetime.now() #create date objects\n",
    "x2 = datetime.datetime(2018, 6, 1)\n",
    "\n",
    "print(x2.year)\n",
    "print(x.strftime(\"%A\"))  #format date as a printable strung - see "
   ]
  }
 ],
 "metadata": {
  "kernelspec": {
   "display_name": "Python 3",
   "language": "python",
   "name": "python3"
  },
  "language_info": {
   "codemirror_mode": {
    "name": "ipython",
    "version": 3
   },
   "file_extension": ".py",
   "mimetype": "text/x-python",
   "name": "python",
   "nbconvert_exporter": "python",
   "pygments_lexer": "ipython3",
   "version": "3.7.1"
  }
 },
 "nbformat": 4,
 "nbformat_minor": 2
}
