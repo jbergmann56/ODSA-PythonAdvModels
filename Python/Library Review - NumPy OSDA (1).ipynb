{
 "cells": [
  {
   "cell_type": "code",
   "execution_count": 9,
   "metadata": {},
   "outputs": [],
   "source": [
    "#Numpy Documentation:  https://docs.python.org/3/library/\n",
    "#Tutorials:  https://www.tutorialspoint.com/numpy/,  https://docs.scipy.org/doc/numpy/user/quickstart.html\n",
    "#Library Purpose: Numerical Python (NumPy) is the fundamental package for scientific computing with Python\n",
    "#Includes: powerful N-dimensional array object,  useful linear algebra, Fourier transform, and random number capabilities\n",
    "#Besides its obvious scientific uses, NumPy can also be used as an efficient multi-dimensional container of generic data. \n",
    "#Arbitrary data-types can be defined. This allows NumPy to seamlessly and speedily integrate with a wide variety of databases.\n",
    "\n",
    "import numpy as np\n",
    "#random num gen classes\n",
    "from numpy.random import rand\n",
    "#Linear algebra classes\n",
    "from numpy.linalg import solve, inv"
   ]
  },
  {
   "cell_type": "code",
   "execution_count": 10,
   "metadata": {},
   "outputs": [],
   "source": [
    "#overview of numpy data structures & operations\n",
    "def data_struct():\n",
    "    print(\"Array creation - does not exist in python base libraries\")\n",
    "    x = np.array([1, 2, 3])\n",
    "    print(x)  #prints array([1, 2, 3])\n",
    "    y = np.arange(10)  # like Python's range, but returns an array\n",
    "    print(y) #prints array([0, 1, 2, 3, 4, 5, 6, 7, 8, 9])\n",
    "\n",
    "    print(\"Basic Numpy operations\")\n",
    "    a = np.array([1, 2, 3, 6])\n",
    "    b = np.linspace(0, 2, 4)  # create an array with four equally spaced points starting with 0 and ending with 2.\n",
    "    print(b)  #Prints \n",
    "    c = a - b #Array/set Difference\n",
    "    print(c) # rints array([ 1.        ,  1.33333333,  1.66666667,  4.        ])\n",
    "    a**2 #All elements ^2\n",
    "    print(a) #prints array([1 2 3 6])\n",
    "\n",
    "    print(\"Universal numpy functions\")\n",
    "    a = np.linspace(-np.pi, np.pi, 100)  \n",
    "    b = np.sin(a) #sine function\n",
    "    c = np.cos(a) #cosine function\n",
    "\n",
    "    a = np.array([[1, 2, 3], [3, 4, 6.7], [5, 9.0, 5]])\n",
    "    print(\"Transpose array - from linalg class\")\n",
    "    a.transpose()  \n",
    "    '''array([[ 1. ,  3. ,  5. ],\n",
    "       [ 2. ,  4. ,  9. ],\n",
    "       [ 3. ,  6.7,  5. ]]) '''\n",
    "    inv(a)\n",
    "    ''' array([[-2.27683616,  0.96045198,  0.07909605],\n",
    "       [ 1.04519774, -0.56497175,  0.1299435 ],\n",
    "       [ 0.39548023,  0.05649718, -0.11299435]]) '''\n",
    "    b =  np.array([3, 2, 1])\n",
    "    print(\"solve the equation ax = b\")\n",
    "    solve(a, b) \n",
    "    #prints results - x = array([-4.83050847,  2.13559322,  1.18644068])\n",
    "    c = rand(3, 3) * 20  # create a 3x3 random matrix of values within [0,1] scaled by 20\n",
    "    print(c)\n",
    "    ''' ex. array([[  3.98732789,   2.47702609,   4.71167924],\n",
    "       [  9.24410671,   5.5240412 ,  10.6468792 ],\n",
    "       [ 10.38136661,   8.44968437,  15.17639591]]) '''\n",
    "    print(\"matrix multiplication\")\n",
    "    np.dot(a, c)  \n",
    "    ''' ex. array([[  53.61964114,   38.8741616 ,   71.53462537],\n",
    "       [ 118.4935668 ,   86.14012835,  158.40440712],\n",
    "       [ 155.04043289,  104.3499231 ,  195.26228855]]) '''\n",
    "    a @ c # Starting with Python 3.5 and NumPy 1.10\n",
    "    ''' ex. array([[  53.61964114,   38.8741616 ,   71.53462537],\n",
    "       [ 118.4935668 ,   86.14012835,  158.40440712],\n",
    "       [ 155.04043289,  104.3499231 ,  195.26228855]]) '''\n"
   ]
  },
  {
   "cell_type": "code",
   "execution_count": 11,
   "metadata": {},
   "outputs": [
    {
     "name": "stdout",
     "output_type": "stream",
     "text": [
      "Array creation - does not exist in python base libraries\n",
      "[1 2 3]\n",
      "[0 1 2 3 4 5 6 7 8 9]\n",
      "Basic Numpy operations\n",
      "[0.         0.66666667 1.33333333 2.        ]\n",
      "[1.         1.33333333 1.66666667 4.        ]\n",
      "[1 2 3 6]\n",
      "Universal numpy functions\n",
      "Transpose array - from linalg class\n",
      "solve the equation ax = b\n",
      "[[12.5236598   1.02335622 19.03375777]\n",
      " [17.96250484  7.29206062 15.78733617]\n",
      " [17.16149418  6.29748448  3.21196677]]\n",
      "matrix multiplication\n"
     ]
    }
   ],
   "source": [
    "data_struct()  "
   ]
  },
  {
   "cell_type": "code",
   "execution_count": 17,
   "metadata": {},
   "outputs": [],
   "source": [
    "def data_types():\n",
    "    print(\"find data type of variable\")\n",
    "    dt = np.dtype(np.int32) \n",
    "    print(dt)  #prints int32\n",
    "\n",
    "    a = np.array([(10,),(20,),(30,)], dtype = dt) \n",
    "    print(a)  #prints [(10,) (20,) (30,)]\n",
    "    \n",
    "    #ndarray example - mixed types\n",
    "    student = np.dtype([('name','S20'), ('age', 'i1'), ('marks', 'f4')]) \n",
    "    a = np.array([('abc', 21, 50),('xyz', 18, 75)], dtype = student) \n",
    "    print(a)  #prints [('abc', 21, 50.0), ('xyz', 18, 75.0)]\n",
    "    print(a['age']) #prints [(10 20 30]"
   ]
  },
  {
   "cell_type": "code",
   "execution_count": 18,
   "metadata": {},
   "outputs": [
    {
     "name": "stdout",
     "output_type": "stream",
     "text": [
      "find data type of variable\n",
      "int32\n",
      "[[10]\n",
      " [20]\n",
      " [30]]\n",
      "[(b'abc', 21, 50.) (b'xyz', 18, 75.)]\n",
      "[21 18]\n"
     ]
    }
   ],
   "source": [
    "data_types()  "
   ]
  },
  {
   "cell_type": "code",
   "execution_count": 14,
   "metadata": {},
   "outputs": [
    {
     "name": "stdout",
     "output_type": "stream",
     "text": [
      "[1 2 3]\n",
      "[1 2 3]\n",
      "[(1, 2, 3) (4, 5)]\n"
     ]
    }
   ],
   "source": [
    "#copy existing data structure into new array\n",
    "# convert list to ndarray \n",
    "import numpy as np \n",
    "\n",
    "# convert list to ndarray \n",
    "x = [1,2,3] #python list\n",
    "a = np.asarray(x) #into numpy array\n",
    "print(a)\n",
    "\n",
    "# ndarray from tuple \n",
    "x = (1,2,3) \n",
    "a = np.asarray(x) \n",
    "print(a)\n",
    "\n",
    "# ndarray from list of tuples \n",
    "x = [(1,2,3),(4,5)] \n",
    "a = np.asarray(x) \n",
    "print(a)"
   ]
  },
  {
   "cell_type": "code",
   "execution_count": 15,
   "metadata": {
    "scrolled": true
   },
   "outputs": [
    {
     "name": "stdout",
     "output_type": "stream",
     "text": [
      "Our array is:\n",
      "[[30 40 70]\n",
      " [80 20 10]\n",
      " [50 90 60]]\n",
      "\n",
      "\n",
      "Applying amin() function:\n",
      "[30 10 50]\n",
      "\n",
      "\n",
      "Applying amin() function again:\n",
      "[30 20 10]\n",
      "\n",
      "\n",
      "Applying amax() function:\n",
      "90\n",
      "\n",
      "\n",
      "Applying amax() function again:\n",
      "[80 90 70]\n",
      "Applying ptp() function:\n",
      "80\n",
      "\n",
      "\n",
      "Applying ptp() function along axis 1:\n",
      "[40 70 40]\n",
      "\n",
      "\n",
      "Applying ptp() function along axis 0:\n",
      "[50 70 60]\n",
      "Applying percentile() function:\n",
      "50.0\n",
      "\n",
      "\n",
      "Applying percentile() function along axis 1:\n",
      "[40. 20. 60.]\n",
      "\n",
      "\n",
      "Applying percentile() function along axis 0:\n",
      "[50. 40. 60.]\n",
      "Applying median() function:\n",
      "50.0\n",
      "\n",
      "\n",
      "Applying median() function along axis 0:\n",
      "[50. 40. 60.]\n",
      "\n",
      "\n",
      "Applying median() function along axis 1:\n",
      "[40. 20. 60.]\n",
      "Applying mean() function:\n",
      "50.0\n",
      "\n",
      "\n",
      "Applying mean() function along axis 0:\n",
      "[53.33333333 50.         46.66666667]\n",
      "\n",
      "\n",
      "Applying mean() function along axis 1:\n",
      "[46.66666667 36.66666667 66.66666667]\n"
     ]
    }
   ],
   "source": [
    "import numpy as np \n",
    "a = np.array([[30,40,70],[80,20,10],[50,90,60]]) \n",
    "\n",
    "print('Our array is:' )\n",
    "print(a)  \n",
    "print('\\n'  )\n",
    "\n",
    "print('Applying amin() function:' )\n",
    "print(np.amin(a,1) )\n",
    "print('\\n'  )\n",
    "\n",
    "print('Applying amin() function again:' )\n",
    "print(np.amin(a,0) )\n",
    "print('\\n'  )\n",
    "\n",
    "print('Applying amax() function:' )\n",
    "print(np.amax(a) )\n",
    "print('\\n'  )\n",
    "\n",
    "print('Applying amax() function again:' )\n",
    "print(np.amax(a, axis = 0))\n",
    "\n",
    "\n",
    "#numpy.ptp() function returns the range (maximum-minimum) of values along an axis.\n",
    "print('Applying ptp() function:' )\n",
    "print(np.ptp(a) )\n",
    "print('\\n'  )\n",
    "\n",
    "print('Applying ptp() function along axis 1:' )\n",
    "print(np.ptp(a, axis = 1) )\n",
    "print('\\n'   )\n",
    "\n",
    "print('Applying ptp() function along axis 0:')\n",
    "print(np.ptp(a, axis = 0) )\n",
    "\n",
    "print('Applying percentile() function:' )\n",
    "print(np.percentile(a,50) )\n",
    "print('\\n'  )\n",
    "\n",
    "print('Applying percentile() function along axis 1:') \n",
    "print(np.percentile(a,50, axis = 1) )\n",
    "print('\\n'  )\n",
    "\n",
    "print('Applying percentile() function along axis 0:')\n",
    "print(np.percentile(a,50, axis = 0))\n",
    "\n",
    "print('Applying median() function:' )\n",
    "print( np.median(a) )\n",
    "print( '\\n'  )\n",
    "\n",
    "print( 'Applying median() function along axis 0:') \n",
    "print( np.median(a, axis = 0) )\n",
    "print( '\\n'  )\n",
    " \n",
    "print( 'Applying median() function along axis 1:' )\n",
    "print( np.median(a, axis = 1))\n",
    "\n",
    "print( 'Applying mean() function:' )\n",
    "print( np.mean(a) )\n",
    "print( '\\n'  )\n",
    "\n",
    "print( 'Applying mean() function along axis 0:' )\n",
    "print( np.mean(a, axis = 0) )\n",
    "print( '\\n'  )\n",
    "\n",
    "print( 'Applying mean() function along axis 1:' )\n",
    "print( np.mean(a, axis = 1))\n",
    "   \n",
    "      \n"
   ]
  },
  {
   "cell_type": "code",
   "execution_count": 16,
   "metadata": {},
   "outputs": [
    {
     "ename": "SyntaxError",
     "evalue": "Missing parentheses in call to 'print'. Did you mean print('Our array is:')? (<ipython-input-16-720ffed1c6e4>, line 4)",
     "output_type": "error",
     "traceback": [
      "\u001b[1;36m  File \u001b[1;32m\"<ipython-input-16-720ffed1c6e4>\"\u001b[1;36m, line \u001b[1;32m4\u001b[0m\n\u001b[1;33m    print 'Our array is:'\u001b[0m\n\u001b[1;37m                        ^\u001b[0m\n\u001b[1;31mSyntaxError\u001b[0m\u001b[1;31m:\u001b[0m Missing parentheses in call to 'print'. Did you mean print('Our array is:')?\n"
     ]
    }
   ],
   "source": [
    "#reshape and modify array\n",
    "a = np.arange(6).reshape(3,2) \n",
    "\n",
    "print('Our array is:') \n",
    "print(a) \n",
    "print('\\n')  \n",
    "\n",
    "print('Modified array:')\n",
    "wt = np.array([3,5]) \n",
    "print(np.average(a, axis = 1, weights = wt) \n",
    "print('\\n')  \n",
    "\n",
    "print 'Modified array:' \n",
    "print np.average(a, axis = 1, weights = wt, returned = True)"
   ]
  },
  {
   "cell_type": "code",
   "execution_count": null,
   "metadata": {},
   "outputs": [],
   "source": []
  }
 ],
 "metadata": {
  "kernelspec": {
   "display_name": "Python 3",
   "language": "python",
   "name": "python3"
  },
  "language_info": {
   "codemirror_mode": {
    "name": "ipython",
    "version": 3
   },
   "file_extension": ".py",
   "mimetype": "text/x-python",
   "name": "python",
   "nbconvert_exporter": "python",
   "pygments_lexer": "ipython3",
   "version": "3.7.1"
  }
 },
 "nbformat": 4,
 "nbformat_minor": 2
}
