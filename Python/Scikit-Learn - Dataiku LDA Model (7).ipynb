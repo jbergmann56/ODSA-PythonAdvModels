{
 "cells": [
  {
   "cell_type": "code",
   "execution_count": 9,
   "metadata": {},
   "outputs": [],
   "source": [
    "#Goal - Refactor and Improve the Gensim Word2Vec LSI NLP model using Scikit-learn, for use within dataiku\n",
    "\n",
    "#LDA Overview: LDA is technique in natural language processing of analyzing relationships between a set of documents \n",
    "#and the terms they contain by producing a set of concepts related to the documents and terms. \n",
    "#i.e. LDA assumes that words that are close in meaning will occur in similar pieces of text \n",
    "\n",
    "#global variable that work as model parameters - adjust for model performance \"fine-tuning\"\n",
    "n_samples = 2000 #sample size\n",
    "n_features = 1000 #name/entity recgonition & group selection (vectors)\n",
    "n_components = 5 #themes\n",
    "n_top_words = 10 #words per theme"
   ]
  },
  {
   "cell_type": "code",
   "execution_count": 10,
   "metadata": {},
   "outputs": [
    {
     "name": "stdout",
     "output_type": "stream",
     "text": [
      "Folder \"C:\\Users\\JTBVEN~1\\AppData\\Local\\Temp\" will be used to save temporary dictionary and corpus.\n"
     ]
    }
   ],
   "source": [
    "#import libraries for data structures and Gensim Word2Vec API\n",
    "import os\n",
    "import tempfile\n",
    "TEMP_FOLDER = tempfile.gettempdir()\n",
    "print('Folder \"{}\" will be used to save temporary dictionary and corpus.'.format(TEMP_FOLDER))\n",
    "\n",
    "#improved data structures - numpy & pandas\n",
    "import numpy as np\n",
    "import pandas as pd\n",
    "\n",
    "#core gensim packages - Replace with Dataiku visual recipies!\n",
    "'''\n",
    "import gensim \n",
    "from gensim import corpora\n",
    "from gensim import models\n",
    "from gensim.test.utils import get_tmpfile\n",
    "#data pre-processing tools from gensim package\n",
    "from gensim.parsing.preprocessing import preprocess_string \n",
    "from gensim.parsing.preprocessing import remove_stopwords \n",
    "from gensim.parsing.preprocessing import strip_non_alphanum \n",
    "from gensim.parsing.preprocessing import strip_numeric\n",
    "from gensim.parsing.preprocessing import strip_punctuation\n",
    "from gensim.parsing.preprocessing import strip_multiple_whitespaces\n",
    "from gensim.parsing.preprocessing import stem_text #transform to lowercase then stem\n",
    "from gensim.summarization import summarize\n",
    "from gensim.summarization import keywords\n",
    "'''\n",
    "\n",
    "#import scikit-learn & graphical libraries\n",
    "# Any results you write to the current directory are saved as output.\n",
    "import matplotlib.pyplot as plt\n",
    "import seaborn as sns #Seaborn is a Python data visualization library based on matplotlib. \n",
    "sns.set(style=\"white\") #white background style for seaborn plots\n",
    "sns.set(style=\"whitegrid\", color_codes=True)\n",
    "\n",
    "#import sklearn libraries for NLP prep, model bilding & validation steps - for use in Dataiku\n",
    "from sklearn import preprocessing #data prep - module includes scaling, centering, normalization, binarization and imputation methods.\n",
    "from sklearn.feature_extraction import text #used for removing stop words and obtaining feature extraction from text\n",
    "from sklearn.metrics import accuracy_score  #used for model evaluation - https://scikit-learn.org/stable/modules/model_evaluation.html#model-evaluation\n",
    "from sklearn.feature_extraction.text import CountVectorizer  #bag-of-words vectorication for LDA model\n",
    "from sklearn.decomposition import LatentDirichletAllocation #model for NLP topic extraction, similar to gensim LDA\n",
    "from sklearn.datasets import make_multilabel_classification #create random test dataset\n",
    "from sklearn.model_selection import train_test_split"
   ]
  },
  {
   "cell_type": "code",
   "execution_count": 11,
   "metadata": {},
   "outputs": [
    {
     "name": "stdout",
     "output_type": "stream",
     "text": [
      "CRISP-DM Task: Data Preparation\n",
      "Task 1: Read-in a text-based document, aka \"establishing the corpus\n",
      "Pandas File I/O Example - csv read\n",
      "        ID  Branch Interview Date Transaction Date Comment Type  \\\n",
      "0  4278642     355      2/24/2015        2/23/2015   Compliment   \n",
      "1  3329834     311      4/10/2014         4/9/2014   Compliment   \n",
      "2  4182303     353      1/14/2015        1/13/2015   Compliment   \n",
      "3  4228554     318       2/4/2015         2/3/2015   Compliment   \n",
      "4  3860433     351       9/4/2014         9/3/2014   Compliment   \n",
      "\n",
      "                                             Comment Follow-up  \\\n",
      "0  MY BANK is always good to me. I have banked wi...       NaN   \n",
      "1  MY BANK is the best for me. They help people w...       NaN   \n",
      "2  MY BANK has been 100 percent on top on any ban...       NaN   \n",
      "3  Absolutely no problems with them. Everything h...       NaN   \n",
      "4  Absolutely. They are efficient, courteous and ...       NaN   \n",
      "\n",
      "   Satisfaction Rating                                    Comment_NoComma  \\\n",
      "0                   10  MY BANK is always good to me. I have banked wi...   \n",
      "1                    8  MY BANK is the best for me. They help people w...   \n",
      "2                    8  MY BANK has been 100 percent on top on any ban...   \n",
      "3                    9  Absolutely no problems with them. Everything h...   \n",
      "4                    9  Absolutely. They are efficient courteous and h...   \n",
      "\n",
      "                                      Comment_Clean,  \n",
      "0  MY BANK is always good to me. I have banked wi...  \n",
      "1  MY BANK is the best for me. They help people w...  \n",
      "2  MY BANK has been 100 percent on top on any ban...  \n",
      "3  Absolutely no problems with them. Everything h...  \n",
      "4  Absolutely. They are efficient courteous and h...  \n"
     ]
    }
   ],
   "source": [
    "#CRISP-DM Task: Data Preparation \n",
    "#import favorite text-based dataset for analysis using pandas dataframe - compatible w/scikit-learn\n",
    "def read_text(path):\n",
    "    print(\"Pandas File I/O Example - csv read\")\n",
    "    text=pd.read_csv(path) #import to pandas DataFrame\n",
    "    return text #return pandas dataframe type\n",
    "\n",
    "print('CRISP-DM Task: Data Preparation')\n",
    "print('Task 1: Read-in a text-based document, aka \"establishing the corpus')\n",
    "documents = read_text(\"..\\Data\\Text_Mining_Sample_CSV.csv\") #Relative path - to tabular csv file \n",
    "print(documents.head())"
   ]
  },
  {
   "cell_type": "code",
   "execution_count": 12,
   "metadata": {},
   "outputs": [
    {
     "name": "stdout",
     "output_type": "stream",
     "text": [
      "Task 2: Preprocessing dataset, including stoplist, word frequencies & filters\n",
      "Task 2a: Remove punctuation, non-alphanumeric and numeric characters\n",
      "Preprocessing Corpus from pandas data frame\n"
     ]
    }
   ],
   "source": [
    "#preprocess data for use in text mining/NLP - refactored for pandas dataframe\n",
    "def preprocess_text(corpus,field_name = 'Comment'):\n",
    "    print(\"Preprocessing Corpus from pandas data frame\")\n",
    "    for index, row in corpus.iterrows():  #iterate through rows in dataframe\n",
    "        line = row['Comment'].strip('\\n')\n",
    "        line = strip_punctuation(line)\n",
    "        line = strip_non_alphanum(line)\n",
    "        line = strip_numeric(line)\n",
    "        line = strip_multiple_whitespaces(line)\n",
    "        #line = strip_short(line)\n",
    "        #add cleaned text line to new dataframe\n",
    "        corpus.at[index,field_name] = line #set value at row/column in corpus dataframet            \n",
    "    return corpus\n",
    "\n",
    "print('Task 2: Preprocessing dataset, including stoplist, word frequencies & filters')\n",
    "print('Task 2a: Remove punctuation, non-alphanumeric and numeric characters')\n",
    "#apply preprocessing function to pandas df text field \"comment\" to create a \"raw\" text corpus\n",
    "raw_corpus = preprocess_text(documents,field_name = 'Comment') "
   ]
  },
  {
   "cell_type": "code",
   "execution_count": 13,
   "metadata": {},
   "outputs": [
    {
     "name": "stdout",
     "output_type": "stream",
     "text": [
      "Task 2b: remove english stopwords and add additional to remove from text document\n",
      "frozenset({'same', 'how', 'most', 'find', 'once', 'also', 'whenever', 'whereby', 'anything', 'she', 'everything', 'that', 'well', 'throughout', 'take', 'seeming', 'where', 'a', 'meanwhile', 'whom', 'eg', 'neither', 'so', 'something', 'somewhere', 'within', 'up', 'per', 'since', 'besides', 'out', 'them', 'this', 'ltd', 'anyhow', 'keep', 'give', 'very', 'indeed', 'ten', 'those', 'mine', 'during', 'perhaps', 'thereupon', 'name', 'they', 'while', 'amongst', 'are', 'others', 'thick', 'bottom', 'from', 'these', 'nine', 'why', 'has', 'de', 'becomes', 'cannot', 'elsewhere', 'please', 'get', 'there', 'back', 'around', 'as', 'never', 'can', 'either', 'would', 'everywhere', 'herself', 'not', 'whereafter', 'whereas', 'had', 'hereby', 'done', 'its', 'thin', 'whose', 'con', 'below', 'off', 'ourselves', 'twelve', 'moreover', 'fifteen', 'go', 'before', 'together', 'onto', 'alone', 'on', 'cant', 'noone', 'two', 'any', 'some', 'whether', 'another', 'became', 'afterwards', 'now', 'his', 'next', 'the', 'six', 'enough', 'thence', 'through', 'often', 'formerly', 'seemed', 'who', 'nobody', 'amount', 'than', 'mostly', 'therefore', 'her', 'all', 'here', 'no', 'itself', 'could', 'almost', 'last', 'anyone', 'due', 'nowhere', 'it', 'which', 'else', 'show', 'is', 'hers', 'un', 'with', 'several', 'will', 'top', 'five', 'four', 'by', 'should', 'because', 'sometimes', 'sincere', 'least', 'put', 'hereafter', 'already', 'couldnt', 'behind', 'down', 'between', 'both', 'eight', 'cry', 'he', 'serious', 'mill', 'see', 'much', 'three', 'anywhere', 'becoming', 'what', 'fifty', 'fire', 'move', 'except', 'front', 'latter', 'found', 'seem', 'but', 'i', 'few', 'twenty', 'first', 'might', 'at', 'side', 'us', 'hundred', 'detail', 'more', 'thereby', 'anyway', 'less', 'thus', 'himself', 're', 'beyond', 'against', 'or', 'only', 'full', 'among', 'call', 'everyone', 'namely', 'beside', 'was', 'eleven', 'me', 'be', 'been', 'still', 'yet', 'of', 'whither', 'again', 'may', 'ie', 'being', 'above', 'for', 'fill', 'sixty', 'made', 'nor', 'herein', 'if', 'yourself', 'yours', 'otherwise', 'into', 'under', 'third', 'co', 'latterly', 'we', 'towards', 'empty', 'him', 'until', 'then', 'every', 'own', 'via', 'ours', 'nevertheless', 'one', 'hereupon', 'thru', 'inc', 'themselves', 'whole', 'hasnt', 'along', 'without', 'wherein', 'do', 'my', 'were', 'and', 'have', 'even', 'many', 'whatever', 'rather', 'sometime', 'am', 'however', 'therein', 'always', 'bill', 'though', 'our', 'your', 'hence', 'interest', 'each', 'you', 'system', 'after', 'amoungst', 'an', 'somehow', 'myself', 'toward', 'whoever', 'although', 'former', 'further', 'across', 'nothing', 'seems', 'etc', 'whence', 'ever', 'upon', 'their', 'wherever', 'someone', 'about', 'other', 'must', 'part', 'such', 'none', 'describe', 'over', 'to', 'in', 'whereupon', 'beforehand', 'forty', 'thereafter', 'too', 'when', 'become', 'yourselves'})\n"
     ]
    }
   ],
   "source": [
    "print('Task 2b: remove english stopwords and add additional to remove from text document')\n",
    "#set stopword list - see here for set of english \"stop words\": https://github.com/scikit-learn/scikit-learn/blob/master/sklearn/feature_extraction/stop_words.py\n",
    "#scikit-learn uses a stoplist \"frozenset\" - immutable python set - \"ENGLISH_STOP_WORDS\" \n",
    "#use standard english stop words, along with aditionally defined in \"Union Statement\"\n",
    "stop_words = text.ENGLISH_STOP_WORDS.union({\"have\", \"with\", \"are\"}) \n",
    "\n",
    "print(stop_words)"
   ]
  },
  {
   "cell_type": "code",
   "execution_count": 14,
   "metadata": {},
   "outputs": [
    {
     "name": "stdout",
     "output_type": "stream",
     "text": [
      "Task 2b: create a BOW vector for use with Latent-Dirichlet-Allocation (LDA) Models, using assigned stop words\n",
      "{'bank': 142, 'good': 784, 'banked': 143, 'years': 2050, 'old': 1254, 'dealt': 457, 'personable': 1332, 'like': 1046, 'family': 665, 'best': 164, 'help': 855, 'people': 1326, 'really': 1464, 'need': 1202, 'percent': 1327, 've': 1947, 'absolutely': 3, 'amazing': 53, 'tellers': 1820, 'way': 1984, 'provide': 1424, 'excellent': 626, 'service': 1613, 'time': 1853, 'walk': 1967, 'leave': 1030, 'satisfied': 1579, 'gotten': 789, 'better': 165, 'personal': 1333, 'attention': 113, 'problems': 1397, 'great': 798, 'happy': 836, 'trouble': 1890, 'whatsoever': 2004, 'efficient': 579, 'courteous': 417, 'helpful': 857, 'actually': 25, 'friendliness': 738, 'moved': 1186, 'ago': 42, 'opened': 1260, 'accounts': 12, 'led': 1032, 'direction': 505, 'long': 1080, 'don': 535, 'problem': 1396, 'fine': 701, 'know': 1004, 'doing': 532, 'haven': 843, 'banking': 146, 'kind': 997, 'questions': 1439, 'answered': 61, 'mentioned': 1151, 'things': 1838, 'told': 1861, 'makes': 1115, 'just': 986, 'thing': 1837, 'issue': 964, 'knows': 1009, 'reasons': 1467, 'talked': 1801, 'everybody': 622, 'pleasant': 1356, 'make': 1114, 'mistakes': 1170, 'greet': 801, 'treat': 1883, 'member': 1147, 'friend': 735, 'number': 1230, 'able': 1, 'aren': 92, 'branch': 188, 'manager': 1121, 'helps': 860, 'dressed': 552, 'nice': 1209, 'having': 844, 'months': 1180, 'sat': 1576, 'called': 222, 'main': 1111, 'took': 1863, 'wasn': 1978, 'ask': 96, 'transferring': 1878, 'money': 1177, 'ira': 959, 'going': 781, 'say': 1589, 'cari': 244, 'wells': 1999, 'welcoming': 1998, 'treats': 1886, 'respect': 1527, 'wonderful': 2029, 'addressed': 31, 'pleasure': 1358, 'deal': 453, 'effort': 581, 'asked': 97, 'rate': 1454, 'lot': 1091, 'conversation': 393, 'convenient': 392, 'anytime': 68, 'care': 241, 'convenience': 391, 'hours': 896, 'work': 2032, 'answer': 60, 'friendly': 739, 'located': 1073, 'assistance': 104, 'advise': 38, 'girls': 770, 'kids': 995, 'patient': 1316, 'll': 1065, 'close': 309, 'overdrawing': 1290, 'let': 1036, 'banks': 147, 'worked': 2033, 'weren': 2001, 'did': 494, 'business': 214, 'went': 2000, 'mistake': 1169, 'stayed': 1731, 'walking': 1969, 'door': 537, 'transfer': 1876, 'mr': 1188, 'jackson': 968, 'month': 1179, 'pursue': 1432, 'needs': 1204, 'cashier': 251, 'area': 91, 'pull': 1427, 'previous': 1387, 'paperwork': 1304, 'transaction': 1874, 'history': 873, 'right': 1551, 'visit': 1955, 'impressed': 913, 'level': 1040, 'treated': 1884, 'members': 1148, 'pleased': 1357, 'provided': 1425, 'professional': 1405, 'polite': 1364, 'felt': 690, 'believe': 158, 'honest': 883, 'place': 1351, 'elharth': 584, 'north': 1220, 'constantly': 387, 'smiling': 1675, 'cash': 249, 'teller': 1819, 'says': 1591, 'trust': 1893, 'amy': 56, 'landlord': 1014, 'farm': 669, 'chase': 277, 'switched': 1792, 'basically': 150, 'feel': 684, 'little': 1060, 'left': 1033, 'chance': 266, 'customer': 437, 'mom': 1175, 'jeff': 970, 'monique': 1178, 'ones': 1257, 'sad': 1570, 'times': 1856, 'gone': 783, 'day': 449, 'snobby': 1679, 'person': 1331, 'information': 925, 'issues': 966, 'fixed': 707, 'immediately': 911, 'names': 1193, 'notice': 1223, 'vehicles': 1949, 'car': 238, 'loan': 1067, 'different': 498, 'helped': 856, 'explained': 645, 'terry': 1830, 'past': 1314, 'solved': 1686, 'companies': 342, 'draft': 545, 'account': 11, 'needed': 1203, 'fast': 672, 'general': 759, 'fraud': 727, 'taken': 1797, 'gets': 766, 'enjoy': 602, 'working': 2036, 'set': 1618, 'away': 131, 'benefits': 162, 'kinds': 1000, 'overall': 1284, 'atmosphere': 110, 'wait': 1960, 'line': 1052, 'corner': 402, 'easy': 572, 'access': 6, 'prompt': 1413, 'come': 332, 'dealing': 454, 'nicer': 1211, 'employees': 594, 'shared': 1625, 'currently': 436, 'follow': 710, 'outstanding': 1283, 'feed': 682, 'fees': 687, 'use': 1934, 'online': 1258, 'appreciate': 83, 'eager': 565, 'hesitations': 865, 'awesome': 132, 'experience': 639, 'lots': 1092, 'happiness': 835, 'undivided': 1916, 'think': 1839, 'cheers': 285, 'feels': 686, 'home': 880, 'change': 267, 'new': 1207, 'maybe': 1139, 'bad': 137, 'experiences': 641, 'customers': 438, 'exactly': 624, 'loans': 1069, 'run': 1566, 'reason': 1465, 'waiting': 1962, 'remember': 1510, 'mannered': 1125, 'win': 2012, 'lottery': 1093, 'tomorrow': 1862, 'negative': 1205, 'friends': 740, 'came': 226, 'town': 1868, 'got': 788, 'greeter': 803, 'funds': 748, 'used': 1935, 'vital': 1958, 'connection': 380, 'welcome': 1996, 'mother': 1184, 'grandmother': 795, 'young': 2054, 'interested': 947, 'want': 1973, 'feeling': 685, 'love': 1095, 'clueless': 316, 'promptness': 1415, 'joy': 980, 'taking': 1799, 'distance': 523, 'website': 1989, 'bought': 182, 'house': 897, 'building': 210, 'downtown': 544, 'acknowledge': 15, 'human': 899, 'recommendations': 1478, 'far': 667, 'live': 1061, 'available': 126, 'deposit': 482, 'talk': 1800, 'somebody': 1688, 'huntington': 901, 'room': 1560, 'watch': 1980, 'tv': 1904, 'snacks': 1678, 'coffee': 319, 'machine': 1104, 'question': 1437, 'couple': 415, 'overseas': 1294, 'satisfy': 1581, 'drive': 555, 'timely': 1855, 'candy': 232, 'speaks': 1701, 'look': 1083, 'buildings': 211, 'locally': 1072, 'owned': 1297, 'consistent': 386, 'basis': 151, 'matter': 1135, 'comfortable': 334, 'job': 974, 'correctly': 406, 'genuinely': 763, 'act': 17, 'desk': 490, 'loyal': 1100, 'known': 1008, 'zero': 2055, 'concerns': 369, 'honesty': 885, 'sincerity': 1655, 'conduct': 371, 'thank': 1833, 'recognize': 1474, 'legally': 1035, 'blind': 173, 'goes': 780, 'asks': 99, 'knowledgeable': 1007, 'recommended': 1479, 'equity': 610, 'checking': 282, 'elderly': 582, 'lady': 1012, 'means': 1142, 'complaints': 354, 'balance': 139, 'fargo': 668, 'shady': 1621, 'omitted': 1256, 'cashing': 252, 'check': 278, 'overdrafts': 1288, 'doesn': 530, 'eat': 574, 'lunch': 1103, 'hour': 895, 'divorce': 525, 'paid': 1300, 'ex': 623, 'wife': 2007, 'directly': 506, 'state': 1723, 'said': 1574, 'didn': 495, 'pay': 1318, 'gave': 758, 'prove': 1423, 'paying': 1319, 'saved': 1584, 'court': 416, 'battle': 154, 'nipped': 1216, 'bud': 209, 'fifth': 691, 'awful': 133, 'couldn': 409, 'handle': 828, 'street': 1751, 'martin': 1133, 'grocery': 811, 'store': 1746, 'double': 540, 'bang': 141, 'fits': 705, 'financial': 699, 'difficulties': 500, 'feet': 688, 'secure': 1600, 'small': 1670, 'acquired': 16, 'busy': 217, 'answers': 63, 'real': 1461, 'location': 1074, 'previously': 1388, 'easily': 571, 'won': 2027, 'parents': 1305, 'probably': 1395, 'college': 326, 'student': 1758, 'insure': 942, 'knowing': 1005, 'atm': 109, 'campus': 228, 'allow': 47, 'waive': 1965, 'type': 1906, 'open': 1259, 'till': 1852, 'night': 1213, 'sunday': 1774, 'franklin': 726, 'bristol': 202, 'satisfaction': 1578, 'big': 166, 'organization': 1275, 'today': 1859, 'world': 2038, 'dying': 564, 'art': 94, 'school': 1593, 'dealings': 455, 'computers': 364, 'waste': 1979, 'accurate': 14, 'understand': 1913, 'black': 171, 'white': 2005, 'started': 1721, 'extremely': 652, 'lived': 1062, 'states': 1727, 'personnel': 1339, 'cleanliness': 301, 'appearance': 79, 'attitude': 115, 'quick': 1440, 'sue': 1768, 'compare': 344, 'michigan': 1157, 'try': 1896, 'daughters': 448, 'staff': 1715, 'caused': 254, 'grief': 808, 'tell': 1818, 'clean': 300, 'duty': 563, 'recognition': 1473, 'neat': 1201, 'days': 451, 'enter': 605, 'relationship': 1506, 'personalized': 1337, 'proprietary': 1418, 'security': 1601, 'kindness': 999, 'charge': 272, 'breathed': 194, 'charged': 273, 'shouldn': 1636, 'fuss': 751, 'thought': 1843, 'okay': 1252, 'husband': 904, 'construction': 388, 'passed': 1311, 'charges': 274, 'mess': 1153, 'ready': 1460, 'manner': 1124, 'positive': 1372, 'greeting': 804, 'prior': 1393, 'familiar': 664, 'complaint': 353, 'fabulous': 654, 'pretty': 1386, 'trainees': 1872, 'exceptional': 627, 'special': 1702, 'joke': 978, 'step': 1735, 'surveys': 1787, 'inform': 924, 'specials': 1703, 'add': 27, 'assets': 101, 'hope': 889, 'stays': 1733, 'forever': 716, 'admire': 34, 'options': 1269, 'rates': 1455, 'informed': 927, 'informs': 928, 'brett': 197, 'mchoffer': 1140, 'bonnie': 176, 'hobbs': 875, 'services': 1616, 'visited': 1956, 'walmart': 1972, 'son': 1690, 'skills': 1663, 'gives': 772, 'second': 1599, 'minutes': 1166, 'max': 1138, 'named': 1192, 'carrie': 246, 'switch': 1791, 'waynedale': 1986, 'wouldn': 2043, 'deserve': 488, 'pat': 1315, 'award': 129, 'caring': 245, 'consideration': 384, 'wealthy': 1988, 'seriously': 1612, 'surprised': 1784, 'fashion': 670, 'experienced': 640, 'willing': 2009, 'stuff': 1760, 'handled': 829, 'grew': 807, 'kentucky': 991, 'indiana': 921, 'expect': 634, 'nicely': 1210, 'counter': 412, 'absolute': 2, 'wave': 1983, 'difficult': 499, 'sibling': 1642, 'yells': 2051, 'outside': 1282, 'whoop': 2006, 'disrespectful': 521, 'princess': 1389, 'horrible': 891, 'getting': 767, 'helping': 859, 'erica': 612, 'extra': 651, 'sure': 1782, 'understood': 1915, 'doubt': 541, 'behavior': 157, 'dog': 531, 'favorite': 676, 'cane': 233, 'suggested': 1771, 'easier': 570, 'surgery': 1783, 'arrangements': 93, 'sundays': 1775, 'factor': 658, 'organized': 1276, 'sorted': 1695, 'situation': 1661, 'indicate': 922, 'receive': 1469, 'held': 853, 'anyways': 69, 'inside': 933, 'overly': 1292, 'screen': 1595, 'appropriately': 85, 'proper': 1416, 'respectful': 1529, 'morning': 1182, 'heart': 850, 'required': 1521, 'smaller': 1671, 'larger': 1018, 'south': 1698, 'bend': 161, 'branches': 189, 'driving': 558, 'guess': 817, 'cup': 435, 'water': 1982, 'cold': 323, 'happen': 832, 'sit': 1659, 'thrus': 1848, 'bankers': 145, 'trip': 1889, 'fantastic': 666, 'personally': 1338, 'debit': 460, 'cards': 240, 'fashioned': 671, 'face': 655, 'checks': 283, 'operates': 1263, 'businesses': 215, 'solve': 1685, 'asking': 98, 'bunch': 212, 'supposed': 1781, 'address': 30, 'transactions': 1875, 'identification': 906, 'thorough': 1841, 'promptly': 1414, 'listen': 1057, 'point': 1361, 'clients': 308, 'actual': 24, 'instead': 936, 'works': 2037, 'girl': 768, 'cool': 395, 'wanted': 1974, 'treatment': 1885, 'ups': 1931, 'smooth': 1676, 'attentive': 114, 'comes': 333, 'matters': 1136, 'greetings': 805, 'heard': 849, 'answering': 62, 'changing': 270, 'offer': 1242, 'recommend': 1476, 'plan': 1354, 'bit': 170, 'kept': 992, 'performance': 1329, 'rush': 1568, 'waits': 1964, 'transact': 1873, 'trained': 1871, 'looking': 1085, 'internet': 952, 'laugh': 1023, 'tease': 1812, 'talking': 1802, 'age': 41, 'meet': 1145, 'music': 1191, 'accommodating': 8, 'period': 1330, 'life': 1044, 'weekend': 1992, 'closest': 312, 'staying': 1732, 'jamie': 969, 'dread': 549, 'whack': 2003, 'apologize': 72, 'minute': 1165, 'checked': 281, 'decided': 464, 'stay': 1730, 'guys': 821, 'paperless': 1303, 'rapport': 1451, 'girlfriend': 769, 'comma': 336, 'finally': 696, 'tea': 1807, 'cookies': 394, 'copies': 399, 'seven': 1620, 'interaction': 945, 'feedback': 683, 'eric': 611, 'discussion': 516, 'listening': 1059, 'end': 596, 'results': 1537, 'hesitate': 863, 'clerk': 305, 'employee': 593, 'cut': 439, 'personalities': 1334, 'stood': 1743, 'guy': 820, 'mile': 1160, 'quickly': 1441, 'smile': 1673, 'dress': 551, 'explain': 644, 'finest': 702, 'country': 413, 'theirs': 1836, 'usually': 1940, 'smoothly': 1677, 'soon': 1692, 'mannerisms': 1126, 'professionalism': 1406, 'wise': 2019, 'uplifting': 1930, 'compared': 345, 'manger': 1123, 'sweet': 1789, 'america': 55, 'individual': 923, 'places': 1353, 'quite': 1442, 'immediate': 910, 'reply': 1516, 'hard': 838, 'group': 813, 'liberty': 1042, 'especially': 617, 'notch': 1221, 'credit': 429, 'union': 1918, 'lines': 1053, 'medical': 1144, 'amazed': 52, 'adequate': 32, 'short': 1634, 'ended': 597, 'losing': 1089, 'approved': 87, 'folks': 709, 'definitely': 468, 'fourth': 725, 'enjoyed': 603, 'mortgage': 1183, 'tidy': 1850, 'nearly': 1200, 'added': 28, 'nature': 1198, 'offered': 1243, 'takes': 1798, 'adam': 26, 'hensen': 861, 'brent': 196, 'mithoefer': 1173, 'given': 771, 'picture': 1346, 'dilly': 502, 'dally': 443, 'year': 2049, 'coldwater': 324, 'road': 1556, 'retired': 1540, 'penalties': 1324, 'miscellaneous': 1167, 'ball': 140, 'survey': 1786, 'sister': 1658, 'notre': 1228, 'dame': 444, 'students': 1759, 'choice': 290, 'accessible': 7, 'remembered': 1511, 'clear': 302, 'greatest': 799, 'hey': 866, 'loretta': 1087, 'managers': 1122, 'community': 341, 'box': 185, 'collect': 325, 'eyeglasses': 653, 'lions': 1056, 'club': 314, 'blankets': 172, 'department': 478, 'starters': 1722, 'apr': 89, 'capital': 237, 'refinanced': 1488, 'thousands': 1846, 'dollars': 534, 'totally': 1866, 'redid': 1484, 'interior': 950, 'accuracy': 13, 'shape': 1623, 'form': 719, 'capabilities': 234, 'completely': 356, 'ashley': 95, 'nicole': 1212, 'lobby': 1070, 'velma': 1950, 'cheerful': 284, 'knew': 1003, 'crew': 430, 'yesterday': 2053, 'calls': 224, 'spelled': 1706, 'jesus': 973, 'does': 529, 'stress': 1752, 'computer': 362, 'daycare': 450, 'standing': 1718, 'hear': 848, 'institution': 937, 'response': 1530, 'availability': 125, 'atms': 111, 'locations': 1075, 'fort': 721, 'wayne': 1985, 'reside': 1524, 'lafayette': 1013, 'accomplish': 9, 'efficiently': 580, 'honestly': 884, 'dupont': 562, 'teenagers': 1816, 'setting': 1619, 'encouraging': 595, 'lost': 1090, 'manage': 1119, 'changed': 268, 'greeted': 802, 'warmly': 1976, 'payments': 1321, 'automatically': 124, 'brag': 187, 'expertise': 642, 'prefer': 1379, 'consider': 381, 'chain': 264, 'rest': 1534, 'large': 1017, 'withdrawals': 2023, 'non': 1217, 'reimburse': 1500, 'fix': 706, 'willingness': 2010, 'particular': 1307, 'office': 1245, 'hi': 867, 'shaila': 1622, 'ericka': 613, 'ordinary': 1274, 'plus': 1359, 'proficient': 1408, 'resolve': 1525, 'resolved': 1526, 'skipped': 1665, 'recorded': 1482, 'making': 1117, 'complicated': 358, 'inviting': 955, 'withdraw': 2021, 'speak': 1699, 'hold': 876, 'phone': 1343, 'ringing': 1555, 'window': 2014, 'remodeled': 1512, 'blocks': 174, 'phenomenally': 1342, 'standard': 1717, 'concerned': 367, 'super': 1776, 'anisha': 59, 'leaving': 1031, 'guide': 818, 'walked': 1968, 'hadn': 824, 'straight': 1748, 'shooters': 1631, 'denied': 477, 'finance': 697, 'progress': 1411, 'paper': 1302, 'law': 1024, 'truck': 1892, 'driver': 557, 'loves': 1097, 'handicapped': 827, 'daughter': 447, 'count': 410, 'company': 343, 'gas': 756, 'station': 1728, 'return': 1542, 'attitudes': 116, 'calling': 223, 'normal': 1218, 'gosh': 786, 'friendliest': 737, 'dissatisfied': 522, 'unhappy': 1917, 'tend': 1825, 'rude': 1563, 'card': 239, 'causes': 255, 'concern': 366, 'backwards': 136, 'adore': 35, 'miles': 1161, 'safety': 1573, 'granger': 796, 'bent': 163, 'nursing': 1232, 'insurance': 941, 'considerate': 383, 'passing': 1312, 'words': 2031, 'mechanical': 1143, 'process': 1400, 'foresight': 715, 'update': 1927, 'quality': 1435, 'glad': 774, 'case': 248, 'wrong': 2047, 'pin': 1349, 'unlock': 1921, 'cooperative': 398, 'clearly': 304, 'chose': 292, 'died': 496, 'local': 1071, 'id': 905, 'joined': 977, 'forth': 722, 'veteran': 1953, 'man': 1118, 'interactions': 946, 'uses': 1937, 'improve': 914, 'greets': 806, 'talks': 1803, 'hardly': 839, 'expanded': 633, 'elkhart': 585, 'recognized': 1475, 'raise': 1447, 'slips': 1668, 'evenings': 621, 'saturdays': 1583, 'reach': 1458, 'rare': 1452, 'recently': 1471, 'misplaced': 1168, 'punctual': 1429, 'banker': 144, 'products': 1404, 'environment': 608, 'obviously': 1235, 'west': 2002, 'suckers': 1766, 'hurry': 902, 'properly': 1417, 'sun': 1773, 'shone': 1630, 'glum': 777, 'procedure': 1398, 'ways': 1987, 'stuck': 1757, 'tall': 1804, 'regional': 1496, 'federal': 680, 'alright': 49, 'vacations': 1942, 'fact': 657, 'safer': 1572, 'hearts': 852, 'ladies': 1011, 'represent': 1517, 'received': 1470, 'loved': 1096, 'serving': 1617, 'recommendation': 1477, 'certain': 263, 'protocols': 1422, 'expected': 636, 'single': 1656, 'jobs': 975, 'mood': 1181, 'payroll': 1322, 'child': 286, 'support': 1779, 'rerouted': 1522, 'discuss': 514, 'estate': 618, 'respected': 1528, 'regards': 1495, 'smiles': 1674, 'faces': 656, 'superb': 1777, 'showing': 1638, 'figure': 692, 'read': 1459, 'team': 1811, 'filled': 694, 'correct': 404, 'mean': 1141, 'california': 221, 'traveled': 1881, 'generally': 760, 'signed': 1647, 'application': 80, 'mobile': 1174, 'typically': 1907, 'dale': 442, 'brad': 186, 'linda': 1051, 'tentative': 1826, 'kari': 987, 'newest': 1208, 'connect': 378, 'mainly': 1112, 'source': 1697, 'genuine': 762, 'hassle': 840, 'directed': 504, 'important': 912, 'met': 1155, 'martins': 1134, 'shop': 1632, 'hurting': 903, 'friendlier': 736, 'pnc': 1360, 'refused': 1493, 'style': 1763, 'bringing': 201, 'brick': 198, 'wall': 1971, 'savings': 1586, 'break': 192, 'tedious': 1815, 'sees': 1604, 'grab': 791, 'travel': 1880, 'stephanie': 1736, 'andrea': 57, 'boss': 178, 'allowed': 48, 'waitress': 1963, 'daily': 441, 'columbia': 328, 'city': 295, 'satasfied': 1577, 'crumby': 433, 'preference': 1380, 'option': 1268, 'bills': 169, 'overdraft': 1287, 'star': 1719, 'rating': 1456, 'features': 679, 'seating': 1598, 'drink': 553, 'push': 1433, 'attractive': 118, 'effective': 577, 'liked': 1047, 'serviceable': 1614, 'workers': 2035, 'informative': 926, 'stable': 1714, 'saturday': 1582, 'odd': 1239, 'applied': 81, 'future': 752, 'purchases': 1431, 'fraudulent': 729, 'corporate': 403, 'turned': 1900, 'range': 1450, 'gal': 753, 'runs': 1567, 'ease': 569, 'seldom': 1605, 'jovial': 979, 'joyful': 981, 'stick': 1739, 'mud': 1189, 'earth': 568, 'safe': 1571, 'fairly': 660, 'simple': 1652, 'fair': 659, 'boulevard': 183, 'anthony': 64, 'scooter': 1594, 'hop': 888, 'skip': 1664, 'jump': 985, 'purchase': 1430, 'verify': 1952, 'turn': 1899, 'transition': 1879, 'anyplace': 67, 'doors': 538, 'near': 1199, 'congenial': 377, 'screwed': 1596, 'corrected': 405, 'episode': 609, 'goof': 785, 'sons': 1691, 'predecessors': 1378, 'lucky': 1102, 'agree': 43, 'difference': 497, 'dream': 550, 'free': 730, 'messed': 1154, 'direct': 503, 'advice': 37, 'pine': 1350, 'valley': 1943, 'changes': 269, 'showed': 1637, 'kindly': 998, 'brand': 190, 'elegant': 583, 'fresh': 733, 'headquarters': 846, 'neighbor': 1206, 'happened': 833, 'solutions': 1684, 'finances': 698, 'inquire': 932, 'dark': 445, 'tells': 1822, 'rarely': 1453, 'solves': 1687, 'serviced': 1615, 'brother': 207, 'lives': 1063, 'connecticut': 379, 'reconcile': 1480, 'cavanaugh': 257, 'refinance': 1487, 'forthcoming': 723, 'lowest': 1099, 'possibly': 1374, 'rushed': 1569, 'half': 825, 'deposits': 485, 'extended': 649, 'week': 1991, 'afternoon': 40, 'owner': 1298, 'tmc': 1858, 'disappointed': 510, 'hidden': 868, 'cordial': 401, 'johnny': 976, 'spot': 1711, 'magically': 1108, 'appear': 78, 'vacation': 1941, 'kinsey': 1001, 'print': 1392, 'outs': 1281, 'lately': 1021, 'pain': 1301, 'courtesy': 418, 'center': 259, 'copy': 400, 'fax': 677, 'handy': 831, 'communicate': 339, 'bothering': 180, 'representatives': 1519, 'saying': 1590, 'cleared': 303, 'accept': 4, 'luck': 1101, 'tried': 1887, 'goal': 778, 'ability': 0, 'teach': 1808, 'clarissa': 297, 'numbers': 1231, 'operate': 1262, 'speaking': 1700, 'high': 869, 'sturgis': 1762, 'limits': 1050, 'dependable': 481, 'august': 119, 'buy': 219, 'vehicle': 1948, 'teacher': 1809, 'stellar': 1734, 'exclusively': 630, 'moms': 1176, 'hacked': 823, 'father': 674, 'handling': 830, 'affairs': 39, 'bluffton': 175, 'julie': 984, 'patty': 1317, 'randall': 1449, 'dad': 440, 'aware': 130, 'tickets': 1849, 'covered': 422, 'demeanor': 476, 'sticking': 1740, 'bearing': 155, 'keeps': 989, 'coming': 335, 'oddly': 1240, 'sincerely': 1654, 'wants': 1975, 'cousin': 419, 'oversee': 1295, 'shares': 1626, 'cds': 258, 'early': 567, 'withdrawal': 2022, 'sell': 1607, 'taste': 1805, 'mouth': 1185, 'horrendous': 890, 'radiant': 1446, 'compassionate': 347, 'ceo': 262, 'butt': 218, 'late': 1020, 'church': 294, 'present': 1382, 'stupid': 1761, 'layout': 1025, 'twice': 1905, 'taboo': 1794, 'leadership': 1026, 'knowledge': 1006, 'speed': 1704, 'henson': 862, 'details': 491, 'oriented': 1277, 'cooperation': 397, 'following': 711, 'weeks': 1994, 'smart': 1672, 'borrow': 177, 'hesitation': 864, 'alerts': 45, 'compromise': 360, 'valued': 1945, 'bothered': 179, 'appreciation': 84, 'shopping': 1633, 'deals': 456, 'roll': 1558, 'bigger': 167, 'thoughts': 1845, 'initiative': 931, 'overboard': 1286, 'comparing': 346, 'thrilled': 1847, 'efficiency': 578, 'assist': 103, 'swenson': 1790, 'rachel': 1444, 'highly': 870, 'older': 1255, 'forget': 717, 'stevensville': 1738, 'kim': 996, 'emily': 590, 'saila': 1575, 'sent': 1611, 'compliment': 359, 'helpfulness': 858, 'personality': 1335, 'crap': 425, 'outgoing': 1280, 'worst': 2041, 'surprises': 1785, 'waited': 1961, 'updated': 1928, 'funny': 749, 'terrific': 1829, 'voice': 1959, 'choose': 291, 'request': 1520, 'retirement': 1541, 'competitive': 349, 'worth': 2042, 'laporte': 1016, 'expectations': 635, 'personalization': 1336, 'text': 1831, 'design': 489, 'lastly': 1019, 'jen': 971, 'willhouse': 2008, 'private': 1394, 'reasonable': 1466, 'fear': 678, 'trying': 1897, 'usual': 1939, 'parking': 1306, 'dowagiac': 542, 'considerably': 382, 'brought': 208, 'fullest': 747, 'extent': 650, 'satisfies': 1580, 'learn': 1028, 'checkbook': 279, 'macular': 1105, 'degeneration': 469, 'kid': 994, 'silly': 1650, 'complex': 357, 'suggest': 1770, 'nappanee': 1194, 'freeze': 731, 'doctor': 526, 'toes': 1860, 'complete': 355, 'seeing': 1602, 'trustworthy': 1894, 'gentleman': 761, 'situations': 1662, 'saw': 1588, 'backroom': 135, 'hello': 854, 'stopped': 1745, 'opposed': 1266, 'exceptionally': 628, 'brighten': 200, 'looks': 1086, 'public': 1426, 'bathroom': 153, 'longest': 1082, 'heartbeat': 851, 'hit': 874, 'pieces': 1347, 'finding': 700, 'share': 1624, 'easygoing': 573, 'opportunities': 1265, 'manners': 1127, 'wills': 2011, 'asset': 100, 'alzheimer': 51, 'troubles': 1891, 'racist': 1445, 'professionally': 1407, 'speedy': 1705, 'holidays': 879, 'errors': 615, 'derogatory': 486, 'frontier': 741, 'create': 427, 'calming': 225, 'later': 1022, 'apply': 82, 'beginning': 156, 'death': 459, 'tera': 1827, 'confused': 374, 'welcomed': 1997, 'homey': 882, 'craziness': 426, 'happens': 834, 'edge': 575, 'instantly': 935, 'grumpy': 815, 'grouchy': 812, 'wish': 2020, 'gracious': 794, 'anybody': 65, 'chipper': 289, 'drinks': 554, 'ipad': 957, 'bat': 152, 'perfect': 1328, 'brief': 199, 'combination': 329, 'thoroughly': 1842, 'officer': 1246, 'possible': 1373, 'international': 951, 'realized': 1463, 'confidential': 372, 'baking': 138, 'power': 1376, 'ringer': 1554, 'hassles': 841, 'relative': 1507, 'misused': 1172, 'notified': 1227, 'stricken': 1753, 'virus': 1954, 'hospital': 893, 'traced': 1869, 'reissued': 1503, 'cooperate': 396, 'tools': 1864, 'grow': 814, 'sir': 1657, 'supportive': 1780, 'instructed': 938, 'leg': 1034, 'chair': 265, 'inherited': 929, 'grieving': 809, 'transferred': 1877, 'similar': 1651, 'walks': 1970, 'weird': 1995, 'interests': 949, 'covers': 423, 'savvy': 1587, 'class': 298, 'intelligence': 943, 'hometown': 881, 'enthusiastic': 606, 'strive': 1755, 'peace': 1323, 'mind': 1162, 'emergency': 589, 'rob': 1557, 'fake': 663, 'sick': 1643, 'hip': 871, 'replaced': 1515, 'questioned': 1438, 'verified': 1951, 'complain': 351, 'fulfill': 746, 'listened': 1058, 'forward': 724, 'opening': 1261, 'mention': 1150, 'ill': 908, 'worry': 2040, 'automated': 122, 'figured': 693, 'timeliness': 1854, 'contact': 389, 'ignored': 907, 'dependability': 480, 'described': 487, 'giving': 773, 'judgmental': 982, 'carey': 243, 'nile': 1214, 'oh': 1250, 'dear': 458, 'watching': 1981, 'based': 149, 'politeness': 1365, 'normally': 1219, 'orderly': 1272, 'saver': 1585, 'seen': 1603, 'track': 1870, 'capability': 235, 'portage': 1369, 'central': 260, 'julia': 983, 'order': 1270, 'explaining': 646, 'exceeded': 625, 'anymore': 66, 'fellas': 689, 'assigned': 102, 'delay': 471, 'finish': 704, 'businesslike': 216, 'golden': 782, 'rule': 1564, 'involved': 956, 'payment': 1320, 'woman': 2025, 'thinking': 1840, 'costs': 408, 'sum': 1772, 'disabled': 509, 'expressions': 648, 'operation': 1264, 'children': 287, 'likely': 1048, 'obstacles': 1234, 'promotions': 1412, 'energy': 601, 'wondering': 2030, 'sign': 1645, 'maturity': 1137, 'offering': 1244, 'structure': 1756, 'position': 1371, 'closer': 311, 'comcast': 331, 'cable': 220, 'education': 576, 'interesting': 948, 'multiple': 1190, 'management': 1120, 'stock': 1741, 'refinancing': 1489, 'forms': 720, 'picked': 1345, 'simplicity': 1653, 'assistant': 105, 'brittany': 203, 'initially': 930, 'stephany': 1737, 'looked': 1084, 'confusing': 375, 'selling': 1608, 'program': 1410, 'pension': 1325, 'retire': 1539, 'earlier': 566, 'date': 446, 'redo': 1485, 'understanding': 1914, 'send': 1609, 'force': 714, 'december': 463, 'christmas': 293, 'presents': 1383, 'instance': 934, 'using': 1938, 'excess': 629, 'men': 1149, 'phases': 1341, 'responsive': 1533, 'explored': 647, 'spoke': 1709, 'intelligent': 944, 'ran': 1448, 'national': 1197, 'grabbed': 792, 'slip': 1667, 'statements': 1726, 'spend': 1707, 'stand': 1716, 'valuable': 1944, 'unlike': 1920, 'shocked': 1629, 'writer': 2045, 'pulled': 1428, 'retail': 1538, 'touch': 1867, 'accepting': 5, 'spouse': 1712, 'competing': 348, 'quotas': 1443, 'ring': 1553, 'bell': 159, 'apology': 74, 'acted': 18, 'irritated': 960, 'hospitable': 892, 'silence': 1649, 'switching': 1793, 'iphone': 958, 'capable': 236, 'dirty': 507, 'alley': 46, 'poor': 1366, 'portion': 1370, 'light': 1045, 'turning': 1901, 'soccer': 1680, 'tahoe': 1796, 'avoid': 128, 'pick': 1344, 'slowly': 1669, 'living': 1064, 'narrow': 1195, 'tight': 1851, 'pillar': 1348, 'weekends': 1993, 'created': 428, 'difficulty': 501, 'unprepared': 1922, 'upstairs': 1933, 'bounced': 184, 'costing': 407, 'altogether': 50, 'worker': 2034, 'title': 1857, 'bike': 168, 'spring': 1713, 'leads': 1027, 'automatic': 123, 'fault': 675, 'amazon': 54, 'reversed': 1546, 'fee': 681, 'reverse': 1545, 'meeting': 1146, 'inappropriate': 916, 'ahead': 44, 'unsatisfactory': 1924, 'sucked': 1765, 'deposited': 483, 'baby': 134, 'counts': 414, 'played': 1355, 'evaluate': 619, 'refund': 1491, 'kendallville': 990, 'nuisance': 1229, 'drop': 559, 'condolences': 370, 'burden': 213, 'refunded': 1492, 'original': 1278, 'spooks': 1710, 'apparently': 77, 'protocol': 1421, 'unacceptable': 1910, 'particularly': 1308, 'lack': 1010, 'thanked': 1834, 'holds': 878, 'inconvenience': 919, 'garage': 755, 'inconvenient': 920, 'worried': 2039, 'mark': 1130, 'sufficient': 1769, 'letter': 1037, 'recieved': 1472, 'georgia': 764, 'donna': 536, 'apparantly': 76, 'decision': 465, 'active': 21, 'unsatisfied': 1925, 'turnover': 1902, 'breaches': 191, 'groceries': 810, 'declined': 466, 'archaic': 90, 'closed': 310, 'niles': 1215, 'stop': 1744, 'signs': 1648, 'offline': 1249, 'issued': 965, 'documents': 528, 'license': 1043, 'social': 1681, 'communication': 340, 'documentation': 527, 'depositing': 484, 'restroom': 1535, 'orders': 1273, 'tries': 1888, 'tax': 1806, 'season': 1597, 'technology': 1814, 'concerning': 368, 'cameras': 227, 'activated': 20, 'deactivated': 452, 'oklahoma': 1253, 'furniture': 750, 'mail': 1109, 'mad': 1106, 'debits': 462, 'angry': 58, 'protect': 1419, 'embarrassing': 588, 'maddest': 1107, 'telling': 1821, 'warning': 1977, 'closing': 313, 'covington': 424, 'noticed': 1224, 'unavailable': 1911, 'isn': 963, 'registration': 1498, 'self': 1606, 'employed': 592, 'pass': 1309, 'gasoline': 757, 'drove': 561, 'taco': 1795, 'irs': 961, 'pressing': 1385, 'log': 1077, 'username': 1936, 'code': 317, 'logged': 1078, 'october': 1238, 'cover': 421, 'learned': 1029, 'escrow': 616, 'visits': 1957, 'placed': 1352, 'ownership': 1299, 'sitting': 1660, 'remarks': 1509, 'release': 1508, 'representative': 1518, 'broker': 206, 'offensive': 1241, 'insulting': 940, 'disability': 508, 'income': 918, 'wrote': 2048, 'obnoxious': 1233, 'debited': 461, 'yes': 2052, 'poorly': 1367, 'written': 2046, 'reflect': 1490, 'concept': 365, 'faith': 661, 'revisit': 1547, 'receipt': 1468, 'upset': 1932, 'override': 1293, 'excuse': 631, 'frauds': 728, 'app': 75, 'according': 10, 'government': 790, 'rules': 1565, 'realize': 1462, 'letters': 1038, 'thanking': 1835, 'outage': 1279, 'god': 779, 'low': 1098, 'complained': 352, 'suv': 1788, 'knees': 1002, 'processing': 1402, 'forgot': 718, 'nasty': 1196, 'harassed': 837, 'delaying': 472, 'discrepancy': 512, 'th': 1832, 'removed': 1513, 'approval': 86, 'canceled': 231, 'avenue': 127, 'rights': 1552, 'solomon': 1682, 'careful': 242, 'research': 1523, 'responsibilities': 1531, 'compromised': 361, 'stolen': 1742, 'lousy': 1094, 'contacted': 390, 'foot': 713, 'crutch': 434, 'turns': 1903, 'investment': 954, 'combined': 330, 'assisted': 106, 'items': 967, 'waived': 1966, 'policy': 1363, 'terminated': 1828, 'brochure': 204, 'hack': 822, 'authorized': 120, 'germany': 765, 'bremen': 195, 'charging': 275, 'clue': 315, 'frustrating': 744, 'resubmit': 1536, 'liar': 1041, 'hung': 900, 'misunderstood': 1171, 'discussing': 515, 'ordered': 1271, 'checkbooks': 280, 'reordered': 1514, 'friday': 734, 'color': 327, 'tube': 1898, 'distracted': 524, 'link': 1054, 'emailed': 587, 'shortly': 1635, 'teaching': 1810, 'china': 288, 'notices': 1225, 'rejected': 1504, 'chantell': 271, 'breaks': 193, 'glares': 775, 'evening': 620, 'enroll': 604, 'reimbursed': 1501, 'officers': 1247, 'offices': 1248, 'gumwood': 819, 'holder': 877, 'rounding': 1561, 'additional': 29, 'principle': 1391, 'revenue': 1544, 'kathy': 988, 'endorsement': 599, 'signature': 1646, 'notification': 1226, 'deleted': 474, 'wires': 2018, 'crossed': 431, 'administrators': 33, 'auto': 121, 'draw': 547, 'technical': 1813, 'regular': 1499, 'somewhat': 1689, 'bothersome': 181, 'note': 1222, 'statement': 1725, 'pharmacy': 1340, 'prescription': 1381, 'overdrawn': 1291, 'filling': 695, 'women': 2026, 'truth': 1895, 'staring': 1720, 'wednesday': 1990, 'drawn': 548, 'ate': 108, 'sorry': 1694, 'attorney': 117, 'maple': 1128, 'lane': 1015, 'delete': 473, 'pops': 1368, 'hate': 842, 'coventry': 420, 'sucks': 1767, 'hostage': 894, 'putting': 1434, 'rid': 1549, 'dollar': 533, 'broke': 205, 'scared': 1592, 'lose': 1088, 'marriage': 1131, 'wonder': 2028, 'delivered': 475, 'confusion': 376, 'telephone': 1817, 'causing': 256, 'owed': 1296, 'processed': 1401, 'protection': 1420, 'post': 1375, 'treasurer': 1882, 'upgrades': 1929, 'hsa': 898, 'charity': 276, 'dispersed': 518, 'faithful': 662, 'reward': 1548, 'adult': 36, 'guardian': 816, 'unless': 1919, 'related': 1505, 'minor': 1164, 'returned': 1543, 'temporary': 1824, 'illinois': 909, 'comments': 338, 'include': 917, 'comment': 337, 'locked': 1076, 'vault': 1946, 'unusual': 1926, 'food': 712, 'cancel': 230, 'rd': 1457, 'winamac': 2013, 'overbearing': 1285, 'skirts': 1666, 'confidentiality': 373, 'cascada': 247, 'degrees': 470, 'opposite': 1267, 'coincidence': 321, 'claudia': 299, 'discretion': 513, 'crosses': 432, 'dramatic': 546, 'subjective': 1764, 'historical': 872, 'emphasize': 591, 'practices': 1377, 'centuries': 261, 'ridiculous': 1550, 'head': 845, 'sheds': 1627, 'acts': 23, 'passcode': 1310, 'register': 1497, 'story': 1747, 'reimbursement': 1502, 'married': 1132, 'jessica': 972, 'investigating': 953, 'expired': 643, 'march': 1129, 'shipped': 1628, 'activate': 19, 'stated': 1724, 'frozen': 743, 'activity': 22, 'error': 614, 'depend': 479, 'dormant': 539, 'linked': 1055, 'supplemental': 1778, 'health': 847, 'total': 1865, 'ok': 1251, 'shows': 1639, 'solution': 1683, 'rub': 1562, 'product': 1403, 'glitch': 776, 'straightened': 1749, 'password': 1313, 'attempted': 112, 'caught': 253, 'makeup': 1116, 'considered': 385, 'strange': 1750, 'froze': 742, 'letting': 1039, 'profit': 1409, 'exempt': 632, 'umbrella': 1908, 'login': 1079, 'dispense': 517, 'cleveland': 306, 'downloadable': 543, 'load': 1066, 'windows': 2015, 'inaccessible': 915, 'handicap': 826, 'coins': 322, 'counted': 411, 'coin': 320, 'strict': 1754, 'grace': 793, 'merchandise': 1152, 'competitors': 350, 'minimum': 1163, 'deterring': 492, 'ft': 745, 'temperature': 1823, 'freezing': 732, 'island': 962, 'proceeded': 1399, 'president': 1384, 'email': 586, 'unable': 1909, 'quarters': 1436, 'occupied': 1237, 'rolled': 1559, 'stations': 1729, 'wire': 2016, 'canada': 229, 'occasion': 1236, 'entire': 607, 'pointing': 1362, 'finger': 703, 'sour': 1696, 'disposition': 520, 'uncomfortable': 1912, 'sides': 1644, 'endorse': 598, 'claim': 296, 'kicked': 993, 'expecting': 637, 'sore': 1693, 'honor': 886, 'endorsing': 600, 'honored': 887, 'responsibility': 1532, 'longer': 1081, 'deducted': 467, 'cashed': 250, 'mailed': 1110, 'dispose': 519, 'shredded': 1640, 'baseball': 148, 'game': 754, 'spent': 1708, 'limit': 1049, 'regardless': 1494, 'shut': 1641, 'write': 2044, 'sending': 1610, 'green': 800, 'assuming': 107, 'thoughtful': 1844, 'device': 493, 'clicked': 307, 'discovered': 511, 'apologetic': 71, 'apologized': 73, 'dropped': 560, 'apart': 70, 'maintained': 1113, 'driven': 556, 'gossipy': 787, 'unprofessional': 1923, 'overdraw': 1289, 'record': 1481, 'principal': 1390, 'coding': 318, 'reference': 1486, 'loaned': 1068, 'wired': 2017, 'microphone': 1158, 'insufficient': 939, 'mexican': 1156, 'midnight': 1159, 'faster': 673, 'woke': 2024, 'belong': 160, 'red': 1483, 'flag': 708, 'grape': 797, 'expense': 638, 'computerized': 363, 'apps': 88, 'moving': 1187}\n"
     ]
    }
   ],
   "source": [
    "print('Task 2b: create a BOW vector for use with Latent-Dirichlet-Allocation (LDA) Models, using assigned stop words')\n",
    "#Note: In Gensim Word2Vec, this is known as \"Similarity Queues\" - https://radimrehurek.com/gensim/tut3.html\n",
    "#Bag-of-words is one choice - Gensim includes: Matrix-Market, LSI,SVMlight, LDA-C, GivvsLDA++, etc\n",
    "\n",
    "#Convert a collection of text documents to a matrix of token counts - \"bag-of-words\", unless otherwise specified\n",
    "bow_vector = CountVectorizer(stop_words=stop_words)\n",
    "\n",
    "#\"Comment\" column is the 6th column in the dataset - index \"5\" in dataframe\n",
    "value_list = [row[5] for row in raw_corpus.itertuples(index=False, name=None)]\n",
    "#print(value_list[0:3])\n",
    "#create term-document matrix and and place all relevant terms in vocabulary/dictionary\n",
    "bow = bow_vector.fit_transform(value_list)\n",
    "#dictionary stored in the vocabulary_ variable of the bow object \n",
    "print(bow_vector.vocabulary_)"
   ]
  },
  {
   "cell_type": "code",
   "execution_count": 15,
   "metadata": {},
   "outputs": [
    {
     "name": "stdout",
     "output_type": "stream",
     "text": [
      "CRISP-DM Task: Data Understanding\n",
      "Task 1: print information about bow verctor and/or corpus\n",
      "109\n",
      "29\n"
     ]
    }
   ],
   "source": [
    "print('CRISP-DM Task: Data Understanding')\n",
    "print('Task 1: print information about bow verctor and/or corpus')\n",
    "print(bow_vector.vocabulary_.get('atm')) #get dictionary index of \"get\" keyword\n",
    "counts = np.asarray(bow.sum(axis=0)) \n",
    "count_words = counts[0]\n",
    "freq = count_words[109] #get word count of all terms in dictionary, using retured \"get\" word id - ex atm = 109\n",
    "print(freq) #print wordcount frequency"
   ]
  },
  {
   "cell_type": "code",
   "execution_count": 16,
   "metadata": {},
   "outputs": [
    {
     "name": "stdout",
     "output_type": "stream",
     "text": [
      "Task 2: use pandas and data viz libraries to explore & understand the columns and values in the text dataset\n",
      "        ID  Branch Interview Date Transaction Date Comment Type  \\\n",
      "0  4278642     355      2/24/2015        2/23/2015   Compliment   \n",
      "1  3329834     311      4/10/2014         4/9/2014   Compliment   \n",
      "2  4182303     353      1/14/2015        1/13/2015   Compliment   \n",
      "3  4228554     318       2/4/2015         2/3/2015   Compliment   \n",
      "4  3860433     351       9/4/2014         9/3/2014   Compliment   \n",
      "\n",
      "                                             Comment Follow-up  \\\n",
      "0  MY BANK is always good to me I have banked wit...       NaN   \n",
      "1  MY BANK is the best for me They help people wh...       NaN   \n",
      "2  MY BANK has been percent on top on any bank Th...       NaN   \n",
      "3  Absolutely no problems with them Everything ha...       NaN   \n",
      "4  Absolutely They are efficient courteous and he...       NaN   \n",
      "\n",
      "   Satisfaction Rating                                    Comment_NoComma  \\\n",
      "0                   10  MY BANK is always good to me. I have banked wi...   \n",
      "1                    8  MY BANK is the best for me. They help people w...   \n",
      "2                    8  MY BANK has been 100 percent on top on any ban...   \n",
      "3                    9  Absolutely no problems with them. Everything h...   \n",
      "4                    9  Absolutely. They are efficient courteous and h...   \n",
      "\n",
      "                                      Comment_Clean,  \n",
      "0  MY BANK is always good to me. I have banked wi...  \n",
      "1  MY BANK is the best for me. They help people w...  \n",
      "2  MY BANK has been 100 percent on top on any ban...  \n",
      "3  Absolutely no problems with them. Everything h...  \n",
      "4  Absolutely. They are efficient courteous and h...  \n",
      "<class 'pandas.core.frame.DataFrame'>\n",
      "RangeIndex: 1193 entries, 0 to 1192\n",
      "Data columns (total 10 columns):\n",
      "ID                     1193 non-null int64\n",
      "Branch                 1193 non-null int64\n",
      "Interview Date         1193 non-null object\n",
      "Transaction Date       1193 non-null object\n",
      "Comment Type           1193 non-null object\n",
      "Comment                1193 non-null object\n",
      "Follow-up              236 non-null object\n",
      "Satisfaction Rating    1193 non-null int64\n",
      "Comment_NoComma        1193 non-null object\n",
      "Comment_Clean,         1193 non-null object\n",
      "dtypes: int64(3), object(7)\n",
      "memory usage: 93.3+ KB\n",
      "None\n",
      "ID                       0\n",
      "Branch                   0\n",
      "Interview Date           0\n",
      "Transaction Date         0\n",
      "Comment Type             0\n",
      "Comment                  0\n",
      "Follow-up              957\n",
      "Satisfaction Rating      0\n",
      "Comment_NoComma          0\n",
      "Comment_Clean,           0\n",
      "dtype: int64\n",
      "                 ID       Branch  Satisfaction Rating\n",
      "count  1.193000e+03  1193.000000          1193.000000\n",
      "mean   4.297436e+06   295.588433             7.985750\n",
      "std    4.774175e+05    86.540331             2.252656\n",
      "min    3.276177e+06   107.000000             1.000000\n",
      "25%    3.954094e+06   310.000000             8.000000\n",
      "50%    4.322839e+06   320.000000             9.000000\n",
      "75%    4.720735e+06   352.000000             9.000000\n",
      "max    5.081369e+06   401.000000            10.000000\n",
      "  Comment Type  count\n",
      "0        Alert    236\n",
      "1   Compliment    957\n"
     ]
    },
    {
     "data": {
      "text/plain": [
       "<matplotlib.axes._subplots.AxesSubplot at 0x20f9e7ae5f8>"
      ]
     },
     "execution_count": 16,
     "metadata": {},
     "output_type": "execute_result"
    },
    {
     "data": {
      "image/png": "[encoded data removed]",
      "text/plain": [
       "<Figure size 432x288 with 1 Axes>"
      ]
     },
     "metadata": {},
     "output_type": "display_data"
    }
   ],
   "source": [
    "print('Task 2: use pandas and data viz libraries to explore & understand the columns and values in the text dataset')\n",
    "print(documents.head())  #get first 5 observations in pandas dataframe\n",
    "# Check data types for each variable\n",
    "print(documents.info())\n",
    "#assess data quailty - null values \n",
    "print(documents.isnull().sum())\n",
    "#describe dataset values \n",
    "print(documents.describe())\n",
    "#view histograp of categorical variables \n",
    "#summarize & plot pandas column using \"groupby\" function\n",
    "summary = documents.groupby(['Comment Type'])[\"ID\"].count().reset_index(name=\"count\")\n",
    "print(summary)\n",
    "y = summary['count']\n",
    "x = summary['Comment Type']   #iterate list to transfor dates for graphical use\n",
    "data = pd.DataFrame({'Freq':y, 'Comment Type':x}).set_index(x) \n",
    "data.plot(kind='bar')\n",
    "#plt.show()  #uncomment to show - otherwise holds execution until closed"
   ]
  },
  {
   "cell_type": "code",
   "execution_count": 17,
   "metadata": {},
   "outputs": [
    {
     "name": "stdout",
     "output_type": "stream",
     "text": [
      "CRISP-DM Task: Model Building\n",
      "Fitting LDA models with n_topic=5, n_samples=2000 and n_features=1000...\n",
      "\n",
      "Topics in LDA model:\n",
      "Topic #0: bank ve like know service account friendly just good don\n",
      "Topic #1: fault fee statements wasn deposited error sent paper charged payment\n",
      "Topic #2: caught send fraud clicked use drive logged right verify email\n",
      "Topic #3: lot spend spent winamac limit game regardless baseball cascada stolen\n",
      "Topic #4: total window screen atm inside pull apology waited mentioned waiting\n",
      "\n"
     ]
    }
   ],
   "source": [
    "print('CRISP-DM Task: Model Building')\n",
    "print(\"Fitting LDA models with n_topic=%d, n_samples=%d and n_features=%d...\" % (n_components, n_samples, n_features))\n",
    "lda = LatentDirichletAllocation(n_components=n_components, max_iter=5,\n",
    "                                learning_method='online',\n",
    "                                learning_offset=50.,\n",
    "                                random_state=0)  #scikit-learn library\n",
    "lda.fit(bow)\n",
    "print(\"\\nTopics in LDA model:\")\n",
    "bow_feature_names = bow_vector.get_feature_names()\n",
    "\n",
    "def print_top_words(model, feature_names, n_top_words):\n",
    "    for topic_idx, topic in enumerate(model.components_):\n",
    "        message = \"Topic #%d: \" % topic_idx\n",
    "        message += \" \".join([feature_names[i]\n",
    "                             for i in topic.argsort()[:-n_top_words - 1:-1]])\n",
    "        print(message)\n",
    "    print()\n",
    "\n",
    "print_top_words(lda, bow_feature_names, n_top_words) #note the improvement over last week's model!"
   ]
  },
  {
   "cell_type": "code",
   "execution_count": 18,
   "metadata": {},
   "outputs": [
    {
     "name": "stdout",
     "output_type": "stream",
     "text": [
      "CRISP-DM Task: Model Evaluation \n",
      "Step1 : get test topics then score them vs. current LDA model\n",
      "-23648.85100274228\n"
     ]
    }
   ],
   "source": [
    "print('CRISP-DM Task: Model Evaluation ')\n",
    "print('Step1 : get test topics then score them vs. current LDA model')\n",
    "train, test = train_test_split(list(documents['Comment'].values), test_size = 0.2)\n",
    "test_vector = bow_vector.fit_transform(test)\n",
    "test_lda = lda.fit(test_vector)  #fit text vector within existing model - transpose to work\n",
    "#Calculate approximate log-likelihood as score.\n",
    "print(test_lda.score(test_vector)) #not meaningful in itself - compare vs. re-run models (closer to 0, the better)"
   ]
  },
  {
   "cell_type": "code",
   "execution_count": 21,
   "metadata": {},
   "outputs": [
    {
     "name": "stdout",
     "output_type": "stream",
     "text": [
      "Step 2: Use formal model evaluation stats, such as \"perplexity\" from scikit-learn library\n",
      "2543.9448242520493\n"
     ]
    }
   ],
   "source": [
    "print('Step 2: Use formal model evaluation stats, such as \"perplexity\" from scikit-learn library') \n",
    "# create test/train text documents to evaluate model \n",
    "vectoriser = CountVectorizer(stop_words = 'english', max_features=500)  #max features must be less that \"n_features\" variable!\n",
    "doc_train = vectoriser.fit_transform(train)\n",
    "features = vectoriser.get_feature_names()\n",
    "doc_test = vectoriser.fit_transform(test)\n",
    "news_lda = lda.fit(doc_train)\n",
    "print(news_lda.perplexity(doc_test)) # lower the perplexity, the better"
   ]
  },
  {
   "cell_type": "code",
   "execution_count": 20,
   "metadata": {},
   "outputs": [
    {
     "name": "stdout",
     "output_type": "stream",
     "text": [
      "Task 3: Compare LDA Model vs. Gensim word2vec td-idf model (last class)\n",
      "CRISP-DM Task: Model Deployment\n"
     ]
    }
   ],
   "source": [
    "print('Task 3: Compare LDA Model vs. Gensim word2vec td-idf model (last class)')\n",
    "#class exercise - what is the difference? \n",
    "\n",
    "print('CRISP-DM Task: Model Deployment')\n",
    "#gensim contains ablility to save and update models with future iterations\n",
    "#lecture is TBD"
   ]
  }
 ],
 "metadata": {
  "kernelspec": {
   "display_name": "Python 3",
   "language": "python",
   "name": "python3"
  },
  "language_info": {
   "codemirror_mode": {
    "name": "ipython",
    "version": 3
   },
   "file_extension": ".py",
   "mimetype": "text/x-python",
   "name": "python",
   "nbconvert_exporter": "python",
   "pygments_lexer": "ipython3",
   "version": "3.7.1"
  }
 },
 "nbformat": 4,
 "nbformat_minor": 2
}
