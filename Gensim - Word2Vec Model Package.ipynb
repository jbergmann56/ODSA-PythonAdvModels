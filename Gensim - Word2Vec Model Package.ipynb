{
 "cells": [
  {
   "cell_type": "code",
   "execution_count": 1,
   "metadata": {
    "collapsed": false
   },
   "outputs": [
    {
     "name": "stderr",
     "output_type": "stream",
     "text": [
      "C:\\Program Files\\Anaconda3\\lib\\site-packages\\gensim\\utils.py:1212: UserWarning: detected Windows; aliasing chunkize to chunkize_serial\n",
      "  warnings.warn(\"detected Windows; aliasing chunkize to chunkize_serial\")\n"
     ]
    },
    {
     "name": "stdout",
     "output_type": "stream",
     "text": [
      "Pandas File I/O Example - CSV Read\n"
     ]
    }
   ],
   "source": [
    "#Gensim Docs: http://pandas.pydata.org/pandas-docs/stable/\n",
    "#Description: https://en.wikipedia.org/wiki/Word2vec\n",
    "#Tutorials/Code Example:  https://github.com/RaRe-Technologies/gensim/blob/develop/gensim%20Quick%20Start.ipynb\n",
    "#Library Purpose: Gensim Word2vec is a two-layer neural net that processes text.\n",
    "#Its input is a text corpus and its output is a set of vectors: feature vectors for words in that corpus\n",
    "#it can be applied just as well to genes, code, likes, playlists, social media graphs and \n",
    "#other verbal or symbolic series in which patterns may be discerned.\n",
    "\n",
    "\"\"\"Basic word2vec example.\"\"\"\n",
    "import numpy as np\n",
    "import pandas as pd\n",
    "import gensim #open-source achine learning framework\n",
    "from gensim import corpora\n",
    "from gensim import models\n",
    "\n",
    "#import favorite text dataset for analysis\n",
    "def file_read_csv(path):\n",
    "    print(\"Pandas File I/O Example - CSV Read\")\n",
    "    #load csv file into Pandas dataframe object\n",
    "    data=pd.read_csv(path)\n",
    "    return data\n",
    "\n",
    "#replace with own dataset - \"establish the corpus\"\n",
    "raw_corpus = file_read_csv(r\"C:\\\\Python\\\\Data\\\\text8\") \n",
    "#Preprocessing dataset, including stoplist, word frequencies & filtes\"\"\n"
   ]
  },
  {
   "cell_type": "code",
   "execution_count": 26,
   "metadata": {
    "collapsed": false,
    "scrolled": true
   },
   "outputs": [],
   "source": [
    "# Create a set of frequent words\n",
    "stoplist = set('for a of the and to in'.split())\n",
    "# Lowercase each document, split it by white space and filter out stopwords\n",
    "texts = [[word for word in document.lower().split() if word not in stoplist]\n",
    "         for document in raw_corpus]\n",
    "#Long list of non-distinct parsed words from doc \n",
    "#print(texts[0])"
   ]
  },
  {
   "cell_type": "code",
   "execution_count": 27,
   "metadata": {
    "collapsed": false
   },
   "outputs": [],
   "source": [
    "# Count word frequencies\n",
    "from collections import defaultdict\n",
    "frequency = defaultdict(int)\n",
    "for text in texts:\n",
    "    for token in text:\n",
    "        frequency[token] += 1"
   ]
  },
  {
   "cell_type": "code",
   "execution_count": 28,
   "metadata": {
    "collapsed": false
   },
   "outputs": [],
   "source": [
    "# Only keep words that appear more than once\n",
    "processed_corpus = [[token for token in text if frequency[token] > 1] for text in texts]\n",
    "#long list of distinct words\n",
    "#print(processed_corpus)"
   ]
  },
  {
   "cell_type": "code",
   "execution_count": 29,
   "metadata": {
    "collapsed": false
   },
   "outputs": [
    {
     "name": "stdout",
     "output_type": "stream",
     "text": [
      "Dictionary(135328 unique tokens: ['aa', 'aaa', 'aaaa', 'aaaargh', 'aaai']...)\n"
     ]
    }
   ],
   "source": [
    "#associate each word in the processed corpus with a unique integer ID, using the gensim.corpora.Dictionary class. \n",
    "#This dictionary defines the vocabulary of all words that our processing knows about.\n",
    "dictionary = corpora.Dictionary(processed_corpus)\n",
    "#print(dictionary)"
   ]
  },
  {
   "cell_type": "code",
   "execution_count": 9,
   "metadata": {
    "collapsed": false,
    "scrolled": false
   },
   "outputs": [],
   "source": [
    "#To infer the latent structure in our corpus we need a way to represent documents\n",
    "#that we can manipulate mathematically. One approach is to represent each document as a vector. \n",
    "#convert document into \"Bag of works\"\n",
    "bow_corpus = [dictionary.doc2bow(text) for text in processed_corpus]\n",
    "#print(bow_corpus[0])"
   ]
  },
  {
   "cell_type": "code",
   "execution_count": 31,
   "metadata": {
    "collapsed": false
   },
   "outputs": [
    {
     "name": "stdout",
     "output_type": "stream",
     "text": [
      "[]\n"
     ]
    }
   ],
   "source": [
    "''' Now that we have vectorized our corpus we can begin to transform it using models. \n",
    "We use model as an abstract term referring to a transformation from one document representation to another. \n",
    "In gensim, documents are represented as vectors so a model can be thought of as a transformation between two vector spaces. \n",
    "The details of this transformation are learned from the training corpus. '''\n",
    "\n",
    "#One simple example of a model is tf-idf. The tf-idf model transforms vectors from the bag-of-words representation to a vector space,\n",
    "#where the frequency counts are weighted according to the relative rarity of each word in the corpus.\n",
    "# train the model\n",
    "tfidf = models.TfidfModel(bow_corpus)\n",
    "# transform the \"system minors\" string\n",
    "tfidf2 = tfidf[dictionary.doc2bow(\"system minors\".lower().split())]\n",
    "print(tfidf2)"
   ]
  }
 ],
 "metadata": {
  "kernelspec": {
   "display_name": "Python 3",
   "language": "python",
   "name": "python3"
  },
  "language_info": {
   "codemirror_mode": {
    "name": "ipython",
    "version": 3
   },
   "file_extension": ".py",
   "mimetype": "text/x-python",
   "name": "python",
   "nbconvert_exporter": "python",
   "pygments_lexer": "ipython3",
   "version": "3.6.0"
  }
 },
 "nbformat": 4,
 "nbformat_minor": 2
}
