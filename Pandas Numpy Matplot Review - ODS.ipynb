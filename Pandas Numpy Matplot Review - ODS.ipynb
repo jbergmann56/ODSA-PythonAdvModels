{
 "cells": [
  {
   "cell_type": "code",
   "execution_count": 1,
   "metadata": {
    "collapsed": true
   },
   "outputs": [],
   "source": [
    "#Pandas Docs: http://pandas.pydata.org/pandas-docs/stable/\n",
    "#Tutorials:  10-Minute Video - http://pandas.pydata.org/pandas-docs/stable/10min.html#min\n",
    "#            Examples/docs - http://pandas.pydata.org/pandas-docs/stable/text.html\n",
    "#Cheat Sheet:  http://pandas.pydata.org/Pandas_Cheat_Sheet.pdf\n",
    "#\n",
    "#Library Purpose: high-performance, easy-to-use data structures and data analysis tools \n",
    "#includes: includes file/io conversion to python objects, data cleaning/merging/selection\n",
    "#tabular/matrix/datafram data structures, time series analysis functions, text data\n",
    "#\n",
    "#Additional Exercises:  https://github.com/guipsamora/pandas_exercise\n",
    "\n",
    "#Note - Using matplot & numpy libraries with pandas examples!\n",
    "import matplotlib.pylab as plt  #see graph options at: https://matplotlib.org/gallery/index.html\n",
    "import numpy as np\n",
    "import pandas as pd"
   ]
  },
  {
   "cell_type": "code",
   "execution_count": 2,
   "metadata": {
    "collapsed": true
   },
   "outputs": [],
   "source": [
    "def file_read_csv(path):\n",
    "    print(\"Pandas File I/O Example - CSV Read\")\n",
    "    #load csv file into Pandas dataframe object\n",
    "    data=pd.read_csv(path)\n",
    "    return data\n",
    "\n",
    "def file_write_csv(data, path):\n",
    "    print(\"Pandas File I/O Example - CSV Write\")\n",
    "    #write Pandas dataframe object to local csv file\n",
    "    data.to_csv(path)\n",
    "\n",
    "def file_read_excel(data,path,sheet):\n",
    "    print(\"Pandas File I/O Example - Read\")\n",
    "    #load csv file into Pandas dataframe object\n",
    "    xlsx = pd.ExcelFile(path)\n",
    "    data = pd.read_excel(xlsx, sheet)\n",
    "    return data"
   ]
  },
  {
   "cell_type": "code",
   "execution_count": 6,
   "metadata": {
    "collapsed": false
   },
   "outputs": [
    {
     "name": "stdout",
     "output_type": "stream",
     "text": [
      "Pandas File I/O Example - CSV Read\n",
      "        ID  Branch Interview Date Transaction Date Comment Type  \\\n",
      "0  4278642     355      2/24/2015        2/23/2015   Compliment   \n",
      "1  3329834     311      4/10/2014         4/9/2014   Compliment   \n",
      "2  4182303     353      1/14/2015        1/13/2015   Compliment   \n",
      "3  4228554     318       2/4/2015         2/3/2015   Compliment   \n",
      "4  3860433     351       9/4/2014         9/3/2014   Compliment   \n",
      "\n",
      "                                             Comment Follow-up  \\\n",
      "0  MY BANK is always good to me. I have banked wi...       NaN   \n",
      "1  MY BANK is the best for me. They help people w...       NaN   \n",
      "2  MY BANK has been 100 percent on top on any ban...       NaN   \n",
      "3  Absolutely no problems with them. Everything h...       NaN   \n",
      "4  Absolutely. They are efficient, courteous and ...       NaN   \n",
      "\n",
      "   Satisfaction Rating  \n",
      "0                   10  \n",
      "1                    8  \n",
      "2                    8  \n",
      "3                    9  \n",
      "4                    9  \n",
      "Number of rows in rows, columns in dataset: (1193, 8)\n",
      "Column names in dataset: Index(['ID', 'Branch', 'Interview Date', 'Transaction Date', 'Comment Type',\n",
      "       'Comment', 'Follow-up', 'Satisfaction Rating'],\n",
      "      dtype='object')\n",
      "Pandas File I/O Example - CSV Write\n"
     ]
    }
   ],
   "source": [
    "#import text commentary from CSV file\n",
    "data = file_read_csv(r\"C:\\\\Python\\\\Data\\\\Text_Mining_Sample_CSV.csv\") \n",
    "\n",
    "#view first 5 rows of dataframe\n",
    "pd.set_option('display.max_columns', 80) \n",
    "#data munging - http://wavedatalab.github.io/datawithpython/munge.html\n",
    "print(data.head())\n",
    "print(\"Number of rows in rows, columns in dataset: {}\".format(data.shape))\n",
    "print(\"Column names in dataset: {}\".format(data.columns))\n",
    "\n",
    "#write new csv file using dataframe\n",
    "file_write_csv(data, r\"C:\\\\Python\\\\Data\\\\Text_Mining_Sample_CSV2.csv\") "
   ]
  },
  {
   "cell_type": "code",
   "execution_count": 8,
   "metadata": {
    "collapsed": false
   },
   "outputs": [
    {
     "name": "stdout",
     "output_type": "stream",
     "text": [
      "Matplotlib object\n"
     ]
    },
    {
     "data": {
      "image/png": "[encoded data removed]",
      "text/plain": [
       "<matplotlib.figure.Figure at 0x275c4d0e0b8>"
      ]
     },
     "metadata": {},
     "output_type": "display_data"
    }
   ],
   "source": [
    "#use pandas/numpy/matplotlib for visualization\n",
    "print('Matplotlib object')\n",
    "bar_graph = data.groupby(\"Comment Type\").size().plot(kind='barh')\n",
    "plt.show()  #show histogram of comment type categories"
   ]
  },
  {
   "cell_type": "code",
   "execution_count": 3,
   "metadata": {
    "collapsed": true
   },
   "outputs": [],
   "source": [
    "def data_struct():\n",
    "    #Series is a one-dimensional labeled array capable of holding any data type (integers, strings, floating point numbers, Python objects, etc.)\n",
    "    #Here, data can be many different things: Python Dict, ndarray (numpy), scalar value\n",
    "    print(\"Series Example\")\n",
    "    data = {'b' : 1, 'a' : 0, 'c' : 2} #python dict\n",
    "    s = pd.Series(data)\n",
    "    print(s) \n",
    "\n",
    "    #2-dimensional labeled data structure with columns of potentially different types\n",
    "    # DataFrame accepts many different kinds of input:  ndarray, dicts, series, another dataframe\n",
    "    print(\"DataFrame Example\")\n",
    "    data = {'one' : pd.Series([1., 2., 3.], index=['a', 'b', 'c']),\n",
    "            'two' : pd.Series([1., 2., 3., 4.], index=['a', 'b', 'c', 'd'])} #python dict\n",
    "    s = pd.DataFrame(data)\n",
    "    print(s) \n",
    "    print(\"Manipulate DataFrame Example\")\n",
    "    s = pd.DataFrame(d, index=['d', 'b', 'a'], columns=['two', 'three'])\n",
    "    print(s)  "
   ]
  },
  {
   "cell_type": "code",
   "execution_count": 4,
   "metadata": {
    "collapsed": true
   },
   "outputs": [],
   "source": [
    "def data_text():\n",
    "    s = pd.Series(['A', '3B', 'C', 'Aaba', 'Baca', 3, 'dog', 'cat'])\n",
    "    print(\"lowercase series\")\n",
    "    print(s.str.lower())\n",
    "\n",
    "    print(\"Length of text elements in series\")\n",
    "    print(s.str.len())\n",
    "\n",
    "    print(\"Pattern Matching - Number then Capital Letter\")\n",
    "    pattern = r'[0-9][A-Z]'\n",
    "    print(s.str.contains(pattern))\n",
    "\n",
    "#example methods to experiment on :)\n",
    "#data_struct()     \n",
    "#data_text()"
   ]
  },
  {
   "cell_type": "code",
   "execution_count": 7,
   "metadata": {
    "collapsed": false
   },
   "outputs": [
    {
     "name": "stdout",
     "output_type": "stream",
     "text": [
      "Pandas File I/O Example - Read\n",
      "        Date     Open     High      Low    Close      Volume  Adj Close  \\\n",
      "0 2009-04-23  7886.81  8015.36  7762.80  7957.06  6563100000    7957.06   \n",
      "1 2009-04-22  7964.78  8111.02  7802.46  7886.57  7327860000    7886.57   \n",
      "2 2009-04-21  7841.73  8027.54  7699.79  7969.56  7436489600    7969.56   \n",
      "3 2009-04-20  8128.94  8128.94  7801.58  7841.73  6973960000    7841.73   \n",
      "4 2009-04-17  8125.43  8251.20  8024.92  8131.33  7352009600    8131.33   \n",
      "\n",
      "  Symbol  log2_open  d1_cls_chg  d5_cls_chg  d10_cls_chg  d30_cls_chg  \\\n",
      "0    DJI   3.896901       70.49     -168.37       119.95      1026.66   \n",
      "1    DJI   3.901174      -82.99     -143.05        97.01       960.08   \n",
      "2    DJI   3.894412      127.83       49.38        -6.29      1422.51   \n",
      "3    DJI   3.910034     -289.60     -216.08      -175.86      1214.79   \n",
      "4    DJI   3.909846        5.90       47.95       153.25      1536.89   \n",
      "\n",
      "    d1_vol_chg  d5_cls_chg.1  d10_cls_chg.1  d30_cls_chg.1  d1_cls_pcnt_chg  \\\n",
      "0 -764760000.0 -3.557000e+07   6.246400e+08  -7.247096e+08         0.008938   \n",
      "1 -108629600.0  1.086760e+09   2.172280e+09  -1.290470e+09        -0.010413   \n",
      "2  462529600.0 -1.333504e+08   1.226490e+09   1.591696e+08         0.016301   \n",
      "3 -378049600.0  5.390700e+08   1.118320e+09  -3.578704e+08        -0.035615   \n",
      "4  753339600.0 -2.487008e+08  -1.908000e+08  -1.552400e+08         0.000726   \n",
      "\n",
      "     mavg_200d  \n",
      "0  8208.709348  \n",
      "1  8225.871087  \n",
      "2  8244.684710  \n",
      "3  8265.420290  \n",
      "4  8287.224130  \n",
      "        Date    Close\n",
      "0 2009-04-23  7957.06\n",
      "1 2009-04-22  7886.57\n",
      "2 2009-04-21  7969.56\n",
      "3 2009-04-20  7841.73\n",
      "4 2009-04-17  8131.33\n"
     ]
    },
    {
     "data": {
      "image/png": "[encoded data removed]",
      "text/plain": [
       "<matplotlib.figure.Figure at 0x275c7efac18>"
      ]
     },
     "metadata": {},
     "output_type": "display_data"
    }
   ],
   "source": [
    "#Graphing Exampele - Time Series- Dow Jones \n",
    "#import Dow joens historical data from excel file, then visualize stock market data\n",
    "data2 = file_read_excel(data, r\"C:\\\\Python\\\\Data\\\\indicator_stock_hist.xls\",'^DJI') \n",
    "print(data2.head())\n",
    "#aggregate/select data from dataset:  http://wavedatalab.github.io/datawithpython/aggregate.html\n",
    "data3 = data2[['Date', 'Close']]\n",
    "print(data3.head())\n",
    "#return records with year >= 2007\n",
    "data4 = data3[(data3['Date'] > '2007-01-01' )]\n",
    "#create time series line chart that plots Dow Jones closing values\n",
    "y = data4['Close']\n",
    "x = pd.to_datetime(data4['Date'])   #iterate list to transfor dates for graphical use\n",
    "data5 = pd.DataFrame({'Close':y, 'Date':x}).set_index(x) \n",
    "data5.plot(kind='line')\n",
    "plt.show()\n",
    "#Time series functions:  http://wavedatalab.github.io/datawithpython/timeseries.html"
   ]
  },
  {
   "cell_type": "code",
   "execution_count": null,
   "metadata": {
    "collapsed": true
   },
   "outputs": [],
   "source": []
  }
 ],
 "metadata": {
  "kernelspec": {
   "display_name": "Python 3",
   "language": "python",
   "name": "python3"
  },
  "language_info": {
   "codemirror_mode": {
    "name": "ipython",
    "version": 3
   },
   "file_extension": ".py",
   "mimetype": "text/x-python",
   "name": "python",
   "nbconvert_exporter": "python",
   "pygments_lexer": "ipython3",
   "version": "3.6.0"
  }
 },
 "nbformat": 4,
 "nbformat_minor": 2
}
