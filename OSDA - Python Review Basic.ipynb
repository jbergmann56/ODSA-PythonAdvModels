{
 "cells": [
  {
   "cell_type": "code",
   "execution_count": 13,
   "metadata": {
    "collapsed": false
   },
   "outputs": [],
   "source": [
    "#Reference:  https://www.w3schools.com/python/python_json.asp\n",
    "#python examples: https://realpython.com/\n",
    "import datetime #date functionality\n",
    "import re #regular expressions - search string"
   ]
  },
  {
   "cell_type": "code",
   "execution_count": 8,
   "metadata": {
    "collapsed": false
   },
   "outputs": [
    {
     "name": "stdout",
     "output_type": "stream",
     "text": [
      "<_sre.SRE_Match object; span=(0, 17), match='The rain in Spain'>\n",
      "None\n",
      "2019-01-08 09:25:36.835717\n"
     ]
    }
   ],
   "source": [
    "#SET GLOBAL variables - Can be used throughout Python Program\n",
    "txt_ex = \"The rain in Spain\"\n",
    "search_ex = re.search(\"^The.*Spain$\", txt_ex)\n",
    "print(search_ex)\n",
    "search_ex = re.search(\"^The.*Jeremy$\", txt_ex) #returns \"None\"\n",
    "print(search_ex)\n",
    "boolean_ex = True #Boolean\n",
    "int_ex = 1 #Integer\n",
    "float_ex = 2.8  # float\n",
    "list_ex = [int_ex, [\"another\", \"list\"], (\"a\", \"tuple\")] #Value, List & Tuple\n",
    "now_ex = datetime.datetime.now()\n",
    "print(now_ex)"
   ]
  },
  {
   "cell_type": "code",
   "execution_count": 5,
   "metadata": {
    "collapsed": true
   },
   "outputs": [],
   "source": [
    "def data_structures(): #define function \n",
    "    #List is a collection which is ordered and changeable. Allows duplicate members.\n",
    "    #Note:  Python Lists replace Arrays (from most programming languages)\n",
    "    print('list examples')\n",
    "    mylist = [\"List item 1\", 2, 3.14]\n",
    "    mylist[0] = \"List item 1 again\" # We're changing the item.\n",
    "    mylist[-1] = 3.21 # Here, we refer to the last item.\n",
    "    print(mylist[:])    #Prints ['List item 1', 2, 3.1400000000000001]\n",
    "    print(mylist[0:2])    #Prints ['List item 1', 2]\n",
    "    print(mylist[-3:-1])    #Prints ['List item 1', 2]\n",
    "    print(mylist[1:])    #prints [2, 3.14]\n",
    "    # Adding a third parameter, \"step\" will have Python step in N item increments, rather than 1.\n",
    "    print(mylist[::2])    #Prints ['List item 1', 3.14]\n",
    "\n",
    "    #Tuple is a collection which is ordered and unchangeable. Allows duplicate members. \n",
    "    print('tuple examples')\n",
    "    mytuple = (1, 2, 3, 1)\n",
    "    print(mytuple[0],mytuple[3])\n",
    "\n",
    "    #Set is a collection which is unordered and unindexed. No duplicate members.\n",
    "    print('set examples')\n",
    "    myset = {\"apple\", \"banana\", \"cherry\"}\n",
    "    print(myset)\n",
    "\n",
    "    #Add multiple items to a set, using the update() method:\n",
    "    myset.update([\"orange\", \"mango\", \"grapes\"])\n",
    "    print(myset)  #prints {'apple', 'banana', 'mango', 'cherry', 'grapes', 'orange'}\n",
    "    #use other set operations to manipulate set - example\n",
    "    myset.discard(\"banana\")\n",
    "    print(myset)\n",
    "    #Dictionary is a collection which is unordered, changeable and indexed. No duplicate members. \n",
    "    print('dictionary examples')\n",
    "    mydict = {\"Key 1\": \"Value 1\", 2: 3, \"pi\": 3.14}\n",
    "    mydict[\"pi\"] = 3.15 # This is how you change dictionary values.\n",
    "    #use set functions to manipulate set\n",
    "\n",
    "    #get length of any type\n",
    "    myfunction = len\n",
    "    print('len examples')\n",
    "    print(myfunction(mylist))\n",
    "    print(myfunction(mytuple))\n",
    "    print(myfunction(myset))\n",
    "    print(myfunction(mydict))\n"
   ]
  },
  {
   "cell_type": "code",
   "execution_count": 3,
   "metadata": {
    "collapsed": false
   },
   "outputs": [
    {
     "name": "stdout",
     "output_type": "stream",
     "text": [
      "list examples\n",
      "['List item 1 again', 2, 3.21]\n",
      "['List item 1 again', 2]\n",
      "['List item 1 again', 2]\n",
      "[2, 3.21]\n",
      "['List item 1 again', 3.21]\n",
      "tuple examples\n",
      "1 1\n",
      "set examples\n",
      "{'banana', 'cherry', 'apple'}\n",
      "{'mango', 'orange', 'grapes', 'apple', 'cherry', 'banana'}\n",
      "{'mango', 'orange', 'grapes', 'apple', 'cherry'}\n",
      "dictionary examples\n",
      "len examples\n",
      "3\n",
      "4\n",
      "5\n",
      "3\n"
     ]
    }
   ],
   "source": [
    "data_structures()"
   ]
  },
  {
   "cell_type": "code",
   "execution_count": 7,
   "metadata": {
    "collapsed": false
   },
   "outputs": [],
   "source": [
    "#Reference:  https://www.w3schools.com/python/python_json.asp\n",
    "#python examples: https://realpython.com/\n",
    "import datetime #date functionality\n",
    "import re #regular expressions - search string\n",
    "\n",
    "def strings():\n",
    "    strString = \"\"\"This is\n",
    "    a multiline\n",
    "    string.\"\"\"\n",
    "    print(strString)\n",
    "    # WARNING: Watch out for the trailing s in \"%(key)s\".\n",
    "    print(\"This %(verb)s a %(noun)s.\" % {\"noun\": \"test\", \"verb\": \"is\"})\n",
    "    #Ouptup: This is a test.\n",
    "    \n",
    "    #Use .format to placehold string values, similar to concatenation\n",
    "    name = \"Jeremiah\"\n",
    "    \"Hello, {}!\".format(name)\n",
    "    print(f\"Hello, {name}!\")\n",
    "    #Output: Hello, Jeremiah!"
   ]
  },
  {
   "cell_type": "code",
   "execution_count": 9,
   "metadata": {
    "collapsed": false
   },
   "outputs": [
    {
     "name": "stdout",
     "output_type": "stream",
     "text": [
      "This is\n",
      "    a multiline\n",
      "    string.\n",
      "This is a test.\n",
      "Hello, Jeremiah!\n"
     ]
    }
   ],
   "source": [
    "strings()"
   ]
  },
  {
   "cell_type": "code",
   "execution_count": null,
   "metadata": {
    "collapsed": true
   },
   "outputs": [],
   "source": []
  }
 ],
 "metadata": {
  "kernelspec": {
   "display_name": "Python 3",
   "language": "python",
   "name": "python3"
  },
  "language_info": {
   "codemirror_mode": {
    "name": "ipython",
    "version": 3
   },
   "file_extension": ".py",
   "mimetype": "text/x-python",
   "name": "python",
   "nbconvert_exporter": "python",
   "pygments_lexer": "ipython3",
   "version": "3.6.0"
  }
 },
 "nbformat": 4,
 "nbformat_minor": 2
}
