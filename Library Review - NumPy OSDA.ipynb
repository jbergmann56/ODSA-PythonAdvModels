{
 "cells": [
  {
   "cell_type": "code",
   "execution_count": 6,
   "metadata": {
    "collapsed": true
   },
   "outputs": [],
   "source": [
    "#Numpy Documentation:  https://docs.python.org/3/library/\n",
    "#Tutorials:  https://www.tutorialspoint.com/numpy/,  https://docs.scipy.org/doc/numpy/user/quickstart.html\n",
    "#Library Purpose: Numerical Python (NumPy) is the fundamental package for scientific computing with Python\n",
    "#Includes: powerful N-dimensional array object,  useful linear algebra, Fourier transform, and random number capabilities\n",
    "#Besides its obvious scientific uses, NumPy can also be used as an efficient multi-dimensional container of generic data. \n",
    "#Arbitrary data-types can be defined. This allows NumPy to seamlessly and speedily integrate with a wide variety of databases.\n",
    "\n",
    "import numpy as np\n",
    "#random num gen classes\n",
    "from numpy.random import rand\n",
    "#Linear algebra classes\n",
    "from numpy.linalg import solve, inv"
   ]
  },
  {
   "cell_type": "code",
   "execution_count": 7,
   "metadata": {
    "collapsed": true
   },
   "outputs": [],
   "source": [
    "#overview of numpy data structures & operations\n",
    "def data_struct():\n",
    "    print(\"Array creation - does not exist in python base libraries\")\n",
    "    x = np.array([1, 2, 3])\n",
    "    print(x)  #prints array([1, 2, 3])\n",
    "    y = np.arange(10)  # like Python's range, but returns an array\n",
    "    print(y) #prints array([0, 1, 2, 3, 4, 5, 6, 7, 8, 9])\n",
    "\n",
    "    print(\"Basic Numpy operations\")\n",
    "    a = np.array([1, 2, 3, 6])\n",
    "    b = np.linspace(0, 2, 4)  # create an array with four equally spaced points starting with 0 and ending with 2.\n",
    "    print(b)  #Prints \n",
    "    c = a - b #Array/set Difference\n",
    "    print(c) # rints array([ 1.        ,  1.33333333,  1.66666667,  4.        ])\n",
    "    a**2 #All elements ^2\n",
    "    print(a) #prints array([1 2 3 6])\n",
    "\n",
    "    print(\"Universal numpy functions\")\n",
    "    a = np.linspace(-np.pi, np.pi, 100)  \n",
    "    b = np.sin(a) #sine function\n",
    "    c = np.cos(a) #cosine function\n",
    "\n",
    "    a = np.array([[1, 2, 3], [3, 4, 6.7], [5, 9.0, 5]])\n",
    "    print(\"Transpose array - from linalg class\")\n",
    "    a.transpose()  \n",
    "    '''array([[ 1. ,  3. ,  5. ],\n",
    "       [ 2. ,  4. ,  9. ],\n",
    "       [ 3. ,  6.7,  5. ]]) '''\n",
    "    inv(a)\n",
    "    ''' array([[-2.27683616,  0.96045198,  0.07909605],\n",
    "       [ 1.04519774, -0.56497175,  0.1299435 ],\n",
    "       [ 0.39548023,  0.05649718, -0.11299435]]) '''\n",
    "    b =  np.array([3, 2, 1])\n",
    "    print(\"solve the equation ax = b\")\n",
    "    solve(a, b) \n",
    "    #prints results - x = array([-4.83050847,  2.13559322,  1.18644068])\n",
    "    c = rand(3, 3) * 20  # create a 3x3 random matrix of values within [0,1] scaled by 20\n",
    "    print(c)\n",
    "    ''' ex. array([[  3.98732789,   2.47702609,   4.71167924],\n",
    "       [  9.24410671,   5.5240412 ,  10.6468792 ],\n",
    "       [ 10.38136661,   8.44968437,  15.17639591]]) '''\n",
    "    print(\"matrix multiplication\")\n",
    "    np.dot(a, c)  \n",
    "    ''' ex. array([[  53.61964114,   38.8741616 ,   71.53462537],\n",
    "       [ 118.4935668 ,   86.14012835,  158.40440712],\n",
    "       [ 155.04043289,  104.3499231 ,  195.26228855]]) '''\n",
    "    a @ c # Starting with Python 3.5 and NumPy 1.10\n",
    "    ''' ex. array([[  53.61964114,   38.8741616 ,   71.53462537],\n",
    "       [ 118.4935668 ,   86.14012835,  158.40440712],\n",
    "       [ 155.04043289,  104.3499231 ,  195.26228855]]) '''\n"
   ]
  },
  {
   "cell_type": "code",
   "execution_count": 8,
   "metadata": {
    "collapsed": false
   },
   "outputs": [
    {
     "name": "stdout",
     "output_type": "stream",
     "text": [
      "Array creation - does not exist in python base libraries\n",
      "[1 2 3]\n",
      "[0 1 2 3 4 5 6 7 8 9]\n",
      "Basic Numpy operations\n",
      "[0.         0.66666667 1.33333333 2.        ]\n",
      "[1.         1.33333333 1.66666667 4.        ]\n",
      "[1 2 3 6]\n",
      "Universal numpy functions\n",
      "Transpose array - from linalg class\n",
      "solve the equation ax = b\n",
      "[[ 1.26919158  6.08311628 13.7795179 ]\n",
      " [ 5.87444982  8.65031812 17.86822093]\n",
      " [ 2.92582199 14.51627418 16.86121485]]\n",
      "matrix multiplication\n"
     ]
    }
   ],
   "source": [
    "data_struct()  "
   ]
  },
  {
   "cell_type": "code",
   "execution_count": 11,
   "metadata": {
    "collapsed": false
   },
   "outputs": [],
   "source": [
    "def data_types():\n",
    "    print(\"find data type of variable\")\n",
    "    dt = np.dtype(np.int32) \n",
    "    print(dt)  #prints int32\n",
    "\n",
    "    a = np.array([(10,),(20,),(30,)], dtype = dt) \n",
    "    print(a)  #prints [(10,) (20,) (30,)]\n",
    "    print(a['age']) #prints [(10 20 30]\n",
    "\n",
    "    #ndarray example - mixed types\n",
    "    student = np.dtype([('name','S20'), ('age', 'i1'), ('marks', 'f4')]) \n",
    "    a = np.array([('abc', 21, 50),('xyz', 18, 75)], dtype = student) \n",
    "    print(a)  #prints [('abc', 21, 50.0), ('xyz', 18, 75.0)]"
   ]
  },
  {
   "cell_type": "code",
   "execution_count": 12,
   "metadata": {
    "collapsed": false
   },
   "outputs": [
    {
     "name": "stdout",
     "output_type": "stream",
     "text": [
      "find data type of variable\n",
      "int32\n",
      "[(10,) (20,) (30,)]\n",
      "[10 20 30]\n",
      "[(b'abc', 21, 50.) (b'xyz', 18, 75.)]\n"
     ]
    }
   ],
   "source": [
    "data_types()  "
   ]
  },
  {
   "cell_type": "code",
   "execution_count": null,
   "metadata": {
    "collapsed": true
   },
   "outputs": [],
   "source": []
  }
 ],
 "metadata": {
  "kernelspec": {
   "display_name": "Python 3",
   "language": "python",
   "name": "python3"
  },
  "language_info": {
   "codemirror_mode": {
    "name": "ipython",
    "version": 3
   },
   "file_extension": ".py",
   "mimetype": "text/x-python",
   "name": "python",
   "nbconvert_exporter": "python",
   "pygments_lexer": "ipython3",
   "version": "3.6.0"
  }
 },
 "nbformat": 4,
 "nbformat_minor": 2
}
