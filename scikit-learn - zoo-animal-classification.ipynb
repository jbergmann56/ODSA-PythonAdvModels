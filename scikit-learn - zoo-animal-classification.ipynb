{
 "cells": [
  {
   "cell_type": "markdown",
   "metadata": {
    "_uuid": "4104679a108093cc5b52aeca901cda2714a30fd4"
   },
   "source": [
    "## **Introduction**\n",
    "\n",
    "This notebook contains the steps enumerated below for analyzing characteristics of zoo animals and creating classifications.<br> \n",
    "Data is available at: https://www.kaggle.com/uciml/zoo-animal-classification/data <br><br>\n",
    "Example at: https://www.kaggle.com/angeelee/zoo-animal-classification/notebook <br><br>\n",
    "1. [Import Data & Python Packages](#1-bullet) <br>\n",
    "2. [Assess Data Quality & Missing Values](#2-bullet)<br>\n",
    "3. [Exploratory Data Analysis](#3-bullet) <br>\n",
    "4. [Classification & Cross Validation](#4-bullet) <br>\n",
    "    * [4.1 Split train and test dataset](#4.1-bullet) <br>\n",
    "    * [4.2 Perceptron Method](#4.2-bullet)<br>\n",
    "      * [4.2.1 Cross Validation for Perceptron Method](#4.2.1-bullet) <br>\n",
    "    * [4.3 Decision Tree](#4.3-bullet)<br>\n",
    "    * [4.4 SVM](#4.4-bullet)<br>\n",
    "    * [4.5 Multiclass Logistic Regression](#4.5-bullet)<br>\n",
    "5. [Summary](#5-bullet) <br>"
   ]
  },
  {
   "cell_type": "code",
   "execution_count": 110,
   "metadata": {
    "_cell_guid": "52976aed-d9e2-44fc-b583-3e8af2edeed7",
    "_uuid": "763e3003c29a597b3de5c2ebf236c518d77fbe5a",
    "collapsed": false
   },
   "outputs": [],
   "source": [
    "# This Python 3 environment comes with many helpful analytics libraries installed\n",
    "# It is defined by the kaggle/python docker image: https://github.com/kaggle/docker-python\n",
    "# For example, here's several helpful packages to load in \n",
    "\n",
    "import numpy as np # linear algebra\n",
    "import pandas as pd # data processing, CSV file I/O (e.g. pd.read_csv)\n",
    "\n",
    "# Import packages for data vaiualization/understanding.\n",
    "import matplotlib.pyplot as plt\n",
    "#With the inline command, the output of plotting commands is displayed inline within frontends like the Jupyter notebook, directly below the code cell that produced it. The resulting plots will then also be stored in the notebook document.\n",
    "%matplotlib inline \n",
    "import seaborn as sns #Seaborn is a Python data visualization library based on matplotlib. \n",
    "sns.set(style=\"white\") #white background style for seaborn plots\n",
    "sns.set(style=\"whitegrid\", color_codes=True)\n",
    "\n",
    "#import scikit-learn libraries for data preprocessing, model builidng & evaluation\n",
    "#from sklearn import preprocessing - included in import, but not used\n",
    "from sklearn.metrics import accuracy_score  #used for model evaluation - https://scikit-learn.org/stable/modules/model_evaluation.html#model-evaluation"
   ]
  },
  {
   "cell_type": "code",
   "execution_count": 82,
   "metadata": {
    "collapsed": false
   },
   "outputs": [
    {
     "name": "stdout",
     "output_type": "stream",
     "text": [
      "    animal_name  hair  feathers  eggs  milk  airborne  aquatic  predator  \\\n",
      "0      aardvark     1         0     0     1         0        0         1   \n",
      "1      antelope     1         0     0     1         0        0         0   \n",
      "2          bass     0         0     1     0         0        1         1   \n",
      "3          bear     1         0     0     1         0        0         1   \n",
      "4          boar     1         0     0     1         0        0         1   \n",
      "5       buffalo     1         0     0     1         0        0         0   \n",
      "6          calf     1         0     0     1         0        0         0   \n",
      "7          carp     0         0     1     0         0        1         0   \n",
      "8       catfish     0         0     1     0         0        1         1   \n",
      "9          cavy     1         0     0     1         0        0         0   \n",
      "10      cheetah     1         0     0     1         0        0         1   \n",
      "11      chicken     0         1     1     0         1        0         0   \n",
      "12         chub     0         0     1     0         0        1         1   \n",
      "13         clam     0         0     1     0         0        0         1   \n",
      "14         crab     0         0     1     0         0        1         1   \n",
      "15     crayfish     0         0     1     0         0        1         1   \n",
      "16         crow     0         1     1     0         1        0         1   \n",
      "17         deer     1         0     0     1         0        0         0   \n",
      "18      dogfish     0         0     1     0         0        1         1   \n",
      "19      dolphin     0         0     0     1         0        1         1   \n",
      "20         dove     0         1     1     0         1        0         0   \n",
      "21         duck     0         1     1     0         1        1         0   \n",
      "22     elephant     1         0     0     1         0        0         0   \n",
      "23     flamingo     0         1     1     0         1        0         0   \n",
      "24         flea     0         0     1     0         0        0         0   \n",
      "25         frog     0         0     1     0         0        1         1   \n",
      "26         frog     0         0     1     0         0        1         1   \n",
      "27     fruitbat     1         0     0     1         1        0         0   \n",
      "28      giraffe     1         0     0     1         0        0         0   \n",
      "29         girl     1         0     0     1         0        0         1   \n",
      "..          ...   ...       ...   ...   ...       ...      ...       ...   \n",
      "71         rhea     0         1     1     0         0        0         1   \n",
      "72     scorpion     0         0     0     0         0        0         1   \n",
      "73     seahorse     0         0     1     0         0        1         0   \n",
      "74         seal     1         0     0     1         0        1         1   \n",
      "75      sealion     1         0     0     1         0        1         1   \n",
      "76     seasnake     0         0     0     0         0        1         1   \n",
      "77      seawasp     0         0     1     0         0        1         1   \n",
      "78      skimmer     0         1     1     0         1        1         1   \n",
      "79         skua     0         1     1     0         1        1         1   \n",
      "80     slowworm     0         0     1     0         0        0         1   \n",
      "81         slug     0         0     1     0         0        0         0   \n",
      "82         sole     0         0     1     0         0        1         0   \n",
      "83      sparrow     0         1     1     0         1        0         0   \n",
      "84     squirrel     1         0     0     1         0        0         0   \n",
      "85     starfish     0         0     1     0         0        1         1   \n",
      "86     stingray     0         0     1     0         0        1         1   \n",
      "87         swan     0         1     1     0         1        1         0   \n",
      "88      termite     0         0     1     0         0        0         0   \n",
      "89         toad     0         0     1     0         0        1         0   \n",
      "90     tortoise     0         0     1     0         0        0         0   \n",
      "91      tuatara     0         0     1     0         0        0         1   \n",
      "92         tuna     0         0     1     0         0        1         1   \n",
      "93      vampire     1         0     0     1         1        0         0   \n",
      "94         vole     1         0     0     1         0        0         0   \n",
      "95      vulture     0         1     1     0         1        0         1   \n",
      "96      wallaby     1         0     0     1         0        0         0   \n",
      "97         wasp     1         0     1     0         1        0         0   \n",
      "98         wolf     1         0     0     1         0        0         1   \n",
      "99         worm     0         0     1     0         0        0         0   \n",
      "100        wren     0         1     1     0         1        0         0   \n",
      "\n",
      "     toothed  backbone  breathes  venomous  fins  legs  tail  domestic  \\\n",
      "0          1         1         1         0     0     4     0         0   \n",
      "1          1         1         1         0     0     4     1         0   \n",
      "2          1         1         0         0     1     0     1         0   \n",
      "3          1         1         1         0     0     4     0         0   \n",
      "4          1         1         1         0     0     4     1         0   \n",
      "5          1         1         1         0     0     4     1         0   \n",
      "6          1         1         1         0     0     4     1         1   \n",
      "7          1         1         0         0     1     0     1         1   \n",
      "8          1         1         0         0     1     0     1         0   \n",
      "9          1         1         1         0     0     4     0         1   \n",
      "10         1         1         1         0     0     4     1         0   \n",
      "11         0         1         1         0     0     2     1         1   \n",
      "12         1         1         0         0     1     0     1         0   \n",
      "13         0         0         0         0     0     0     0         0   \n",
      "14         0         0         0         0     0     4     0         0   \n",
      "15         0         0         0         0     0     6     0         0   \n",
      "16         0         1         1         0     0     2     1         0   \n",
      "17         1         1         1         0     0     4     1         0   \n",
      "18         1         1         0         0     1     0     1         0   \n",
      "19         1         1         1         0     1     0     1         0   \n",
      "20         0         1         1         0     0     2     1         1   \n",
      "21         0         1         1         0     0     2     1         0   \n",
      "22         1         1         1         0     0     4     1         0   \n",
      "23         0         1         1         0     0     2     1         0   \n",
      "24         0         0         1         0     0     6     0         0   \n",
      "25         1         1         1         0     0     4     0         0   \n",
      "26         1         1         1         1     0     4     0         0   \n",
      "27         1         1         1         0     0     2     1         0   \n",
      "28         1         1         1         0     0     4     1         0   \n",
      "29         1         1         1         0     0     2     0         1   \n",
      "..       ...       ...       ...       ...   ...   ...   ...       ...   \n",
      "71         0         1         1         0     0     2     1         0   \n",
      "72         0         0         1         1     0     8     1         0   \n",
      "73         1         1         0         0     1     0     1         0   \n",
      "74         1         1         1         0     1     0     0         0   \n",
      "75         1         1         1         0     1     2     1         0   \n",
      "76         1         1         0         1     0     0     1         0   \n",
      "77         0         0         0         1     0     0     0         0   \n",
      "78         0         1         1         0     0     2     1         0   \n",
      "79         0         1         1         0     0     2     1         0   \n",
      "80         1         1         1         0     0     0     1         0   \n",
      "81         0         0         1         0     0     0     0         0   \n",
      "82         1         1         0         0     1     0     1         0   \n",
      "83         0         1         1         0     0     2     1         0   \n",
      "84         1         1         1         0     0     2     1         0   \n",
      "85         0         0         0         0     0     5     0         0   \n",
      "86         1         1         0         1     1     0     1         0   \n",
      "87         0         1         1         0     0     2     1         0   \n",
      "88         0         0         1         0     0     6     0         0   \n",
      "89         1         1         1         0     0     4     0         0   \n",
      "90         0         1         1         0     0     4     1         0   \n",
      "91         1         1         1         0     0     4     1         0   \n",
      "92         1         1         0         0     1     0     1         0   \n",
      "93         1         1         1         0     0     2     1         0   \n",
      "94         1         1         1         0     0     4     1         0   \n",
      "95         0         1         1         0     0     2     1         0   \n",
      "96         1         1         1         0     0     2     1         0   \n",
      "97         0         0         1         1     0     6     0         0   \n",
      "98         1         1         1         0     0     4     1         0   \n",
      "99         0         0         1         0     0     0     0         0   \n",
      "100        0         1         1         0     0     2     1         0   \n",
      "\n",
      "     catsize  class_type  \n",
      "0          1           1  \n",
      "1          1           1  \n",
      "2          0           4  \n",
      "3          1           1  \n",
      "4          1           1  \n",
      "5          1           1  \n",
      "6          1           1  \n",
      "7          0           4  \n",
      "8          0           4  \n",
      "9          0           1  \n",
      "10         1           1  \n",
      "11         0           2  \n",
      "12         0           4  \n",
      "13         0           7  \n",
      "14         0           7  \n",
      "15         0           7  \n",
      "16         0           2  \n",
      "17         1           1  \n",
      "18         1           4  \n",
      "19         1           1  \n",
      "20         0           2  \n",
      "21         0           2  \n",
      "22         1           1  \n",
      "23         1           2  \n",
      "24         0           6  \n",
      "25         0           5  \n",
      "26         0           5  \n",
      "27         0           1  \n",
      "28         1           1  \n",
      "29         1           1  \n",
      "..       ...         ...  \n",
      "71         1           2  \n",
      "72         0           7  \n",
      "73         0           4  \n",
      "74         1           1  \n",
      "75         1           1  \n",
      "76         0           3  \n",
      "77         0           7  \n",
      "78         0           2  \n",
      "79         0           2  \n",
      "80         0           3  \n",
      "81         0           7  \n",
      "82         0           4  \n",
      "83         0           2  \n",
      "84         0           1  \n",
      "85         0           7  \n",
      "86         1           4  \n",
      "87         1           2  \n",
      "88         0           6  \n",
      "89         0           5  \n",
      "90         1           3  \n",
      "91         0           3  \n",
      "92         1           4  \n",
      "93         0           1  \n",
      "94         0           1  \n",
      "95         1           2  \n",
      "96         1           1  \n",
      "97         0           6  \n",
      "98         1           1  \n",
      "99         0           7  \n",
      "100        0           2  \n",
      "\n",
      "[101 rows x 18 columns]\n"
     ]
    }
   ],
   "source": [
    "#Data Preparation - Import analysis datasets\n",
    "#raw animal data for 100 zoo animals\n",
    "animal=pd.read_csv('C:\\\\Python\\\\Data\\\\zoo.csv') #import to pandas DataFrame\n",
    "print(animal)"
   ]
  },
  {
   "cell_type": "code",
   "execution_count": 83,
   "metadata": {
    "_uuid": "159b6cba6b91d9ebc1acd25866fb6fd1873326f3",
    "collapsed": false
   },
   "outputs": [
    {
     "name": "stdout",
     "output_type": "stream",
     "text": [
      "   Class_Number  Number_Of_Animal_Species_In_Class    Class_Type  \\\n",
      "0             1                                 41        Mammal   \n",
      "1             2                                 20          Bird   \n",
      "2             3                                  5       Reptile   \n",
      "3             4                                 13          Fish   \n",
      "4             5                                  4     Amphibian   \n",
      "5             6                                  8           Bug   \n",
      "6             7                                 10  Invertebrate   \n",
      "\n",
      "                                        Animal_Names  \n",
      "0  aardvark, antelope, bear, boar, buffalo, calf,...  \n",
      "1  chicken, crow, dove, duck, flamingo, gull, haw...  \n",
      "2    pitviper, seasnake, slowworm, tortoise, tuatara  \n",
      "3  bass, carp, catfish, chub, dogfish, haddock, h...  \n",
      "4                             frog, frog, newt, toad  \n",
      "5  flea, gnat, honeybee, housefly, ladybird, moth...  \n",
      "6  clam, crab, crayfish, lobster, octopus, scorpi...  \n"
     ]
    }
   ],
   "source": [
    "ani_class=pd.read_csv('C:\\\\Python\\\\Data\\\\class.csv')\n",
    "print(ani_class)"
   ]
  },
  {
   "cell_type": "markdown",
   "metadata": {
    "_uuid": "cb389809995334bb87a2a630ad07446670682fdf"
   },
   "source": [
    "**1. Import Data & Python Packages **"
   ]
  },
  {
   "cell_type": "code",
   "execution_count": 84,
   "metadata": {
    "_uuid": "72fe4b7969219342f2cc3f19c967f6241dba5872",
    "collapsed": false
   },
   "outputs": [
    {
     "data": {
      "text/html": [
       "<div>\n",
       "<table border=\"1\" class=\"dataframe\">\n",
       "  <thead>\n",
       "    <tr style=\"text-align: right;\">\n",
       "      <th></th>\n",
       "      <th>animal_name</th>\n",
       "      <th>hair</th>\n",
       "      <th>feathers</th>\n",
       "      <th>eggs</th>\n",
       "      <th>milk</th>\n",
       "      <th>airborne</th>\n",
       "      <th>aquatic</th>\n",
       "      <th>predator</th>\n",
       "      <th>toothed</th>\n",
       "      <th>backbone</th>\n",
       "      <th>breathes</th>\n",
       "      <th>venomous</th>\n",
       "      <th>fins</th>\n",
       "      <th>legs</th>\n",
       "      <th>tail</th>\n",
       "      <th>domestic</th>\n",
       "      <th>catsize</th>\n",
       "      <th>class_type</th>\n",
       "    </tr>\n",
       "  </thead>\n",
       "  <tbody>\n",
       "    <tr>\n",
       "      <th>0</th>\n",
       "      <td>aardvark</td>\n",
       "      <td>1</td>\n",
       "      <td>0</td>\n",
       "      <td>0</td>\n",
       "      <td>1</td>\n",
       "      <td>0</td>\n",
       "      <td>0</td>\n",
       "      <td>1</td>\n",
       "      <td>1</td>\n",
       "      <td>1</td>\n",
       "      <td>1</td>\n",
       "      <td>0</td>\n",
       "      <td>0</td>\n",
       "      <td>4</td>\n",
       "      <td>0</td>\n",
       "      <td>0</td>\n",
       "      <td>1</td>\n",
       "      <td>1</td>\n",
       "    </tr>\n",
       "    <tr>\n",
       "      <th>1</th>\n",
       "      <td>antelope</td>\n",
       "      <td>1</td>\n",
       "      <td>0</td>\n",
       "      <td>0</td>\n",
       "      <td>1</td>\n",
       "      <td>0</td>\n",
       "      <td>0</td>\n",
       "      <td>0</td>\n",
       "      <td>1</td>\n",
       "      <td>1</td>\n",
       "      <td>1</td>\n",
       "      <td>0</td>\n",
       "      <td>0</td>\n",
       "      <td>4</td>\n",
       "      <td>1</td>\n",
       "      <td>0</td>\n",
       "      <td>1</td>\n",
       "      <td>1</td>\n",
       "    </tr>\n",
       "    <tr>\n",
       "      <th>2</th>\n",
       "      <td>bass</td>\n",
       "      <td>0</td>\n",
       "      <td>0</td>\n",
       "      <td>1</td>\n",
       "      <td>0</td>\n",
       "      <td>0</td>\n",
       "      <td>1</td>\n",
       "      <td>1</td>\n",
       "      <td>1</td>\n",
       "      <td>1</td>\n",
       "      <td>0</td>\n",
       "      <td>0</td>\n",
       "      <td>1</td>\n",
       "      <td>0</td>\n",
       "      <td>1</td>\n",
       "      <td>0</td>\n",
       "      <td>0</td>\n",
       "      <td>4</td>\n",
       "    </tr>\n",
       "    <tr>\n",
       "      <th>3</th>\n",
       "      <td>bear</td>\n",
       "      <td>1</td>\n",
       "      <td>0</td>\n",
       "      <td>0</td>\n",
       "      <td>1</td>\n",
       "      <td>0</td>\n",
       "      <td>0</td>\n",
       "      <td>1</td>\n",
       "      <td>1</td>\n",
       "      <td>1</td>\n",
       "      <td>1</td>\n",
       "      <td>0</td>\n",
       "      <td>0</td>\n",
       "      <td>4</td>\n",
       "      <td>0</td>\n",
       "      <td>0</td>\n",
       "      <td>1</td>\n",
       "      <td>1</td>\n",
       "    </tr>\n",
       "    <tr>\n",
       "      <th>4</th>\n",
       "      <td>boar</td>\n",
       "      <td>1</td>\n",
       "      <td>0</td>\n",
       "      <td>0</td>\n",
       "      <td>1</td>\n",
       "      <td>0</td>\n",
       "      <td>0</td>\n",
       "      <td>1</td>\n",
       "      <td>1</td>\n",
       "      <td>1</td>\n",
       "      <td>1</td>\n",
       "      <td>0</td>\n",
       "      <td>0</td>\n",
       "      <td>4</td>\n",
       "      <td>1</td>\n",
       "      <td>0</td>\n",
       "      <td>1</td>\n",
       "      <td>1</td>\n",
       "    </tr>\n",
       "  </tbody>\n",
       "</table>\n",
       "</div>"
      ],
      "text/plain": [
       "  animal_name  hair  feathers  eggs  milk  airborne  aquatic  predator  \\\n",
       "0    aardvark     1         0     0     1         0        0         1   \n",
       "1    antelope     1         0     0     1         0        0         0   \n",
       "2        bass     0         0     1     0         0        1         1   \n",
       "3        bear     1         0     0     1         0        0         1   \n",
       "4        boar     1         0     0     1         0        0         1   \n",
       "\n",
       "   toothed  backbone  breathes  venomous  fins  legs  tail  domestic  catsize  \\\n",
       "0        1         1         1         0     0     4     0         0        1   \n",
       "1        1         1         1         0     0     4     1         0        1   \n",
       "2        1         1         0         0     1     0     1         0        0   \n",
       "3        1         1         1         0     0     4     0         0        1   \n",
       "4        1         1         1         0     0     4     1         0        1   \n",
       "\n",
       "   class_type  \n",
       "0           1  \n",
       "1           1  \n",
       "2           4  \n",
       "3           1  \n",
       "4           1  "
      ]
     },
     "execution_count": 84,
     "metadata": {},
     "output_type": "execute_result"
    }
   ],
   "source": [
    "animal.head()"
   ]
  },
  {
   "cell_type": "code",
   "execution_count": 85,
   "metadata": {
    "_uuid": "e4fe43942ea95ee4f07ce6a8502d544c09802d46",
    "collapsed": false
   },
   "outputs": [
    {
     "data": {
      "text/html": [
       "<div>\n",
       "<table border=\"1\" class=\"dataframe\">\n",
       "  <thead>\n",
       "    <tr style=\"text-align: right;\">\n",
       "      <th></th>\n",
       "      <th>Class_Number</th>\n",
       "      <th>Number_Of_Animal_Species_In_Class</th>\n",
       "      <th>Class_Type</th>\n",
       "      <th>Animal_Names</th>\n",
       "    </tr>\n",
       "  </thead>\n",
       "  <tbody>\n",
       "    <tr>\n",
       "      <th>0</th>\n",
       "      <td>1</td>\n",
       "      <td>41</td>\n",
       "      <td>Mammal</td>\n",
       "      <td>aardvark, antelope, bear, boar, buffalo, calf,...</td>\n",
       "    </tr>\n",
       "    <tr>\n",
       "      <th>1</th>\n",
       "      <td>2</td>\n",
       "      <td>20</td>\n",
       "      <td>Bird</td>\n",
       "      <td>chicken, crow, dove, duck, flamingo, gull, haw...</td>\n",
       "    </tr>\n",
       "    <tr>\n",
       "      <th>2</th>\n",
       "      <td>3</td>\n",
       "      <td>5</td>\n",
       "      <td>Reptile</td>\n",
       "      <td>pitviper, seasnake, slowworm, tortoise, tuatara</td>\n",
       "    </tr>\n",
       "    <tr>\n",
       "      <th>3</th>\n",
       "      <td>4</td>\n",
       "      <td>13</td>\n",
       "      <td>Fish</td>\n",
       "      <td>bass, carp, catfish, chub, dogfish, haddock, h...</td>\n",
       "    </tr>\n",
       "    <tr>\n",
       "      <th>4</th>\n",
       "      <td>5</td>\n",
       "      <td>4</td>\n",
       "      <td>Amphibian</td>\n",
       "      <td>frog, frog, newt, toad</td>\n",
       "    </tr>\n",
       "    <tr>\n",
       "      <th>5</th>\n",
       "      <td>6</td>\n",
       "      <td>8</td>\n",
       "      <td>Bug</td>\n",
       "      <td>flea, gnat, honeybee, housefly, ladybird, moth...</td>\n",
       "    </tr>\n",
       "    <tr>\n",
       "      <th>6</th>\n",
       "      <td>7</td>\n",
       "      <td>10</td>\n",
       "      <td>Invertebrate</td>\n",
       "      <td>clam, crab, crayfish, lobster, octopus, scorpi...</td>\n",
       "    </tr>\n",
       "  </tbody>\n",
       "</table>\n",
       "</div>"
      ],
      "text/plain": [
       "   Class_Number  Number_Of_Animal_Species_In_Class    Class_Type  \\\n",
       "0             1                                 41        Mammal   \n",
       "1             2                                 20          Bird   \n",
       "2             3                                  5       Reptile   \n",
       "3             4                                 13          Fish   \n",
       "4             5                                  4     Amphibian   \n",
       "5             6                                  8           Bug   \n",
       "6             7                                 10  Invertebrate   \n",
       "\n",
       "                                        Animal_Names  \n",
       "0  aardvark, antelope, bear, boar, buffalo, calf,...  \n",
       "1  chicken, crow, dove, duck, flamingo, gull, haw...  \n",
       "2    pitviper, seasnake, slowworm, tortoise, tuatara  \n",
       "3  bass, carp, catfish, chub, dogfish, haddock, h...  \n",
       "4                             frog, frog, newt, toad  \n",
       "5  flea, gnat, honeybee, housefly, ladybird, moth...  \n",
       "6  clam, crab, crayfish, lobster, octopus, scorpi...  "
      ]
     },
     "execution_count": 85,
     "metadata": {},
     "output_type": "execute_result"
    }
   ],
   "source": [
    "# Check class table for later use.\n",
    "ani_class"
   ]
  },
  {
   "cell_type": "code",
   "execution_count": 86,
   "metadata": {
    "_uuid": "f7c50d1646c99f02fd851238b896b13fdd92885e",
    "collapsed": false
   },
   "outputs": [
    {
     "name": "stdout",
     "output_type": "stream",
     "text": [
      "<class 'pandas.core.frame.DataFrame'>\n",
      "RangeIndex: 101 entries, 0 to 100\n",
      "Data columns (total 18 columns):\n",
      "animal_name    101 non-null object\n",
      "hair           101 non-null int64\n",
      "feathers       101 non-null int64\n",
      "eggs           101 non-null int64\n",
      "milk           101 non-null int64\n",
      "airborne       101 non-null int64\n",
      "aquatic        101 non-null int64\n",
      "predator       101 non-null int64\n",
      "toothed        101 non-null int64\n",
      "backbone       101 non-null int64\n",
      "breathes       101 non-null int64\n",
      "venomous       101 non-null int64\n",
      "fins           101 non-null int64\n",
      "legs           101 non-null int64\n",
      "tail           101 non-null int64\n",
      "domestic       101 non-null int64\n",
      "catsize        101 non-null int64\n",
      "class_type     101 non-null int64\n",
      "dtypes: int64(17), object(1)\n",
      "memory usage: 14.3+ KB\n"
     ]
    }
   ],
   "source": [
    "#Data Understanding - Check data type for each variable\n",
    "animal.info() #pandas dataframe function"
   ]
  },
  {
   "cell_type": "markdown",
   "metadata": {
    "_uuid": "a04b1ca4d6e7e26afad9e4fac83885221c9170bc"
   },
   "source": [
    "**2. Assess Data Quality & Missing Values **"
   ]
  },
  {
   "cell_type": "code",
   "execution_count": 87,
   "metadata": {
    "_uuid": "2545ece6fa5da18e68b935275b02a61a379352c2",
    "collapsed": false,
    "scrolled": true
   },
   "outputs": [
    {
     "data": {
      "text/plain": [
       "animal_name    0\n",
       "hair           0\n",
       "feathers       0\n",
       "eggs           0\n",
       "milk           0\n",
       "airborne       0\n",
       "aquatic        0\n",
       "predator       0\n",
       "toothed        0\n",
       "backbone       0\n",
       "breathes       0\n",
       "venomous       0\n",
       "fins           0\n",
       "legs           0\n",
       "tail           0\n",
       "domestic       0\n",
       "catsize        0\n",
       "class_type     0\n",
       "dtype: int64"
      ]
     },
     "execution_count": 87,
     "metadata": {},
     "output_type": "execute_result"
    }
   ],
   "source": [
    "animal.isnull().sum()"
   ]
  },
  {
   "cell_type": "markdown",
   "metadata": {
    "_uuid": "13fdc6af32d2bc0af23b118b9f5639b464a8cd49"
   },
   "source": [
    "Good news is there's no missing value in this table! \n",
    "And data seems to be very clean that only full number is presented."
   ]
  },
  {
   "cell_type": "code",
   "execution_count": 88,
   "metadata": {
    "_uuid": "9d3ff693872cb9c42a56e481feeb66b73b75e824",
    "collapsed": false
   },
   "outputs": [
    {
     "data": {
      "text/html": [
       "<div>\n",
       "<table border=\"1\" class=\"dataframe\">\n",
       "  <thead>\n",
       "    <tr style=\"text-align: right;\">\n",
       "      <th></th>\n",
       "      <th>hair</th>\n",
       "      <th>feathers</th>\n",
       "      <th>eggs</th>\n",
       "      <th>milk</th>\n",
       "      <th>airborne</th>\n",
       "      <th>aquatic</th>\n",
       "      <th>predator</th>\n",
       "      <th>toothed</th>\n",
       "      <th>backbone</th>\n",
       "      <th>breathes</th>\n",
       "      <th>venomous</th>\n",
       "      <th>fins</th>\n",
       "      <th>legs</th>\n",
       "      <th>tail</th>\n",
       "      <th>domestic</th>\n",
       "      <th>catsize</th>\n",
       "      <th>class_type</th>\n",
       "    </tr>\n",
       "  </thead>\n",
       "  <tbody>\n",
       "    <tr>\n",
       "      <th>count</th>\n",
       "      <td>101.000000</td>\n",
       "      <td>101.000000</td>\n",
       "      <td>101.000000</td>\n",
       "      <td>101.000000</td>\n",
       "      <td>101.000000</td>\n",
       "      <td>101.000000</td>\n",
       "      <td>101.000000</td>\n",
       "      <td>101.000000</td>\n",
       "      <td>101.000000</td>\n",
       "      <td>101.000000</td>\n",
       "      <td>101.000000</td>\n",
       "      <td>101.000000</td>\n",
       "      <td>101.000000</td>\n",
       "      <td>101.000000</td>\n",
       "      <td>101.000000</td>\n",
       "      <td>101.000000</td>\n",
       "      <td>101.000000</td>\n",
       "    </tr>\n",
       "    <tr>\n",
       "      <th>mean</th>\n",
       "      <td>0.425743</td>\n",
       "      <td>0.198020</td>\n",
       "      <td>0.584158</td>\n",
       "      <td>0.405941</td>\n",
       "      <td>0.237624</td>\n",
       "      <td>0.356436</td>\n",
       "      <td>0.554455</td>\n",
       "      <td>0.603960</td>\n",
       "      <td>0.821782</td>\n",
       "      <td>0.792079</td>\n",
       "      <td>0.079208</td>\n",
       "      <td>0.168317</td>\n",
       "      <td>2.841584</td>\n",
       "      <td>0.742574</td>\n",
       "      <td>0.128713</td>\n",
       "      <td>0.435644</td>\n",
       "      <td>2.831683</td>\n",
       "    </tr>\n",
       "    <tr>\n",
       "      <th>std</th>\n",
       "      <td>0.496921</td>\n",
       "      <td>0.400495</td>\n",
       "      <td>0.495325</td>\n",
       "      <td>0.493522</td>\n",
       "      <td>0.427750</td>\n",
       "      <td>0.481335</td>\n",
       "      <td>0.499505</td>\n",
       "      <td>0.491512</td>\n",
       "      <td>0.384605</td>\n",
       "      <td>0.407844</td>\n",
       "      <td>0.271410</td>\n",
       "      <td>0.376013</td>\n",
       "      <td>2.033385</td>\n",
       "      <td>0.439397</td>\n",
       "      <td>0.336552</td>\n",
       "      <td>0.498314</td>\n",
       "      <td>2.102709</td>\n",
       "    </tr>\n",
       "    <tr>\n",
       "      <th>min</th>\n",
       "      <td>0.000000</td>\n",
       "      <td>0.000000</td>\n",
       "      <td>0.000000</td>\n",
       "      <td>0.000000</td>\n",
       "      <td>0.000000</td>\n",
       "      <td>0.000000</td>\n",
       "      <td>0.000000</td>\n",
       "      <td>0.000000</td>\n",
       "      <td>0.000000</td>\n",
       "      <td>0.000000</td>\n",
       "      <td>0.000000</td>\n",
       "      <td>0.000000</td>\n",
       "      <td>0.000000</td>\n",
       "      <td>0.000000</td>\n",
       "      <td>0.000000</td>\n",
       "      <td>0.000000</td>\n",
       "      <td>1.000000</td>\n",
       "    </tr>\n",
       "    <tr>\n",
       "      <th>25%</th>\n",
       "      <td>0.000000</td>\n",
       "      <td>0.000000</td>\n",
       "      <td>0.000000</td>\n",
       "      <td>0.000000</td>\n",
       "      <td>0.000000</td>\n",
       "      <td>0.000000</td>\n",
       "      <td>0.000000</td>\n",
       "      <td>0.000000</td>\n",
       "      <td>1.000000</td>\n",
       "      <td>1.000000</td>\n",
       "      <td>0.000000</td>\n",
       "      <td>0.000000</td>\n",
       "      <td>2.000000</td>\n",
       "      <td>0.000000</td>\n",
       "      <td>0.000000</td>\n",
       "      <td>0.000000</td>\n",
       "      <td>1.000000</td>\n",
       "    </tr>\n",
       "    <tr>\n",
       "      <th>50%</th>\n",
       "      <td>0.000000</td>\n",
       "      <td>0.000000</td>\n",
       "      <td>1.000000</td>\n",
       "      <td>0.000000</td>\n",
       "      <td>0.000000</td>\n",
       "      <td>0.000000</td>\n",
       "      <td>1.000000</td>\n",
       "      <td>1.000000</td>\n",
       "      <td>1.000000</td>\n",
       "      <td>1.000000</td>\n",
       "      <td>0.000000</td>\n",
       "      <td>0.000000</td>\n",
       "      <td>4.000000</td>\n",
       "      <td>1.000000</td>\n",
       "      <td>0.000000</td>\n",
       "      <td>0.000000</td>\n",
       "      <td>2.000000</td>\n",
       "    </tr>\n",
       "    <tr>\n",
       "      <th>75%</th>\n",
       "      <td>1.000000</td>\n",
       "      <td>0.000000</td>\n",
       "      <td>1.000000</td>\n",
       "      <td>1.000000</td>\n",
       "      <td>0.000000</td>\n",
       "      <td>1.000000</td>\n",
       "      <td>1.000000</td>\n",
       "      <td>1.000000</td>\n",
       "      <td>1.000000</td>\n",
       "      <td>1.000000</td>\n",
       "      <td>0.000000</td>\n",
       "      <td>0.000000</td>\n",
       "      <td>4.000000</td>\n",
       "      <td>1.000000</td>\n",
       "      <td>0.000000</td>\n",
       "      <td>1.000000</td>\n",
       "      <td>4.000000</td>\n",
       "    </tr>\n",
       "    <tr>\n",
       "      <th>max</th>\n",
       "      <td>1.000000</td>\n",
       "      <td>1.000000</td>\n",
       "      <td>1.000000</td>\n",
       "      <td>1.000000</td>\n",
       "      <td>1.000000</td>\n",
       "      <td>1.000000</td>\n",
       "      <td>1.000000</td>\n",
       "      <td>1.000000</td>\n",
       "      <td>1.000000</td>\n",
       "      <td>1.000000</td>\n",
       "      <td>1.000000</td>\n",
       "      <td>1.000000</td>\n",
       "      <td>8.000000</td>\n",
       "      <td>1.000000</td>\n",
       "      <td>1.000000</td>\n",
       "      <td>1.000000</td>\n",
       "      <td>7.000000</td>\n",
       "    </tr>\n",
       "  </tbody>\n",
       "</table>\n",
       "</div>"
      ],
      "text/plain": [
       "             hair    feathers        eggs        milk    airborne     aquatic  \\\n",
       "count  101.000000  101.000000  101.000000  101.000000  101.000000  101.000000   \n",
       "mean     0.425743    0.198020    0.584158    0.405941    0.237624    0.356436   \n",
       "std      0.496921    0.400495    0.495325    0.493522    0.427750    0.481335   \n",
       "min      0.000000    0.000000    0.000000    0.000000    0.000000    0.000000   \n",
       "25%      0.000000    0.000000    0.000000    0.000000    0.000000    0.000000   \n",
       "50%      0.000000    0.000000    1.000000    0.000000    0.000000    0.000000   \n",
       "75%      1.000000    0.000000    1.000000    1.000000    0.000000    1.000000   \n",
       "max      1.000000    1.000000    1.000000    1.000000    1.000000    1.000000   \n",
       "\n",
       "         predator     toothed    backbone    breathes    venomous        fins  \\\n",
       "count  101.000000  101.000000  101.000000  101.000000  101.000000  101.000000   \n",
       "mean     0.554455    0.603960    0.821782    0.792079    0.079208    0.168317   \n",
       "std      0.499505    0.491512    0.384605    0.407844    0.271410    0.376013   \n",
       "min      0.000000    0.000000    0.000000    0.000000    0.000000    0.000000   \n",
       "25%      0.000000    0.000000    1.000000    1.000000    0.000000    0.000000   \n",
       "50%      1.000000    1.000000    1.000000    1.000000    0.000000    0.000000   \n",
       "75%      1.000000    1.000000    1.000000    1.000000    0.000000    0.000000   \n",
       "max      1.000000    1.000000    1.000000    1.000000    1.000000    1.000000   \n",
       "\n",
       "             legs        tail    domestic     catsize  class_type  \n",
       "count  101.000000  101.000000  101.000000  101.000000  101.000000  \n",
       "mean     2.841584    0.742574    0.128713    0.435644    2.831683  \n",
       "std      2.033385    0.439397    0.336552    0.498314    2.102709  \n",
       "min      0.000000    0.000000    0.000000    0.000000    1.000000  \n",
       "25%      2.000000    0.000000    0.000000    0.000000    1.000000  \n",
       "50%      4.000000    1.000000    0.000000    0.000000    2.000000  \n",
       "75%      4.000000    1.000000    0.000000    1.000000    4.000000  \n",
       "max      8.000000    1.000000    1.000000    1.000000    7.000000  "
      ]
     },
     "execution_count": 88,
     "metadata": {},
     "output_type": "execute_result"
    }
   ],
   "source": [
    "animal.describe()"
   ]
  },
  {
   "cell_type": "code",
   "execution_count": 89,
   "metadata": {
    "_uuid": "335b0cfb41b8a82dc5db2442f11c2030879470a2",
    "collapsed": false
   },
   "outputs": [
    {
     "name": "stdout",
     "output_type": "stream",
     "text": [
      "[1 4 2 7 6 5 3]\n"
     ]
    }
   ],
   "source": [
    "# Check if class_type has correct values\n",
    "print(animal.class_type.unique())"
   ]
  },
  {
   "cell_type": "code",
   "execution_count": 90,
   "metadata": {
    "_uuid": "cc7c68aa5eb1ffc809b7b1d10543c9c3f485c152",
    "collapsed": false
   },
   "outputs": [
    {
     "name": "stdout",
     "output_type": "stream",
     "text": [
      "[4 0 2 6 8 5]\n"
     ]
    }
   ],
   "source": [
    "print(animal.legs.unique())"
   ]
  },
  {
   "cell_type": "code",
   "execution_count": 91,
   "metadata": {
    "_uuid": "228d90104955b8f54cfb214078b1b5ee8a21ad04",
    "collapsed": false
   },
   "outputs": [
    {
     "data": {
      "text/html": [
       "<div>\n",
       "<table border=\"1\" class=\"dataframe\">\n",
       "  <thead>\n",
       "    <tr style=\"text-align: right;\">\n",
       "      <th></th>\n",
       "      <th>animal_name</th>\n",
       "      <th>hair</th>\n",
       "      <th>feathers</th>\n",
       "      <th>eggs</th>\n",
       "      <th>milk</th>\n",
       "      <th>airborne</th>\n",
       "      <th>aquatic</th>\n",
       "      <th>predator</th>\n",
       "      <th>toothed</th>\n",
       "      <th>backbone</th>\n",
       "      <th>breathes</th>\n",
       "      <th>venomous</th>\n",
       "      <th>fins</th>\n",
       "      <th>legs</th>\n",
       "      <th>tail</th>\n",
       "      <th>domestic</th>\n",
       "      <th>catsize</th>\n",
       "      <th>class_type</th>\n",
       "    </tr>\n",
       "  </thead>\n",
       "  <tbody>\n",
       "    <tr>\n",
       "      <th>85</th>\n",
       "      <td>starfish</td>\n",
       "      <td>0</td>\n",
       "      <td>0</td>\n",
       "      <td>1</td>\n",
       "      <td>0</td>\n",
       "      <td>0</td>\n",
       "      <td>1</td>\n",
       "      <td>1</td>\n",
       "      <td>0</td>\n",
       "      <td>0</td>\n",
       "      <td>0</td>\n",
       "      <td>0</td>\n",
       "      <td>0</td>\n",
       "      <td>5</td>\n",
       "      <td>0</td>\n",
       "      <td>0</td>\n",
       "      <td>0</td>\n",
       "      <td>7</td>\n",
       "    </tr>\n",
       "  </tbody>\n",
       "</table>\n",
       "</div>"
      ],
      "text/plain": [
       "   animal_name  hair  feathers  eggs  milk  airborne  aquatic  predator  \\\n",
       "85    starfish     0         0     1     0         0        1         1   \n",
       "\n",
       "    toothed  backbone  breathes  venomous  fins  legs  tail  domestic  \\\n",
       "85        0         0         0         0     0     5     0         0   \n",
       "\n",
       "    catsize  class_type  \n",
       "85        0           7  "
      ]
     },
     "execution_count": 91,
     "metadata": {},
     "output_type": "execute_result"
    }
   ],
   "source": [
    "# just curious which animal has 5 legs\n",
    "animal.loc[animal['legs'] == 5]"
   ]
  },
  {
   "cell_type": "markdown",
   "metadata": {
    "_uuid": "1544b909da054cf448c56763c564fb14fbe8ff9b"
   },
   "source": [
    "**3. Exploratory Data Analysis **"
   ]
  },
  {
   "cell_type": "code",
   "execution_count": 92,
   "metadata": {
    "_uuid": "baec154ba356a526404ea90c6b93f5886f5db41f",
    "collapsed": false
   },
   "outputs": [
    {
     "data": {
      "text/html": [
       "<div>\n",
       "<table border=\"1\" class=\"dataframe\">\n",
       "  <thead>\n",
       "    <tr style=\"text-align: right;\">\n",
       "      <th></th>\n",
       "      <th>animal_name</th>\n",
       "      <th>hair</th>\n",
       "      <th>feathers</th>\n",
       "      <th>eggs</th>\n",
       "      <th>milk</th>\n",
       "      <th>airborne</th>\n",
       "      <th>aquatic</th>\n",
       "      <th>predator</th>\n",
       "      <th>toothed</th>\n",
       "      <th>backbone</th>\n",
       "      <th>...</th>\n",
       "      <th>fins</th>\n",
       "      <th>legs</th>\n",
       "      <th>tail</th>\n",
       "      <th>domestic</th>\n",
       "      <th>catsize</th>\n",
       "      <th>class_type</th>\n",
       "      <th>Class_Number</th>\n",
       "      <th>Number_Of_Animal_Species_In_Class</th>\n",
       "      <th>Class_Type</th>\n",
       "      <th>Animal_Names</th>\n",
       "    </tr>\n",
       "  </thead>\n",
       "  <tbody>\n",
       "    <tr>\n",
       "      <th>0</th>\n",
       "      <td>aardvark</td>\n",
       "      <td>1</td>\n",
       "      <td>0</td>\n",
       "      <td>0</td>\n",
       "      <td>1</td>\n",
       "      <td>0</td>\n",
       "      <td>0</td>\n",
       "      <td>1</td>\n",
       "      <td>1</td>\n",
       "      <td>1</td>\n",
       "      <td>...</td>\n",
       "      <td>0</td>\n",
       "      <td>4</td>\n",
       "      <td>0</td>\n",
       "      <td>0</td>\n",
       "      <td>1</td>\n",
       "      <td>1</td>\n",
       "      <td>1</td>\n",
       "      <td>41</td>\n",
       "      <td>Mammal</td>\n",
       "      <td>aardvark, antelope, bear, boar, buffalo, calf,...</td>\n",
       "    </tr>\n",
       "    <tr>\n",
       "      <th>1</th>\n",
       "      <td>antelope</td>\n",
       "      <td>1</td>\n",
       "      <td>0</td>\n",
       "      <td>0</td>\n",
       "      <td>1</td>\n",
       "      <td>0</td>\n",
       "      <td>0</td>\n",
       "      <td>0</td>\n",
       "      <td>1</td>\n",
       "      <td>1</td>\n",
       "      <td>...</td>\n",
       "      <td>0</td>\n",
       "      <td>4</td>\n",
       "      <td>1</td>\n",
       "      <td>0</td>\n",
       "      <td>1</td>\n",
       "      <td>1</td>\n",
       "      <td>1</td>\n",
       "      <td>41</td>\n",
       "      <td>Mammal</td>\n",
       "      <td>aardvark, antelope, bear, boar, buffalo, calf,...</td>\n",
       "    </tr>\n",
       "    <tr>\n",
       "      <th>2</th>\n",
       "      <td>bass</td>\n",
       "      <td>0</td>\n",
       "      <td>0</td>\n",
       "      <td>1</td>\n",
       "      <td>0</td>\n",
       "      <td>0</td>\n",
       "      <td>1</td>\n",
       "      <td>1</td>\n",
       "      <td>1</td>\n",
       "      <td>1</td>\n",
       "      <td>...</td>\n",
       "      <td>1</td>\n",
       "      <td>0</td>\n",
       "      <td>1</td>\n",
       "      <td>0</td>\n",
       "      <td>0</td>\n",
       "      <td>4</td>\n",
       "      <td>4</td>\n",
       "      <td>13</td>\n",
       "      <td>Fish</td>\n",
       "      <td>bass, carp, catfish, chub, dogfish, haddock, h...</td>\n",
       "    </tr>\n",
       "    <tr>\n",
       "      <th>3</th>\n",
       "      <td>bear</td>\n",
       "      <td>1</td>\n",
       "      <td>0</td>\n",
       "      <td>0</td>\n",
       "      <td>1</td>\n",
       "      <td>0</td>\n",
       "      <td>0</td>\n",
       "      <td>1</td>\n",
       "      <td>1</td>\n",
       "      <td>1</td>\n",
       "      <td>...</td>\n",
       "      <td>0</td>\n",
       "      <td>4</td>\n",
       "      <td>0</td>\n",
       "      <td>0</td>\n",
       "      <td>1</td>\n",
       "      <td>1</td>\n",
       "      <td>1</td>\n",
       "      <td>41</td>\n",
       "      <td>Mammal</td>\n",
       "      <td>aardvark, antelope, bear, boar, buffalo, calf,...</td>\n",
       "    </tr>\n",
       "    <tr>\n",
       "      <th>4</th>\n",
       "      <td>boar</td>\n",
       "      <td>1</td>\n",
       "      <td>0</td>\n",
       "      <td>0</td>\n",
       "      <td>1</td>\n",
       "      <td>0</td>\n",
       "      <td>0</td>\n",
       "      <td>1</td>\n",
       "      <td>1</td>\n",
       "      <td>1</td>\n",
       "      <td>...</td>\n",
       "      <td>0</td>\n",
       "      <td>4</td>\n",
       "      <td>1</td>\n",
       "      <td>0</td>\n",
       "      <td>1</td>\n",
       "      <td>1</td>\n",
       "      <td>1</td>\n",
       "      <td>41</td>\n",
       "      <td>Mammal</td>\n",
       "      <td>aardvark, antelope, bear, boar, buffalo, calf,...</td>\n",
       "    </tr>\n",
       "  </tbody>\n",
       "</table>\n",
       "<p>5 rows × 22 columns</p>\n",
       "</div>"
      ],
      "text/plain": [
       "  animal_name  hair  feathers  eggs  milk  airborne  aquatic  predator  \\\n",
       "0    aardvark     1         0     0     1         0        0         1   \n",
       "1    antelope     1         0     0     1         0        0         0   \n",
       "2        bass     0         0     1     0         0        1         1   \n",
       "3        bear     1         0     0     1         0        0         1   \n",
       "4        boar     1         0     0     1         0        0         1   \n",
       "\n",
       "   toothed  backbone                        ...                          fins  \\\n",
       "0        1         1                        ...                             0   \n",
       "1        1         1                        ...                             0   \n",
       "2        1         1                        ...                             1   \n",
       "3        1         1                        ...                             0   \n",
       "4        1         1                        ...                             0   \n",
       "\n",
       "   legs  tail  domestic  catsize  class_type  Class_Number  \\\n",
       "0     4     0         0        1           1             1   \n",
       "1     4     1         0        1           1             1   \n",
       "2     0     1         0        0           4             4   \n",
       "3     4     0         0        1           1             1   \n",
       "4     4     1         0        1           1             1   \n",
       "\n",
       "   Number_Of_Animal_Species_In_Class  Class_Type  \\\n",
       "0                                 41      Mammal   \n",
       "1                                 41      Mammal   \n",
       "2                                 13        Fish   \n",
       "3                                 41      Mammal   \n",
       "4                                 41      Mammal   \n",
       "\n",
       "                                        Animal_Names  \n",
       "0  aardvark, antelope, bear, boar, buffalo, calf,...  \n",
       "1  aardvark, antelope, bear, boar, buffalo, calf,...  \n",
       "2  bass, carp, catfish, chub, dogfish, haddock, h...  \n",
       "3  aardvark, antelope, bear, boar, buffalo, calf,...  \n",
       "4  aardvark, antelope, bear, boar, buffalo, calf,...  \n",
       "\n",
       "[5 rows x 22 columns]"
      ]
     },
     "execution_count": 92,
     "metadata": {},
     "output_type": "execute_result"
    }
   ],
   "source": [
    "# Join animal table and class table to show actual class names\n",
    "df=pd.merge(animal,ani_class,how='left',left_on='class_type',right_on='Class_Number')\n",
    "df.head()"
   ]
  },
  {
   "cell_type": "code",
   "execution_count": 93,
   "metadata": {
    "_uuid": "c4b305c47a4e77c36c1f42ca33476e36532cc09a",
    "collapsed": false
   },
   "outputs": [
    {
     "data": {
      "text/plain": [
       "(array([ 41.,  20.,   5.,  13.,   4.,   8.,  10.]),\n",
       " array([ 1.        ,  1.85714286,  2.71428571,  3.57142857,  4.42857143,\n",
       "         5.28571429,  6.14285714,  7.        ]),\n",
       " <a list of 7 Patch objects>)"
      ]
     },
     "execution_count": 93,
     "metadata": {},
     "output_type": "execute_result"
    },
    {
     "data": {
      "image/png": "[encoded data removed]",
      "text/plain": [
       "<matplotlib.figure.Figure at 0x1fa57eee588>"
      ]
     },
     "metadata": {},
     "output_type": "display_data"
    }
   ],
   "source": [
    "plt.hist(df.class_type, bins=7)  #matplot histogram"
   ]
  },
  {
   "cell_type": "code",
   "execution_count": null,
   "metadata": {
    "_uuid": "eb6803af09ad7cd4f70b00811d4af64448aa64c9",
    "collapsed": false
   },
   "outputs": [],
   "source": [
    "# See which class the most zoo animals belong to\n",
    "sns.factorplot('Class_Type', data=df,kind=\"count\", aspect=2)"
   ]
  },
  {
   "cell_type": "code",
   "execution_count": 94,
   "metadata": {
    "_uuid": "83131ae359e30edff96b4f7916236e085181d7f5",
    "collapsed": false
   },
   "outputs": [
    {
     "data": {
      "image/png": "[encoded data removed]",
      "text/plain": [
       "<matplotlib.figure.Figure at 0x1fa57eef9e8>"
      ]
     },
     "metadata": {},
     "output_type": "display_data"
    }
   ],
   "source": [
    "# heatmap to show correlations\n",
    "plt.subplots(figsize=(20,15))\n",
    "ax = plt.axes()\n",
    "ax.set_title(\"Correlation Heatmap\")\n",
    "corr = animal.corr()\n",
    "sns.heatmap(corr, annot=True,\n",
    "            xticklabels=corr.columns.values,\n",
    "            yticklabels=corr.columns.values)"
   ]
  },
  {
   "cell_type": "code",
   "execution_count": 95,
   "metadata": {
    "_uuid": "9d451f1d4eb7d607be88cce5e9ce42cb6bf08e01",
    "collapsed": false
   },
   "outputs": [
    {
     "data": {
      "text/html": [
       "<div>\n",
       "<table border=\"1\" class=\"dataframe\">\n",
       "  <thead>\n",
       "    <tr style=\"text-align: right;\">\n",
       "      <th></th>\n",
       "      <th>hair</th>\n",
       "      <th>eggs</th>\n",
       "      <th>milk</th>\n",
       "      <th>backbone</th>\n",
       "      <th>tail</th>\n",
       "      <th>class_type</th>\n",
       "    </tr>\n",
       "  </thead>\n",
       "  <tbody>\n",
       "    <tr>\n",
       "      <th>hair</th>\n",
       "      <td>NaN</td>\n",
       "      <td>-0.817382</td>\n",
       "      <td>0.878503</td>\n",
       "      <td>NaN</td>\n",
       "      <td>NaN</td>\n",
       "      <td>NaN</td>\n",
       "    </tr>\n",
       "    <tr>\n",
       "      <th>eggs</th>\n",
       "      <td>-0.817382</td>\n",
       "      <td>NaN</td>\n",
       "      <td>-0.938848</td>\n",
       "      <td>NaN</td>\n",
       "      <td>NaN</td>\n",
       "      <td>NaN</td>\n",
       "    </tr>\n",
       "    <tr>\n",
       "      <th>milk</th>\n",
       "      <td>0.878503</td>\n",
       "      <td>-0.938848</td>\n",
       "      <td>NaN</td>\n",
       "      <td>NaN</td>\n",
       "      <td>NaN</td>\n",
       "      <td>-0.723683</td>\n",
       "    </tr>\n",
       "    <tr>\n",
       "      <th>backbone</th>\n",
       "      <td>NaN</td>\n",
       "      <td>NaN</td>\n",
       "      <td>NaN</td>\n",
       "      <td>NaN</td>\n",
       "      <td>0.731762</td>\n",
       "      <td>-0.828845</td>\n",
       "    </tr>\n",
       "    <tr>\n",
       "      <th>tail</th>\n",
       "      <td>NaN</td>\n",
       "      <td>NaN</td>\n",
       "      <td>NaN</td>\n",
       "      <td>0.731762</td>\n",
       "      <td>NaN</td>\n",
       "      <td>NaN</td>\n",
       "    </tr>\n",
       "    <tr>\n",
       "      <th>class_type</th>\n",
       "      <td>NaN</td>\n",
       "      <td>NaN</td>\n",
       "      <td>-0.723683</td>\n",
       "      <td>-0.828845</td>\n",
       "      <td>NaN</td>\n",
       "      <td>NaN</td>\n",
       "    </tr>\n",
       "  </tbody>\n",
       "</table>\n",
       "</div>"
      ],
      "text/plain": [
       "                hair      eggs      milk  backbone      tail  class_type\n",
       "hair             NaN -0.817382  0.878503       NaN       NaN         NaN\n",
       "eggs       -0.817382       NaN -0.938848       NaN       NaN         NaN\n",
       "milk        0.878503 -0.938848       NaN       NaN       NaN   -0.723683\n",
       "backbone         NaN       NaN       NaN       NaN  0.731762   -0.828845\n",
       "tail             NaN       NaN       NaN  0.731762       NaN         NaN\n",
       "class_type       NaN       NaN -0.723683 -0.828845       NaN         NaN"
      ]
     },
     "execution_count": 95,
     "metadata": {},
     "output_type": "execute_result"
    }
   ],
   "source": [
    "# show vairable correlation which is more than 0.7 (positive or negative)\n",
    "corr[corr != 1][abs(corr)> 0.7].dropna(how='all', axis=1).dropna(how='all', axis=0)"
   ]
  },
  {
   "cell_type": "code",
   "execution_count": 96,
   "metadata": {
    "_uuid": "ef24fc581bb0053725d871ac65a21acff6587107",
    "collapsed": false
   },
   "outputs": [
    {
     "data": {
      "text/html": [
       "<div>\n",
       "<table border=\"1\" class=\"dataframe\">\n",
       "  <thead>\n",
       "    <tr style=\"text-align: right;\">\n",
       "      <th></th>\n",
       "      <th>hair</th>\n",
       "      <th>feathers</th>\n",
       "      <th>eggs</th>\n",
       "      <th>milk</th>\n",
       "      <th>airborne</th>\n",
       "      <th>aquatic</th>\n",
       "      <th>predator</th>\n",
       "      <th>toothed</th>\n",
       "      <th>backbone</th>\n",
       "      <th>breathes</th>\n",
       "      <th>venomous</th>\n",
       "      <th>fins</th>\n",
       "      <th>legs</th>\n",
       "      <th>tail</th>\n",
       "      <th>domestic</th>\n",
       "      <th>catsize</th>\n",
       "      <th>class_type</th>\n",
       "      <th>Class_Number</th>\n",
       "      <th>Number_Of_Animal_Species_In_Class</th>\n",
       "    </tr>\n",
       "    <tr>\n",
       "      <th>Class_Type</th>\n",
       "      <th></th>\n",
       "      <th></th>\n",
       "      <th></th>\n",
       "      <th></th>\n",
       "      <th></th>\n",
       "      <th></th>\n",
       "      <th></th>\n",
       "      <th></th>\n",
       "      <th></th>\n",
       "      <th></th>\n",
       "      <th></th>\n",
       "      <th></th>\n",
       "      <th></th>\n",
       "      <th></th>\n",
       "      <th></th>\n",
       "      <th></th>\n",
       "      <th></th>\n",
       "      <th></th>\n",
       "      <th></th>\n",
       "    </tr>\n",
       "  </thead>\n",
       "  <tbody>\n",
       "    <tr>\n",
       "      <th>Amphibian</th>\n",
       "      <td>0.00000</td>\n",
       "      <td>0.0</td>\n",
       "      <td>1.00000</td>\n",
       "      <td>0.0</td>\n",
       "      <td>0.00000</td>\n",
       "      <td>1.000000</td>\n",
       "      <td>0.750000</td>\n",
       "      <td>1.00000</td>\n",
       "      <td>1.0</td>\n",
       "      <td>1.0</td>\n",
       "      <td>0.250000</td>\n",
       "      <td>0.000000</td>\n",
       "      <td>4.000000</td>\n",
       "      <td>0.250000</td>\n",
       "      <td>0.000000</td>\n",
       "      <td>0.000000</td>\n",
       "      <td>5.0</td>\n",
       "      <td>5.0</td>\n",
       "      <td>4.0</td>\n",
       "    </tr>\n",
       "    <tr>\n",
       "      <th>Bird</th>\n",
       "      <td>0.00000</td>\n",
       "      <td>1.0</td>\n",
       "      <td>1.00000</td>\n",
       "      <td>0.0</td>\n",
       "      <td>0.80000</td>\n",
       "      <td>0.300000</td>\n",
       "      <td>0.450000</td>\n",
       "      <td>0.00000</td>\n",
       "      <td>1.0</td>\n",
       "      <td>1.0</td>\n",
       "      <td>0.000000</td>\n",
       "      <td>0.000000</td>\n",
       "      <td>2.000000</td>\n",
       "      <td>1.000000</td>\n",
       "      <td>0.150000</td>\n",
       "      <td>0.300000</td>\n",
       "      <td>2.0</td>\n",
       "      <td>2.0</td>\n",
       "      <td>20.0</td>\n",
       "    </tr>\n",
       "    <tr>\n",
       "      <th>Bug</th>\n",
       "      <td>0.50000</td>\n",
       "      <td>0.0</td>\n",
       "      <td>1.00000</td>\n",
       "      <td>0.0</td>\n",
       "      <td>0.75000</td>\n",
       "      <td>0.000000</td>\n",
       "      <td>0.125000</td>\n",
       "      <td>0.00000</td>\n",
       "      <td>0.0</td>\n",
       "      <td>1.0</td>\n",
       "      <td>0.250000</td>\n",
       "      <td>0.000000</td>\n",
       "      <td>6.000000</td>\n",
       "      <td>0.000000</td>\n",
       "      <td>0.125000</td>\n",
       "      <td>0.000000</td>\n",
       "      <td>6.0</td>\n",
       "      <td>6.0</td>\n",
       "      <td>8.0</td>\n",
       "    </tr>\n",
       "    <tr>\n",
       "      <th>Fish</th>\n",
       "      <td>0.00000</td>\n",
       "      <td>0.0</td>\n",
       "      <td>1.00000</td>\n",
       "      <td>0.0</td>\n",
       "      <td>0.00000</td>\n",
       "      <td>1.000000</td>\n",
       "      <td>0.692308</td>\n",
       "      <td>1.00000</td>\n",
       "      <td>1.0</td>\n",
       "      <td>0.0</td>\n",
       "      <td>0.076923</td>\n",
       "      <td>1.000000</td>\n",
       "      <td>0.000000</td>\n",
       "      <td>1.000000</td>\n",
       "      <td>0.076923</td>\n",
       "      <td>0.307692</td>\n",
       "      <td>4.0</td>\n",
       "      <td>4.0</td>\n",
       "      <td>13.0</td>\n",
       "    </tr>\n",
       "    <tr>\n",
       "      <th>Invertebrate</th>\n",
       "      <td>0.00000</td>\n",
       "      <td>0.0</td>\n",
       "      <td>0.90000</td>\n",
       "      <td>0.0</td>\n",
       "      <td>0.00000</td>\n",
       "      <td>0.600000</td>\n",
       "      <td>0.800000</td>\n",
       "      <td>0.00000</td>\n",
       "      <td>0.0</td>\n",
       "      <td>0.3</td>\n",
       "      <td>0.200000</td>\n",
       "      <td>0.000000</td>\n",
       "      <td>3.700000</td>\n",
       "      <td>0.100000</td>\n",
       "      <td>0.000000</td>\n",
       "      <td>0.100000</td>\n",
       "      <td>7.0</td>\n",
       "      <td>7.0</td>\n",
       "      <td>10.0</td>\n",
       "    </tr>\n",
       "    <tr>\n",
       "      <th>Mammal</th>\n",
       "      <td>0.95122</td>\n",
       "      <td>0.0</td>\n",
       "      <td>0.02439</td>\n",
       "      <td>1.0</td>\n",
       "      <td>0.04878</td>\n",
       "      <td>0.146341</td>\n",
       "      <td>0.536585</td>\n",
       "      <td>0.97561</td>\n",
       "      <td>1.0</td>\n",
       "      <td>1.0</td>\n",
       "      <td>0.000000</td>\n",
       "      <td>0.097561</td>\n",
       "      <td>3.365854</td>\n",
       "      <td>0.853659</td>\n",
       "      <td>0.195122</td>\n",
       "      <td>0.780488</td>\n",
       "      <td>1.0</td>\n",
       "      <td>1.0</td>\n",
       "      <td>41.0</td>\n",
       "    </tr>\n",
       "    <tr>\n",
       "      <th>Reptile</th>\n",
       "      <td>0.00000</td>\n",
       "      <td>0.0</td>\n",
       "      <td>0.80000</td>\n",
       "      <td>0.0</td>\n",
       "      <td>0.00000</td>\n",
       "      <td>0.200000</td>\n",
       "      <td>0.800000</td>\n",
       "      <td>0.80000</td>\n",
       "      <td>1.0</td>\n",
       "      <td>0.8</td>\n",
       "      <td>0.400000</td>\n",
       "      <td>0.000000</td>\n",
       "      <td>1.600000</td>\n",
       "      <td>1.000000</td>\n",
       "      <td>0.000000</td>\n",
       "      <td>0.200000</td>\n",
       "      <td>3.0</td>\n",
       "      <td>3.0</td>\n",
       "      <td>5.0</td>\n",
       "    </tr>\n",
       "  </tbody>\n",
       "</table>\n",
       "</div>"
      ],
      "text/plain": [
       "                 hair  feathers     eggs  milk  airborne   aquatic  predator  \\\n",
       "Class_Type                                                                     \n",
       "Amphibian     0.00000       0.0  1.00000   0.0   0.00000  1.000000  0.750000   \n",
       "Bird          0.00000       1.0  1.00000   0.0   0.80000  0.300000  0.450000   \n",
       "Bug           0.50000       0.0  1.00000   0.0   0.75000  0.000000  0.125000   \n",
       "Fish          0.00000       0.0  1.00000   0.0   0.00000  1.000000  0.692308   \n",
       "Invertebrate  0.00000       0.0  0.90000   0.0   0.00000  0.600000  0.800000   \n",
       "Mammal        0.95122       0.0  0.02439   1.0   0.04878  0.146341  0.536585   \n",
       "Reptile       0.00000       0.0  0.80000   0.0   0.00000  0.200000  0.800000   \n",
       "\n",
       "              toothed  backbone  breathes  venomous      fins      legs  \\\n",
       "Class_Type                                                                \n",
       "Amphibian     1.00000       1.0       1.0  0.250000  0.000000  4.000000   \n",
       "Bird          0.00000       1.0       1.0  0.000000  0.000000  2.000000   \n",
       "Bug           0.00000       0.0       1.0  0.250000  0.000000  6.000000   \n",
       "Fish          1.00000       1.0       0.0  0.076923  1.000000  0.000000   \n",
       "Invertebrate  0.00000       0.0       0.3  0.200000  0.000000  3.700000   \n",
       "Mammal        0.97561       1.0       1.0  0.000000  0.097561  3.365854   \n",
       "Reptile       0.80000       1.0       0.8  0.400000  0.000000  1.600000   \n",
       "\n",
       "                  tail  domestic   catsize  class_type  Class_Number  \\\n",
       "Class_Type                                                             \n",
       "Amphibian     0.250000  0.000000  0.000000         5.0           5.0   \n",
       "Bird          1.000000  0.150000  0.300000         2.0           2.0   \n",
       "Bug           0.000000  0.125000  0.000000         6.0           6.0   \n",
       "Fish          1.000000  0.076923  0.307692         4.0           4.0   \n",
       "Invertebrate  0.100000  0.000000  0.100000         7.0           7.0   \n",
       "Mammal        0.853659  0.195122  0.780488         1.0           1.0   \n",
       "Reptile       1.000000  0.000000  0.200000         3.0           3.0   \n",
       "\n",
       "              Number_Of_Animal_Species_In_Class  \n",
       "Class_Type                                       \n",
       "Amphibian                                   4.0  \n",
       "Bird                                       20.0  \n",
       "Bug                                         8.0  \n",
       "Fish                                       13.0  \n",
       "Invertebrate                               10.0  \n",
       "Mammal                                     41.0  \n",
       "Reptile                                     5.0  "
      ]
     },
     "execution_count": 96,
     "metadata": {},
     "output_type": "execute_result"
    }
   ],
   "source": [
    "df.groupby('Class_Type').mean()"
   ]
  },
  {
   "cell_type": "markdown",
   "metadata": {
    "_uuid": "8eed5ba2e740cbff2b2d23b657d27c55f8d3d48a"
   },
   "source": [
    "It is too obvious that if \"milk\" exists, then the animal is mammal; if \"feathers\" exists, then it should be bird. "
   ]
  },
  {
   "cell_type": "code",
   "execution_count": 97,
   "metadata": {
    "_uuid": "b1ab41daea04dcd2c01119b9b29845a37bda6d03",
    "collapsed": false
   },
   "outputs": [
    {
     "data": {
      "image/png": "[encoded data removed]",
      "text/plain": [
       "<matplotlib.figure.Figure at 0x1fa57eeef28>"
      ]
     },
     "metadata": {},
     "output_type": "display_data"
    }
   ],
   "source": [
    "# checking leg number in each class\n",
    "g = sns.FacetGrid(df, col=\"Class_Type\")\n",
    "g.map(plt.hist, \"legs\")\n",
    "plt.show()"
   ]
  },
  {
   "cell_type": "markdown",
   "metadata": {
    "_uuid": "349c2cc78169c7b9f6827a5f3e55898da655ee27"
   },
   "source": [
    "**4. Classification & Cross Validation **"
   ]
  },
  {
   "cell_type": "markdown",
   "metadata": {
    "_uuid": "efc481e33b7cf8cbf185552336972117e549ebf4"
   },
   "source": [
    "**4.1 Split train and test dataset **"
   ]
  },
  {
   "cell_type": "code",
   "execution_count": 98,
   "metadata": {
    "_uuid": "c9bf9889b81ac8cdfbfaefa2abe29eea29272db5",
    "collapsed": false
   },
   "outputs": [],
   "source": [
    "from sklearn.model_selection import train_test_split\n",
    "#get predictor varialbes - columns 1-17 in merged dataset\n",
    "X = animal.iloc[:,1:17]\n",
    "#get target variable - \"class type\"\n",
    "y = animal.iloc[:,17]\n",
    "X_train, X_test, y_train, y_test = train_test_split(X, y, test_size=0.2, random_state=1, stratify=y)#80/20 train test split"
   ]
  },
  {
   "cell_type": "markdown",
   "metadata": {
    "_uuid": "b6d8fa7fc80543bd2b82a0e7ed977a3eeaa158f7"
   },
   "source": [
    "**4.2 Perceptron Method - In machine learning, the perceptron is an algorithm for supervised learning of binary classifiers:\n",
    "**<br>Perceptron is good for multi-class classification, which might be a good method for us, since we have 7 animal classes."
   ]
  },
  {
   "cell_type": "code",
   "execution_count": 99,
   "metadata": {
    "_uuid": "abca1960e136a99efd5c3ba7f387fdfc0bcfd08d",
    "collapsed": false
   },
   "outputs": [
    {
     "name": "stderr",
     "output_type": "stream",
     "text": [
      "C:\\Program Files\\Anaconda3\\lib\\site-packages\\sklearn\\linear_model\\stochastic_gradient.py:84: FutureWarning: max_iter and tol parameters have been added in <class 'sklearn.linear_model.perceptron.Perceptron'> in 0.19. If both are left unset, they default to max_iter=5 and tol=None. If tol is not None, max_iter defaults to max_iter=1000. From 0.21, default max_iter will be 1000, and default tol will be 1e-3.\n",
      "  \"and default tol will be 1e-3.\" % type(self), FutureWarning)\n"
     ]
    },
    {
     "data": {
      "text/plain": [
       "0.90476190476190477"
      ]
     },
     "execution_count": 99,
     "metadata": {},
     "output_type": "execute_result"
    }
   ],
   "source": [
    "from sklearn.linear_model import Perceptron\n",
    "ppn = Perceptron(eta0=1, random_state=1)\n",
    "ppn.fit(X_train, y_train) #build model using training data\n",
    "# make prediction\n",
    "y_pred = ppn.predict(X_test)\n",
    "# check model accuracy\n",
    "accuracy_score(y_pred,y_test)"
   ]
  },
  {
   "cell_type": "code",
   "execution_count": 100,
   "metadata": {
    "_uuid": "8042be745e235fd12f8eb78d5f3a8469c1e745d3",
    "collapsed": false
   },
   "outputs": [
    {
     "name": "stderr",
     "output_type": "stream",
     "text": [
      "C:\\Program Files\\Anaconda3\\lib\\site-packages\\sklearn\\linear_model\\stochastic_gradient.py:84: FutureWarning: max_iter and tol parameters have been added in <class 'sklearn.linear_model.perceptron.Perceptron'> in 0.19. If both are left unset, they default to max_iter=5 and tol=None. If tol is not None, max_iter defaults to max_iter=1000. From 0.21, default max_iter will be 1000, and default tol will be 1e-3.\n",
      "  \"and default tol will be 1e-3.\" % type(self), FutureWarning)\n"
     ]
    },
    {
     "data": {
      "text/plain": [
       "0.967741935483871"
      ]
     },
     "execution_count": 100,
     "metadata": {},
     "output_type": "execute_result"
    }
   ],
   "source": [
    "# re-run and test perceptron classification model using 70/30 split\n",
    "X_train, X_test, y_train, y_test = train_test_split(X, y, test_size=0.3, random_state=1, stratify=y)\n",
    "ppn = Perceptron(eta0=1, random_state=1)\n",
    "ppn.fit(X_train, y_train)\n",
    "y_pred = ppn.predict(X_test)\n",
    "accuracy_score(y_pred,y_test)"
   ]
  },
  {
   "cell_type": "markdown",
   "metadata": {
    "_uuid": "ece0a728d2d87a7d85f828f5994be9c2c73a42e6"
   },
   "source": [
    "By spliting train/test dataset again did make the model to fit better. But I would do a cross validation for this model."
   ]
  },
  {
   "cell_type": "markdown",
   "metadata": {
    "_uuid": "65e7a4cd650c6b0f4e9ecf5ac93eeaf16deeb698"
   },
   "source": [
    "**4.2.1 Cross Validation for Perceptron Method**<br>\n",
    "K-fold CV - we split our data into k subsets, and train on k-1 one of those subset. What we do is to hold the last subset for test.<br>\n",
    "* A model is trained using k-1 of the folds as training data<br>\n",
    "* the resulting model is validated on the remaining part of the data (i.e., it is used as a test set to compute a performance measure such as accuracy)."
   ]
  },
  {
   "cell_type": "code",
   "execution_count": 101,
   "metadata": {
    "_uuid": "6637f75eec90b74e905edb3e46d4a50ffec14614",
    "collapsed": false
   },
   "outputs": [
    {
     "name": "stderr",
     "output_type": "stream",
     "text": [
      "C:\\Program Files\\Anaconda3\\lib\\site-packages\\sklearn\\model_selection\\_split.py:597: Warning: The least populated class in y has only 4 members, which is too few. The minimum number of members in any class cannot be less than n_splits=5.\n",
      "  % (min_groups, self.n_splits)), Warning)\n"
     ]
    },
    {
     "data": {
      "text/plain": [
       "array([ 0.90909091,  0.85714286,  0.9047619 ,  0.89473684,  0.88888889])"
      ]
     },
     "execution_count": 101,
     "metadata": {},
     "output_type": "execute_result"
    }
   ],
   "source": [
    "from sklearn.model_selection import cross_val_score\n",
    "score_ppn=cross_val_score(ppn, X,y, cv=5)\n",
    "score_ppn"
   ]
  },
  {
   "cell_type": "code",
   "execution_count": 102,
   "metadata": {
    "_uuid": "e3190752cc2d67ecd711b179ac3f5cceb4066ae6",
    "collapsed": false
   },
   "outputs": [
    {
     "name": "stdout",
     "output_type": "stream",
     "text": [
      "Accuracy: 0.89 (+/- 0.04)\n"
     ]
    }
   ],
   "source": [
    "# The mean score and the 95% confidence interval of the score estimate are:\n",
    "print(\"Accuracy: %0.2f (+/- %0.2f)\" % (score_ppn.mean(), score_ppn.std() * 2))"
   ]
  },
  {
   "cell_type": "markdown",
   "metadata": {
    "_uuid": "a0b8f6df09a4af1089adfa300dd35194dc3e6ada"
   },
   "source": [
    "So the accuracy for Perceptron model is around 0.89, which is fine, but I'd like to try some other models."
   ]
  },
  {
   "cell_type": "markdown",
   "metadata": {
    "_uuid": "267a25234f65b203e8fb2383f3fad494bd520bc2"
   },
   "source": [
    "**4.3 Decision Tree**"
   ]
  },
  {
   "cell_type": "code",
   "execution_count": 103,
   "metadata": {
    "_uuid": "890bdbd8259dc63bcca7bb31d8de3b56366742da",
    "collapsed": false
   },
   "outputs": [
    {
     "name": "stderr",
     "output_type": "stream",
     "text": [
      "C:\\Program Files\\Anaconda3\\lib\\site-packages\\sklearn\\model_selection\\_split.py:597: Warning: The least populated class in y has only 4 members, which is too few. The minimum number of members in any class cannot be less than n_splits=5.\n",
      "  % (min_groups, self.n_splits)), Warning)\n"
     ]
    },
    {
     "data": {
      "text/plain": [
       "array([ 1.        ,  0.85714286,  0.9047619 ,  1.        ,  0.94444444])"
      ]
     },
     "execution_count": 103,
     "metadata": {},
     "output_type": "execute_result"
    }
   ],
   "source": [
    "from sklearn import tree\n",
    "dt = tree.DecisionTreeClassifier()\n",
    "score_dt=cross_val_score(dt, X,y, cv=5)\n",
    "score_dt"
   ]
  },
  {
   "cell_type": "code",
   "execution_count": 104,
   "metadata": {
    "_uuid": "5dba663fe4f21792731e2eb39bbb1130d46df23f",
    "collapsed": false
   },
   "outputs": [
    {
     "name": "stdout",
     "output_type": "stream",
     "text": [
      "Accuracy: 0.94 (+/- 0.11)\n"
     ]
    }
   ],
   "source": [
    "# The mean score and the 95% confidence interval of the score estimate are:\n",
    "print(\"Accuracy: %0.2f (+/- %0.2f)\" % (score_dt.mean(), score_dt.std() * 2))"
   ]
  },
  {
   "cell_type": "markdown",
   "metadata": {
    "_uuid": "736cc4cb90355e37d14bc917c28861086cef658e"
   },
   "source": [
    "**4.4 SVM**"
   ]
  },
  {
   "cell_type": "code",
   "execution_count": 105,
   "metadata": {
    "_uuid": "1216d7f9c5c932314b3e40706016394e78e93921",
    "collapsed": false
   },
   "outputs": [
    {
     "name": "stderr",
     "output_type": "stream",
     "text": [
      "C:\\Program Files\\Anaconda3\\lib\\site-packages\\sklearn\\model_selection\\_split.py:597: Warning: The least populated class in y has only 4 members, which is too few. The minimum number of members in any class cannot be less than n_splits=5.\n",
      "  % (min_groups, self.n_splits)), Warning)\n"
     ]
    },
    {
     "data": {
      "text/plain": [
       "array([ 1.        ,  0.95238095,  0.9047619 ,  1.        ,  0.94444444])"
      ]
     },
     "execution_count": 105,
     "metadata": {},
     "output_type": "execute_result"
    }
   ],
   "source": [
    "#Multiclass SVM aims to assign labels to instances by using support-vector machines, where the labels are \n",
    "#drawn from a finite set of several elements. #The dominant approach for doing so is to reduce the \n",
    "#single multiclass SVM problem into multiple binary classification problems\n",
    "from sklearn.svm import SVC #Support Vector Classification - multiple groups\n",
    "svc = SVC(kernel='linear', C=1) #linear classification\n",
    "score_svc=cross_val_score(svc, X,y, cv=5)\n",
    "score_svc"
   ]
  },
  {
   "cell_type": "code",
   "execution_count": 106,
   "metadata": {
    "_uuid": "5306d7a1b39eec93d1e678a0d03c6acaf54b2e6e",
    "collapsed": false
   },
   "outputs": [
    {
     "name": "stdout",
     "output_type": "stream",
     "text": [
      "Accuracy: 0.96 (+/- 0.07)\n"
     ]
    }
   ],
   "source": [
    "# The mean score and the 95% confidence interval of the score estimate are:\n",
    "print(\"Accuracy: %0.2f (+/- %0.2f)\" % (score_svc.mean(), score_svc.std() * 2))"
   ]
  },
  {
   "cell_type": "markdown",
   "metadata": {
    "_uuid": "d170ae17b9ad5b6b27f20025e3b823647ae07233"
   },
   "source": [
    "**4.5 Multiclass Logistic Regression**"
   ]
  },
  {
   "cell_type": "code",
   "execution_count": 107,
   "metadata": {
    "_uuid": "10ced4a19dfdd598d3d86bb72f655e3a3002e93d",
    "collapsed": false,
    "scrolled": true
   },
   "outputs": [
    {
     "name": "stderr",
     "output_type": "stream",
     "text": [
      "C:\\Program Files\\Anaconda3\\lib\\site-packages\\sklearn\\model_selection\\_split.py:597: Warning: The least populated class in y has only 4 members, which is too few. The minimum number of members in any class cannot be less than n_splits=5.\n",
      "  % (min_groups, self.n_splits)), Warning)\n"
     ]
    },
    {
     "data": {
      "text/plain": [
       "array([ 1.        ,  0.95238095,  0.9047619 ,  0.94736842,  0.94444444])"
      ]
     },
     "execution_count": 107,
     "metadata": {},
     "output_type": "execute_result"
    }
   ],
   "source": [
    "from sklearn.linear_model import LogisticRegression\n",
    "lr = LogisticRegression(multi_class='multinomial', solver='newton-cg')\n",
    "score_lr=cross_val_score(lr, X,y, cv=5)\n",
    "score_lr"
   ]
  },
  {
   "cell_type": "code",
   "execution_count": 108,
   "metadata": {
    "_uuid": "1df105186080606332576fbeab67a635bb129b68",
    "collapsed": false
   },
   "outputs": [
    {
     "name": "stdout",
     "output_type": "stream",
     "text": [
      "Accuracy: 0.95 (+/- 0.06)\n"
     ]
    }
   ],
   "source": [
    "# The mean score and the 95% confidence interval of the score estimate are:\n",
    "print(\"Accuracy: %0.2f (+/- %0.2f)\" % (score_lr.mean(), score_lr.std() * 2))"
   ]
  },
  {
   "cell_type": "markdown",
   "metadata": {
    "_uuid": "86be835a398e063578ff897b93a1767c7b2059ce"
   },
   "source": [
    "**5. Summary**"
   ]
  },
  {
   "cell_type": "code",
   "execution_count": 109,
   "metadata": {
    "_uuid": "5869c55a180aeef92d0c359816248851ec9c5d2c",
    "collapsed": false
   },
   "outputs": [
    {
     "data": {
      "text/html": [
       "<div>\n",
       "<table border=\"1\" class=\"dataframe\">\n",
       "  <thead>\n",
       "    <tr style=\"text-align: right;\">\n",
       "      <th></th>\n",
       "      <th>Model</th>\n",
       "      <th>Score</th>\n",
       "    </tr>\n",
       "  </thead>\n",
       "  <tbody>\n",
       "    <tr>\n",
       "      <th>0</th>\n",
       "      <td>Support Vector Machines</td>\n",
       "      <td>0.960317</td>\n",
       "    </tr>\n",
       "    <tr>\n",
       "      <th>1</th>\n",
       "      <td>Logistic Regression</td>\n",
       "      <td>0.949791</td>\n",
       "    </tr>\n",
       "    <tr>\n",
       "      <th>3</th>\n",
       "      <td>Decision Tree</td>\n",
       "      <td>0.941270</td>\n",
       "    </tr>\n",
       "    <tr>\n",
       "      <th>2</th>\n",
       "      <td>Perceptron</td>\n",
       "      <td>0.890924</td>\n",
       "    </tr>\n",
       "  </tbody>\n",
       "</table>\n",
       "</div>"
      ],
      "text/plain": [
       "                     Model     Score\n",
       "0  Support Vector Machines  0.960317\n",
       "1      Logistic Regression  0.949791\n",
       "3            Decision Tree  0.941270\n",
       "2               Perceptron  0.890924"
      ]
     },
     "execution_count": 109,
     "metadata": {},
     "output_type": "execute_result"
    }
   ],
   "source": [
    "models = pd.DataFrame({\n",
    "    'Model': ['Support Vector Machines', 'Logistic Regression', 'Perceptron', 'Decision Tree'],\n",
    "    'Score': [score_svc.mean(), score_lr.mean(), score_ppn.mean(), score_dt.mean()]})\n",
    "models.sort_values(by='Score', ascending=False)"
   ]
  },
  {
   "cell_type": "markdown",
   "metadata": {
    "_uuid": "e8eb3a7241227f2a2b017759f1ae69f4b0a0fc5d"
   },
   "source": [
    "After comparing the score of each model, the SVM model seems to be the most accurate."
   ]
  }
 ],
 "metadata": {
  "kernelspec": {
   "display_name": "Python 3",
   "language": "python",
   "name": "python3"
  },
  "language_info": {
   "codemirror_mode": {
    "name": "ipython",
    "version": 3
   },
   "file_extension": ".py",
   "mimetype": "text/x-python",
   "name": "python",
   "nbconvert_exporter": "python",
   "pygments_lexer": "ipython3",
   "version": "3.6.0"
  }
 },
 "nbformat": 4,
 "nbformat_minor": 1
}
